{
 "cells": [
  {
   "cell_type": "code",
   "execution_count": 11,
   "metadata": {},
   "outputs": [
    {
     "data": {
      "text/html": [
       "<div>\n",
       "<style scoped>\n",
       "    .dataframe tbody tr th:only-of-type {\n",
       "        vertical-align: middle;\n",
       "    }\n",
       "\n",
       "    .dataframe tbody tr th {\n",
       "        vertical-align: top;\n",
       "    }\n",
       "\n",
       "    .dataframe thead th {\n",
       "        text-align: right;\n",
       "    }\n",
       "</style>\n",
       "<table border=\"1\" class=\"dataframe\">\n",
       "  <thead>\n",
       "    <tr style=\"text-align: right;\">\n",
       "      <th></th>\n",
       "      <th>고객_유니크id</th>\n",
       "      <th>고객_도시</th>\n",
       "      <th>고객_주(state)</th>\n",
       "      <th>주문id</th>\n",
       "      <th>주문상태</th>\n",
       "      <th>구매시간</th>\n",
       "      <th>주문승인일</th>\n",
       "      <th>배송시작일</th>\n",
       "      <th>배송일</th>\n",
       "      <th>예상배송일</th>\n",
       "      <th>...</th>\n",
       "      <th>결제금액_usd</th>\n",
       "      <th>운임가격_usd</th>\n",
       "      <th>고객_판매자_거리_km</th>\n",
       "      <th>구매count</th>\n",
       "      <th>배송지연시간</th>\n",
       "      <th>주문처리시간</th>\n",
       "      <th>배송소요시간</th>\n",
       "      <th>전체물류처리시간</th>\n",
       "      <th>리뷰답변_처리속도</th>\n",
       "      <th>category_대분류</th>\n",
       "    </tr>\n",
       "  </thead>\n",
       "  <tbody>\n",
       "    <tr>\n",
       "      <th>0</th>\n",
       "      <td>861eff4711a542e4b93843c6dd7febb0</td>\n",
       "      <td>franca</td>\n",
       "      <td>SP</td>\n",
       "      <td>00e7ee1b050b8499577073aeb2a297a1</td>\n",
       "      <td>delivered</td>\n",
       "      <td>2017-05-16 15:05:35</td>\n",
       "      <td>2017-05-16 15:22:12</td>\n",
       "      <td>2017-05-23 10:47:57</td>\n",
       "      <td>2017-05-25 10:35:35</td>\n",
       "      <td>2017-06-05</td>\n",
       "      <td>...</td>\n",
       "      <td>46.040752</td>\n",
       "      <td>6.858934</td>\n",
       "      <td>348.770656</td>\n",
       "      <td>1</td>\n",
       "      <td>-11.0</td>\n",
       "      <td>0</td>\n",
       "      <td>1.0</td>\n",
       "      <td>8.0</td>\n",
       "      <td>4</td>\n",
       "      <td>가구/인테리어</td>\n",
       "    </tr>\n",
       "    <tr>\n",
       "      <th>1</th>\n",
       "      <td>9eae34bbd3a474ec5d07949ca7de67c0</td>\n",
       "      <td>santarem</td>\n",
       "      <td>PA</td>\n",
       "      <td>c1d2b34febe9cd269e378117d6681172</td>\n",
       "      <td>delivered</td>\n",
       "      <td>2017-11-09 00:50:13</td>\n",
       "      <td>2017-11-10 00:47:48</td>\n",
       "      <td>2017-11-22 01:43:37</td>\n",
       "      <td>2017-11-28 00:09:50</td>\n",
       "      <td>2017-12-19</td>\n",
       "      <td>...</td>\n",
       "      <td>86.454545</td>\n",
       "      <td>7.805643</td>\n",
       "      <td>2506.927836</td>\n",
       "      <td>1</td>\n",
       "      <td>-21.0</td>\n",
       "      <td>0</td>\n",
       "      <td>5.0</td>\n",
       "      <td>17.0</td>\n",
       "      <td>2</td>\n",
       "      <td>가구/인테리어</td>\n",
       "    </tr>\n",
       "    <tr>\n",
       "      <th>2</th>\n",
       "      <td>3c799d181c34d51f6d44bbbc563024db</td>\n",
       "      <td>nova santa rita</td>\n",
       "      <td>RS</td>\n",
       "      <td>b1a5d5365d330d10485e0203d54ab9e8</td>\n",
       "      <td>delivered</td>\n",
       "      <td>2017-05-07 20:11:26</td>\n",
       "      <td>2017-05-08 22:22:56</td>\n",
       "      <td>2017-05-19 20:16:31</td>\n",
       "      <td>2017-05-26 09:54:04</td>\n",
       "      <td>2017-06-12</td>\n",
       "      <td>...</td>\n",
       "      <td>44.078370</td>\n",
       "      <td>4.896552</td>\n",
       "      <td>860.018003</td>\n",
       "      <td>1</td>\n",
       "      <td>-17.0</td>\n",
       "      <td>1</td>\n",
       "      <td>6.0</td>\n",
       "      <td>17.0</td>\n",
       "      <td>1</td>\n",
       "      <td>가구/인테리어</td>\n",
       "    </tr>\n",
       "    <tr>\n",
       "      <th>3</th>\n",
       "      <td>567ab47ca4deb92d46dbf54dce07d0a7</td>\n",
       "      <td>angelina</td>\n",
       "      <td>SC</td>\n",
       "      <td>574fe1739f65af76badd0999db300b4f</td>\n",
       "      <td>delivered</td>\n",
       "      <td>2017-03-23 15:10:17</td>\n",
       "      <td>2017-03-23 15:25:11</td>\n",
       "      <td>2017-03-28 18:23:51</td>\n",
       "      <td>2017-04-11 10:16:56</td>\n",
       "      <td>2017-04-24</td>\n",
       "      <td>...</td>\n",
       "      <td>44.529781</td>\n",
       "      <td>4.721003</td>\n",
       "      <td>525.701996</td>\n",
       "      <td>1</td>\n",
       "      <td>-13.0</td>\n",
       "      <td>0</td>\n",
       "      <td>13.0</td>\n",
       "      <td>18.0</td>\n",
       "      <td>3</td>\n",
       "      <td>가구/인테리어</td>\n",
       "    </tr>\n",
       "    <tr>\n",
       "      <th>4</th>\n",
       "      <td>f40ab89b622248b7ca125af4b486b887</td>\n",
       "      <td>contagem</td>\n",
       "      <td>MG</td>\n",
       "      <td>e0b26f14d2bcc710bb02f77a4628763b</td>\n",
       "      <td>delivered</td>\n",
       "      <td>2017-05-16 10:00:49</td>\n",
       "      <td>2017-05-17 03:45:27</td>\n",
       "      <td>2017-05-23 10:35:48</td>\n",
       "      <td>2017-05-29 12:04:19</td>\n",
       "      <td>2017-06-07</td>\n",
       "      <td>...</td>\n",
       "      <td>48.808777</td>\n",
       "      <td>9.626959</td>\n",
       "      <td>461.801509</td>\n",
       "      <td>1</td>\n",
       "      <td>-9.0</td>\n",
       "      <td>0</td>\n",
       "      <td>6.0</td>\n",
       "      <td>12.0</td>\n",
       "      <td>1</td>\n",
       "      <td>가구/인테리어</td>\n",
       "    </tr>\n",
       "  </tbody>\n",
       "</table>\n",
       "<p>5 rows × 49 columns</p>\n",
       "</div>"
      ],
      "text/plain": [
       "                           고객_유니크id            고객_도시 고객_주(state)   \n",
       "0  861eff4711a542e4b93843c6dd7febb0           franca          SP  \\\n",
       "1  9eae34bbd3a474ec5d07949ca7de67c0         santarem          PA   \n",
       "2  3c799d181c34d51f6d44bbbc563024db  nova santa rita          RS   \n",
       "3  567ab47ca4deb92d46dbf54dce07d0a7         angelina          SC   \n",
       "4  f40ab89b622248b7ca125af4b486b887         contagem          MG   \n",
       "\n",
       "                               주문id       주문상태                 구매시간   \n",
       "0  00e7ee1b050b8499577073aeb2a297a1  delivered  2017-05-16 15:05:35  \\\n",
       "1  c1d2b34febe9cd269e378117d6681172  delivered  2017-11-09 00:50:13   \n",
       "2  b1a5d5365d330d10485e0203d54ab9e8  delivered  2017-05-07 20:11:26   \n",
       "3  574fe1739f65af76badd0999db300b4f  delivered  2017-03-23 15:10:17   \n",
       "4  e0b26f14d2bcc710bb02f77a4628763b  delivered  2017-05-16 10:00:49   \n",
       "\n",
       "                 주문승인일                배송시작일                  배송일       예상배송일   \n",
       "0  2017-05-16 15:22:12  2017-05-23 10:47:57  2017-05-25 10:35:35  2017-06-05  \\\n",
       "1  2017-11-10 00:47:48  2017-11-22 01:43:37  2017-11-28 00:09:50  2017-12-19   \n",
       "2  2017-05-08 22:22:56  2017-05-19 20:16:31  2017-05-26 09:54:04  2017-06-12   \n",
       "3  2017-03-23 15:25:11  2017-03-28 18:23:51  2017-04-11 10:16:56  2017-04-24   \n",
       "4  2017-05-17 03:45:27  2017-05-23 10:35:48  2017-05-29 12:04:19  2017-06-07   \n",
       "\n",
       "   ...   결제금액_usd  운임가격_usd 고객_판매자_거리_km 구매count  배송지연시간 주문처리시간  배송소요시간   \n",
       "0  ...  46.040752  6.858934   348.770656       1   -11.0      0     1.0  \\\n",
       "1  ...  86.454545  7.805643  2506.927836       1   -21.0      0     5.0   \n",
       "2  ...  44.078370  4.896552   860.018003       1   -17.0      1     6.0   \n",
       "3  ...  44.529781  4.721003   525.701996       1   -13.0      0    13.0   \n",
       "4  ...  48.808777  9.626959   461.801509       1    -9.0      0     6.0   \n",
       "\n",
       "  전체물류처리시간  리뷰답변_처리속도 category_대분류  \n",
       "0      8.0          4      가구/인테리어  \n",
       "1     17.0          2      가구/인테리어  \n",
       "2     17.0          1      가구/인테리어  \n",
       "3     18.0          3      가구/인테리어  \n",
       "4     12.0          1      가구/인테리어  \n",
       "\n",
       "[5 rows x 49 columns]"
      ]
     },
     "execution_count": 11,
     "metadata": {},
     "output_type": "execute_result"
    }
   ],
   "source": [
    "import pandas as pd\n",
    "import numpy as np\n",
    "\n",
    "df= pd.read_csv('Brazil_olist_이커머스데이터(기본전처리).csv', index_col=0)\n",
    "df.head()"
   ]
  },
  {
   "cell_type": "code",
   "execution_count": 12,
   "metadata": {},
   "outputs": [],
   "source": [
    "# 코호트 함수\n",
    "\n",
    "from pandas import Series\n",
    "from pandas import DataFrame\n",
    " \n",
    "import matplotlib.pyplot as plt\n",
    "import seaborn as sns\n",
    " \n",
    "import pandas as pd\n",
    "import warnings\n",
    "warnings.filterwarnings('ignore')\n",
    "\n",
    "\n",
    "def make_cohort_chart(co):\n",
    "    \n",
    "    co['date'] = pd.to_datetime(co['date'])\n",
    "\n",
    "    co['구매주기'] = co['date'].dt.strftime('%Y.%m') # 월단위로 ?\n",
    "\n",
    "    ### 코호트 분석에 필요한 변수 생성\n",
    "    # 고객별 첫 구매가 언제 이뤄졌는지 파악하기 -> 그뒤 고객 첫 구매데이터를 df 에 붙이기\n",
    "    first_order = co.groupby('고객_유니크id')['date'].min()\n",
    "    first_order = first_order.dt.strftime('%Y.%m')\n",
    "\n",
    "    co = co.set_index('고객_유니크id')\n",
    "    co['첫구매'] = first_order\n",
    "    co.reset_index(inplace = True)\n",
    "    \n",
    "    ## 월별로 구매 고객 데이터 치환해보기\n",
    "    ## 주기별 구매 User 계산\n",
    "    co1 = co.groupby(['첫구매', '구매주기'])['고객_유니크id'].nunique()\n",
    "    co1 = co1.reset_index()\n",
    "    co1.rename({'고객_유니크id': '총고객'}, axis = 1, inplace = True)\n",
    "    \n",
    "    \n",
    "    ## 주기별 구매 금액 계산\n",
    "    co2 =co.groupby(['첫구매', '구매주기'])['결제금액_usd'].sum()\n",
    "    co2 = co2.reset_index()\n",
    "    co2.rename({'결제금액_usd': '총 구매'}, axis = 1, inplace = True)\n",
    "    \n",
    "    \n",
    "    ## 데이터의 병합\n",
    "    co = co1.merge(co2, on = ['첫구매', '구매주기'])\n",
    "    co.head()\n",
    "\n",
    "    ### 코호트를 첫구매월로 한거지?\n",
    "\n",
    "    from tqdm import tqdm\n",
    "    temp = []\n",
    "    \n",
    "    for i in tqdm(range(co.shape[0])):\n",
    "        f_first_order = pd.to_datetime(co['첫구매'][i]).to_period('M')\n",
    "        f_order_cycle = pd.to_datetime(co['구매주기'][i]).to_period('M')\n",
    "        \n",
    "        month_diff = (f_order_cycle - f_first_order).n\n",
    "        \n",
    "        temp.append(month_diff)\n",
    "    co['CohortPeriod'] = temp\n",
    "\n",
    "    ## 첫 번째. 재방문율 계산을 위한 Pandas Unstack 활용\n",
    "    co_retention = co.set_index(['첫구매', 'CohortPeriod'])\n",
    "    co_retention = co_retention['총고객'].unstack(1)\n",
    "    retention = co_retention.div(co_retention[0],axis = 0)\n",
    "    \n",
    "    \n",
    "    ## 두 번째. 구매 규모 형태 치환을 위한 Pandas Unstack 활용\n",
    "    co_purchase = co.set_index(['첫구매', 'CohortPeriod'])\n",
    "    co_purchase = co_purchase['총 구매'].unstack(1)\n",
    "    \n",
    "    plt.rcParams['figure.figsize'] = (15, 12) \n",
    "    sns.heatmap( retention ,  annot = True, fmt = '.1%')"
   ]
  },
  {
   "cell_type": "code",
   "execution_count": null,
   "metadata": {},
   "outputs": [],
   "source": [
    "\n"
   ]
  },
  {
   "cell_type": "markdown",
   "metadata": {},
   "source": [
    "# 1) 상황파악 (EDA) & 문제정의"
   ]
  },
  {
   "cell_type": "markdown",
   "metadata": {},
   "source": [
    "## 상황 \n",
    "\n",
    "- 확인한 주요 지표 : 매출 , 주문량, 이탈률 등\n",
    "- 이탈률: 96% / 재구매율 : 4% \n",
    "\n",
    "- 코호트 분석 결과: 코호트별 재구매율이 모두 1% 미만\n",
    "\n",
    "\n",
    "\n",
    "\n",
    "\n",
    "\n",
    "## 문제 정의\n",
    "\n",
    "- (문제) 월별 분기별 매출은 증가 추세지만 재구매율은 4% 미만으로 꾸준히 낮음.\n",
    "\n",
    "- (해결 방안) ∴ 고객 이탈 원인을 분석해 초기 구매 경험 (배송, 제품 품질 등)이 이탈에 미친 영향을 파악하고, 재구매율을 높이는 방안을 도출합니다.  \n",
    "    - 신규 고객 의존으로 매출 상승 유지 구조는 지속 가능성이 떨어지기 때문.\n",
    "    - ( 고객 획득 비용 증가 (CAC), 매출 안정성 부족,  고객 충성도 부족, 고객 이탈률 증가  , 브랜드 신뢰도 및 평판 저하 )\n",
    "\n",
    "\n",
    "\n",
    " \n",
    "\n",
    " \n",
    "\n",
    "\n",
    "\n"
   ]
  },
  {
   "cell_type": "code",
   "execution_count": 14,
   "metadata": {},
   "outputs": [
    {
     "data": {
      "application/vnd.plotly.v1+json": {
       "config": {
        "plotlyServerURL": "https://plot.ly"
       },
       "data": [
        {
         "mode": "lines+markers",
         "name": "결제금액_usd",
         "type": "scatter",
         "x": [
          "2017Q1",
          "2017Q2",
          "2017Q3",
          "2017Q4",
          "2018Q1",
          "2018Q2",
          "2018Q3"
         ],
         "y": [
          252423.03448275864,
          448031.9247648903,
          590229.7272727273,
          845172.1724137932,
          850976.2547945206,
          891361.3726027397,
          551227.7534246575
         ]
        },
        {
         "line": {
          "color": "red",
          "dash": "dot"
         },
         "mode": "lines",
         "name": "추세선",
         "type": "scatter",
         "x": [
          "2017Q1",
          "2017Q2",
          "2017Q3",
          "2017Q4",
          "2018Q1",
          "2018Q2",
          "2018Q3"
         ],
         "y": [
          413793.9363912424,
          486787.49282064196,
          559781.0492500416,
          632774.6056794411,
          705768.1621088407,
          778761.7185382403,
          851755.2749676399
         ]
        }
       ],
       "layout": {
        "template": {
         "data": {
          "bar": [
           {
            "error_x": {
             "color": "#2a3f5f"
            },
            "error_y": {
             "color": "#2a3f5f"
            },
            "marker": {
             "line": {
              "color": "white",
              "width": 0.5
             },
             "pattern": {
              "fillmode": "overlay",
              "size": 10,
              "solidity": 0.2
             }
            },
            "type": "bar"
           }
          ],
          "barpolar": [
           {
            "marker": {
             "line": {
              "color": "white",
              "width": 0.5
             },
             "pattern": {
              "fillmode": "overlay",
              "size": 10,
              "solidity": 0.2
             }
            },
            "type": "barpolar"
           }
          ],
          "carpet": [
           {
            "aaxis": {
             "endlinecolor": "#2a3f5f",
             "gridcolor": "#C8D4E3",
             "linecolor": "#C8D4E3",
             "minorgridcolor": "#C8D4E3",
             "startlinecolor": "#2a3f5f"
            },
            "baxis": {
             "endlinecolor": "#2a3f5f",
             "gridcolor": "#C8D4E3",
             "linecolor": "#C8D4E3",
             "minorgridcolor": "#C8D4E3",
             "startlinecolor": "#2a3f5f"
            },
            "type": "carpet"
           }
          ],
          "choropleth": [
           {
            "colorbar": {
             "outlinewidth": 0,
             "ticks": ""
            },
            "type": "choropleth"
           }
          ],
          "contour": [
           {
            "colorbar": {
             "outlinewidth": 0,
             "ticks": ""
            },
            "colorscale": [
             [
              0,
              "#0d0887"
             ],
             [
              0.1111111111111111,
              "#46039f"
             ],
             [
              0.2222222222222222,
              "#7201a8"
             ],
             [
              0.3333333333333333,
              "#9c179e"
             ],
             [
              0.4444444444444444,
              "#bd3786"
             ],
             [
              0.5555555555555556,
              "#d8576b"
             ],
             [
              0.6666666666666666,
              "#ed7953"
             ],
             [
              0.7777777777777778,
              "#fb9f3a"
             ],
             [
              0.8888888888888888,
              "#fdca26"
             ],
             [
              1,
              "#f0f921"
             ]
            ],
            "type": "contour"
           }
          ],
          "contourcarpet": [
           {
            "colorbar": {
             "outlinewidth": 0,
             "ticks": ""
            },
            "type": "contourcarpet"
           }
          ],
          "heatmap": [
           {
            "colorbar": {
             "outlinewidth": 0,
             "ticks": ""
            },
            "colorscale": [
             [
              0,
              "#0d0887"
             ],
             [
              0.1111111111111111,
              "#46039f"
             ],
             [
              0.2222222222222222,
              "#7201a8"
             ],
             [
              0.3333333333333333,
              "#9c179e"
             ],
             [
              0.4444444444444444,
              "#bd3786"
             ],
             [
              0.5555555555555556,
              "#d8576b"
             ],
             [
              0.6666666666666666,
              "#ed7953"
             ],
             [
              0.7777777777777778,
              "#fb9f3a"
             ],
             [
              0.8888888888888888,
              "#fdca26"
             ],
             [
              1,
              "#f0f921"
             ]
            ],
            "type": "heatmap"
           }
          ],
          "heatmapgl": [
           {
            "colorbar": {
             "outlinewidth": 0,
             "ticks": ""
            },
            "colorscale": [
             [
              0,
              "#0d0887"
             ],
             [
              0.1111111111111111,
              "#46039f"
             ],
             [
              0.2222222222222222,
              "#7201a8"
             ],
             [
              0.3333333333333333,
              "#9c179e"
             ],
             [
              0.4444444444444444,
              "#bd3786"
             ],
             [
              0.5555555555555556,
              "#d8576b"
             ],
             [
              0.6666666666666666,
              "#ed7953"
             ],
             [
              0.7777777777777778,
              "#fb9f3a"
             ],
             [
              0.8888888888888888,
              "#fdca26"
             ],
             [
              1,
              "#f0f921"
             ]
            ],
            "type": "heatmapgl"
           }
          ],
          "histogram": [
           {
            "marker": {
             "pattern": {
              "fillmode": "overlay",
              "size": 10,
              "solidity": 0.2
             }
            },
            "type": "histogram"
           }
          ],
          "histogram2d": [
           {
            "colorbar": {
             "outlinewidth": 0,
             "ticks": ""
            },
            "colorscale": [
             [
              0,
              "#0d0887"
             ],
             [
              0.1111111111111111,
              "#46039f"
             ],
             [
              0.2222222222222222,
              "#7201a8"
             ],
             [
              0.3333333333333333,
              "#9c179e"
             ],
             [
              0.4444444444444444,
              "#bd3786"
             ],
             [
              0.5555555555555556,
              "#d8576b"
             ],
             [
              0.6666666666666666,
              "#ed7953"
             ],
             [
              0.7777777777777778,
              "#fb9f3a"
             ],
             [
              0.8888888888888888,
              "#fdca26"
             ],
             [
              1,
              "#f0f921"
             ]
            ],
            "type": "histogram2d"
           }
          ],
          "histogram2dcontour": [
           {
            "colorbar": {
             "outlinewidth": 0,
             "ticks": ""
            },
            "colorscale": [
             [
              0,
              "#0d0887"
             ],
             [
              0.1111111111111111,
              "#46039f"
             ],
             [
              0.2222222222222222,
              "#7201a8"
             ],
             [
              0.3333333333333333,
              "#9c179e"
             ],
             [
              0.4444444444444444,
              "#bd3786"
             ],
             [
              0.5555555555555556,
              "#d8576b"
             ],
             [
              0.6666666666666666,
              "#ed7953"
             ],
             [
              0.7777777777777778,
              "#fb9f3a"
             ],
             [
              0.8888888888888888,
              "#fdca26"
             ],
             [
              1,
              "#f0f921"
             ]
            ],
            "type": "histogram2dcontour"
           }
          ],
          "mesh3d": [
           {
            "colorbar": {
             "outlinewidth": 0,
             "ticks": ""
            },
            "type": "mesh3d"
           }
          ],
          "parcoords": [
           {
            "line": {
             "colorbar": {
              "outlinewidth": 0,
              "ticks": ""
             }
            },
            "type": "parcoords"
           }
          ],
          "pie": [
           {
            "automargin": true,
            "type": "pie"
           }
          ],
          "scatter": [
           {
            "fillpattern": {
             "fillmode": "overlay",
             "size": 10,
             "solidity": 0.2
            },
            "type": "scatter"
           }
          ],
          "scatter3d": [
           {
            "line": {
             "colorbar": {
              "outlinewidth": 0,
              "ticks": ""
             }
            },
            "marker": {
             "colorbar": {
              "outlinewidth": 0,
              "ticks": ""
             }
            },
            "type": "scatter3d"
           }
          ],
          "scattercarpet": [
           {
            "marker": {
             "colorbar": {
              "outlinewidth": 0,
              "ticks": ""
             }
            },
            "type": "scattercarpet"
           }
          ],
          "scattergeo": [
           {
            "marker": {
             "colorbar": {
              "outlinewidth": 0,
              "ticks": ""
             }
            },
            "type": "scattergeo"
           }
          ],
          "scattergl": [
           {
            "marker": {
             "colorbar": {
              "outlinewidth": 0,
              "ticks": ""
             }
            },
            "type": "scattergl"
           }
          ],
          "scattermapbox": [
           {
            "marker": {
             "colorbar": {
              "outlinewidth": 0,
              "ticks": ""
             }
            },
            "type": "scattermapbox"
           }
          ],
          "scatterpolar": [
           {
            "marker": {
             "colorbar": {
              "outlinewidth": 0,
              "ticks": ""
             }
            },
            "type": "scatterpolar"
           }
          ],
          "scatterpolargl": [
           {
            "marker": {
             "colorbar": {
              "outlinewidth": 0,
              "ticks": ""
             }
            },
            "type": "scatterpolargl"
           }
          ],
          "scatterternary": [
           {
            "marker": {
             "colorbar": {
              "outlinewidth": 0,
              "ticks": ""
             }
            },
            "type": "scatterternary"
           }
          ],
          "surface": [
           {
            "colorbar": {
             "outlinewidth": 0,
             "ticks": ""
            },
            "colorscale": [
             [
              0,
              "#0d0887"
             ],
             [
              0.1111111111111111,
              "#46039f"
             ],
             [
              0.2222222222222222,
              "#7201a8"
             ],
             [
              0.3333333333333333,
              "#9c179e"
             ],
             [
              0.4444444444444444,
              "#bd3786"
             ],
             [
              0.5555555555555556,
              "#d8576b"
             ],
             [
              0.6666666666666666,
              "#ed7953"
             ],
             [
              0.7777777777777778,
              "#fb9f3a"
             ],
             [
              0.8888888888888888,
              "#fdca26"
             ],
             [
              1,
              "#f0f921"
             ]
            ],
            "type": "surface"
           }
          ],
          "table": [
           {
            "cells": {
             "fill": {
              "color": "#EBF0F8"
             },
             "line": {
              "color": "white"
             }
            },
            "header": {
             "fill": {
              "color": "#C8D4E3"
             },
             "line": {
              "color": "white"
             }
            },
            "type": "table"
           }
          ]
         },
         "layout": {
          "annotationdefaults": {
           "arrowcolor": "#2a3f5f",
           "arrowhead": 0,
           "arrowwidth": 1
          },
          "autotypenumbers": "strict",
          "coloraxis": {
           "colorbar": {
            "outlinewidth": 0,
            "ticks": ""
           }
          },
          "colorscale": {
           "diverging": [
            [
             0,
             "#8e0152"
            ],
            [
             0.1,
             "#c51b7d"
            ],
            [
             0.2,
             "#de77ae"
            ],
            [
             0.3,
             "#f1b6da"
            ],
            [
             0.4,
             "#fde0ef"
            ],
            [
             0.5,
             "#f7f7f7"
            ],
            [
             0.6,
             "#e6f5d0"
            ],
            [
             0.7,
             "#b8e186"
            ],
            [
             0.8,
             "#7fbc41"
            ],
            [
             0.9,
             "#4d9221"
            ],
            [
             1,
             "#276419"
            ]
           ],
           "sequential": [
            [
             0,
             "#0d0887"
            ],
            [
             0.1111111111111111,
             "#46039f"
            ],
            [
             0.2222222222222222,
             "#7201a8"
            ],
            [
             0.3333333333333333,
             "#9c179e"
            ],
            [
             0.4444444444444444,
             "#bd3786"
            ],
            [
             0.5555555555555556,
             "#d8576b"
            ],
            [
             0.6666666666666666,
             "#ed7953"
            ],
            [
             0.7777777777777778,
             "#fb9f3a"
            ],
            [
             0.8888888888888888,
             "#fdca26"
            ],
            [
             1,
             "#f0f921"
            ]
           ],
           "sequentialminus": [
            [
             0,
             "#0d0887"
            ],
            [
             0.1111111111111111,
             "#46039f"
            ],
            [
             0.2222222222222222,
             "#7201a8"
            ],
            [
             0.3333333333333333,
             "#9c179e"
            ],
            [
             0.4444444444444444,
             "#bd3786"
            ],
            [
             0.5555555555555556,
             "#d8576b"
            ],
            [
             0.6666666666666666,
             "#ed7953"
            ],
            [
             0.7777777777777778,
             "#fb9f3a"
            ],
            [
             0.8888888888888888,
             "#fdca26"
            ],
            [
             1,
             "#f0f921"
            ]
           ]
          },
          "colorway": [
           "#636efa",
           "#EF553B",
           "#00cc96",
           "#ab63fa",
           "#FFA15A",
           "#19d3f3",
           "#FF6692",
           "#B6E880",
           "#FF97FF",
           "#FECB52"
          ],
          "font": {
           "color": "#2a3f5f"
          },
          "geo": {
           "bgcolor": "white",
           "lakecolor": "white",
           "landcolor": "white",
           "showlakes": true,
           "showland": true,
           "subunitcolor": "#C8D4E3"
          },
          "hoverlabel": {
           "align": "left"
          },
          "hovermode": "closest",
          "mapbox": {
           "style": "light"
          },
          "paper_bgcolor": "white",
          "plot_bgcolor": "white",
          "polar": {
           "angularaxis": {
            "gridcolor": "#EBF0F8",
            "linecolor": "#EBF0F8",
            "ticks": ""
           },
           "bgcolor": "white",
           "radialaxis": {
            "gridcolor": "#EBF0F8",
            "linecolor": "#EBF0F8",
            "ticks": ""
           }
          },
          "scene": {
           "xaxis": {
            "backgroundcolor": "white",
            "gridcolor": "#DFE8F3",
            "gridwidth": 2,
            "linecolor": "#EBF0F8",
            "showbackground": true,
            "ticks": "",
            "zerolinecolor": "#EBF0F8"
           },
           "yaxis": {
            "backgroundcolor": "white",
            "gridcolor": "#DFE8F3",
            "gridwidth": 2,
            "linecolor": "#EBF0F8",
            "showbackground": true,
            "ticks": "",
            "zerolinecolor": "#EBF0F8"
           },
           "zaxis": {
            "backgroundcolor": "white",
            "gridcolor": "#DFE8F3",
            "gridwidth": 2,
            "linecolor": "#EBF0F8",
            "showbackground": true,
            "ticks": "",
            "zerolinecolor": "#EBF0F8"
           }
          },
          "shapedefaults": {
           "line": {
            "color": "#2a3f5f"
           }
          },
          "ternary": {
           "aaxis": {
            "gridcolor": "#DFE8F3",
            "linecolor": "#A2B1C6",
            "ticks": ""
           },
           "baxis": {
            "gridcolor": "#DFE8F3",
            "linecolor": "#A2B1C6",
            "ticks": ""
           },
           "bgcolor": "white",
           "caxis": {
            "gridcolor": "#DFE8F3",
            "linecolor": "#A2B1C6",
            "ticks": ""
           }
          },
          "title": {
           "x": 0.05
          },
          "xaxis": {
           "automargin": true,
           "gridcolor": "#EBF0F8",
           "linecolor": "#EBF0F8",
           "ticks": "",
           "title": {
            "standoff": 15
           },
           "zerolinecolor": "#EBF0F8",
           "zerolinewidth": 2
          },
          "yaxis": {
           "automargin": true,
           "gridcolor": "#EBF0F8",
           "linecolor": "#EBF0F8",
           "ticks": "",
           "title": {
            "standoff": 15
           },
           "zerolinecolor": "#EBF0F8",
           "zerolinewidth": 2
          }
         }
        },
        "title": {
         "text": "분기별 매출 변화 추세 (2017~2018 3Q)"
        },
        "xaxis": {
         "title": {
          "text": "Quarter"
         }
        },
        "yaxis": {
         "title": {
          "text": "결제금액 (USD)"
         }
        }
       }
      }
     },
     "metadata": {},
     "output_type": "display_data"
    }
   ],
   "source": [
    "# 분기별 매출은 점차 증가 추세 \n",
    "\n",
    "import pandas as pd\n",
    "import plotly.graph_objects as go\n",
    "import numpy as np\n",
    "\n",
    "import pandas as pd\n",
    "import plotly.express as px\n",
    "\n",
    "D = pd.DataFrame(df.groupby(['quarter'])['결제금액_usd'].sum()).reset_index()\n",
    "\n",
    "\n",
    "# 숫자형 분기 생성\n",
    "D['quarter_num'] = range(1, len(D) + 1)\n",
    "\n",
    "# 추세선 계산\n",
    "z = np.polyfit(D['quarter_num'], D['결제금액_usd'], 1)  # 1차 추세선\n",
    "p = np.poly1d(z)\n",
    "\n",
    "# 추세선 추가\n",
    "D['trend'] = p(D['quarter_num'])\n",
    "\n",
    "# 그래프 생성\n",
    "fig = go.Figure()\n",
    "\n",
    "# 분기별 매출 라인\n",
    "fig.add_trace(go.Scatter(x=D['quarter'], y=D['결제금액_usd'], mode='lines+markers', name='결제금액_usd'))\n",
    "\n",
    "# 추세선\n",
    "fig.add_trace(go.Scatter(x=D['quarter'], y=D['trend'], mode='lines', name='추세선', line=dict(dash='dot', color='red')))\n",
    "\n",
    "# 그래프 레이아웃 설정\n",
    "fig.update_layout(\n",
    "    title='분기별 매출 변화 추세 (2017~2018 3Q)',\n",
    "    xaxis_title='Quarter',\n",
    "    yaxis_title='결제금액 (USD)',\n",
    "    template='plotly_white'\n",
    ")\n",
    "\n",
    "# 그래프 표시\n",
    "fig.show()\n"
   ]
  },
  {
   "cell_type": "code",
   "execution_count": 15,
   "metadata": {},
   "outputs": [
    {
     "data": {
      "application/vnd.plotly.v1+json": {
       "config": {
        "plotlyServerURL": "https://plot.ly"
       },
       "data": [
        {
         "mode": "lines+markers",
         "name": "결제금액_usd",
         "type": "scatter",
         "x": [
          "2017-01",
          "2017-02",
          "2017-03",
          "2017-04",
          "2017-05",
          "2017-06",
          "2017-07",
          "2017-08",
          "2017-09",
          "2017-10",
          "2017-11",
          "2017-12",
          "2018-01",
          "2018-02",
          "2018-03",
          "2018-04",
          "2018-05",
          "2018-06",
          "2018-07",
          "2018-08"
         ],
         "y": [
          39389.849529780564,
          84527.15987460816,
          128506.0250783699,
          120224.75235109718,
          174192.94357366773,
          153614.2288401254,
          174667.63322884013,
          200542.07836990597,
          215020.0156739812,
          229708.44514106584,
          350375.43260188086,
          265088.2946708464,
          286512.53698630136,
          258554.47671232876,
          305909.2410958904,
          302917.94520547945,
          314596.2082191781,
          273847.2191780822,
          274906.9671232877,
          276320.7863013699
         ]
        },
        {
         "line": {
          "color": "red",
          "dash": "dot"
         },
         "mode": "lines",
         "name": "추세선",
         "type": "scatter",
         "x": [
          "2017-01",
          "2017-02",
          "2017-03",
          "2017-04",
          "2017-05",
          "2017-06",
          "2017-07",
          "2017-08",
          "2017-09",
          "2017-10",
          "2017-11",
          "2017-12",
          "2018-01",
          "2018-02",
          "2018-03",
          "2018-04",
          "2018-05",
          "2018-06",
          "2018-07",
          "2018-08"
         ],
         "y": [
          103473.58691753217,
          115894.3790301924,
          128315.17114285263,
          140735.96325551288,
          153156.7553681731,
          165577.54748083334,
          177998.33959349355,
          190419.1317061538,
          202839.92381881404,
          215260.71593147426,
          227681.50804413448,
          240102.30015679472,
          252523.09226945497,
          264943.8843821152,
          277364.6764947754,
          289785.46860743564,
          302206.2607200959,
          314627.05283275613,
          327047.8449454164,
          339468.63705807657
         ]
        }
       ],
       "layout": {
        "template": {
         "data": {
          "bar": [
           {
            "error_x": {
             "color": "#2a3f5f"
            },
            "error_y": {
             "color": "#2a3f5f"
            },
            "marker": {
             "line": {
              "color": "white",
              "width": 0.5
             },
             "pattern": {
              "fillmode": "overlay",
              "size": 10,
              "solidity": 0.2
             }
            },
            "type": "bar"
           }
          ],
          "barpolar": [
           {
            "marker": {
             "line": {
              "color": "white",
              "width": 0.5
             },
             "pattern": {
              "fillmode": "overlay",
              "size": 10,
              "solidity": 0.2
             }
            },
            "type": "barpolar"
           }
          ],
          "carpet": [
           {
            "aaxis": {
             "endlinecolor": "#2a3f5f",
             "gridcolor": "#C8D4E3",
             "linecolor": "#C8D4E3",
             "minorgridcolor": "#C8D4E3",
             "startlinecolor": "#2a3f5f"
            },
            "baxis": {
             "endlinecolor": "#2a3f5f",
             "gridcolor": "#C8D4E3",
             "linecolor": "#C8D4E3",
             "minorgridcolor": "#C8D4E3",
             "startlinecolor": "#2a3f5f"
            },
            "type": "carpet"
           }
          ],
          "choropleth": [
           {
            "colorbar": {
             "outlinewidth": 0,
             "ticks": ""
            },
            "type": "choropleth"
           }
          ],
          "contour": [
           {
            "colorbar": {
             "outlinewidth": 0,
             "ticks": ""
            },
            "colorscale": [
             [
              0,
              "#0d0887"
             ],
             [
              0.1111111111111111,
              "#46039f"
             ],
             [
              0.2222222222222222,
              "#7201a8"
             ],
             [
              0.3333333333333333,
              "#9c179e"
             ],
             [
              0.4444444444444444,
              "#bd3786"
             ],
             [
              0.5555555555555556,
              "#d8576b"
             ],
             [
              0.6666666666666666,
              "#ed7953"
             ],
             [
              0.7777777777777778,
              "#fb9f3a"
             ],
             [
              0.8888888888888888,
              "#fdca26"
             ],
             [
              1,
              "#f0f921"
             ]
            ],
            "type": "contour"
           }
          ],
          "contourcarpet": [
           {
            "colorbar": {
             "outlinewidth": 0,
             "ticks": ""
            },
            "type": "contourcarpet"
           }
          ],
          "heatmap": [
           {
            "colorbar": {
             "outlinewidth": 0,
             "ticks": ""
            },
            "colorscale": [
             [
              0,
              "#0d0887"
             ],
             [
              0.1111111111111111,
              "#46039f"
             ],
             [
              0.2222222222222222,
              "#7201a8"
             ],
             [
              0.3333333333333333,
              "#9c179e"
             ],
             [
              0.4444444444444444,
              "#bd3786"
             ],
             [
              0.5555555555555556,
              "#d8576b"
             ],
             [
              0.6666666666666666,
              "#ed7953"
             ],
             [
              0.7777777777777778,
              "#fb9f3a"
             ],
             [
              0.8888888888888888,
              "#fdca26"
             ],
             [
              1,
              "#f0f921"
             ]
            ],
            "type": "heatmap"
           }
          ],
          "heatmapgl": [
           {
            "colorbar": {
             "outlinewidth": 0,
             "ticks": ""
            },
            "colorscale": [
             [
              0,
              "#0d0887"
             ],
             [
              0.1111111111111111,
              "#46039f"
             ],
             [
              0.2222222222222222,
              "#7201a8"
             ],
             [
              0.3333333333333333,
              "#9c179e"
             ],
             [
              0.4444444444444444,
              "#bd3786"
             ],
             [
              0.5555555555555556,
              "#d8576b"
             ],
             [
              0.6666666666666666,
              "#ed7953"
             ],
             [
              0.7777777777777778,
              "#fb9f3a"
             ],
             [
              0.8888888888888888,
              "#fdca26"
             ],
             [
              1,
              "#f0f921"
             ]
            ],
            "type": "heatmapgl"
           }
          ],
          "histogram": [
           {
            "marker": {
             "pattern": {
              "fillmode": "overlay",
              "size": 10,
              "solidity": 0.2
             }
            },
            "type": "histogram"
           }
          ],
          "histogram2d": [
           {
            "colorbar": {
             "outlinewidth": 0,
             "ticks": ""
            },
            "colorscale": [
             [
              0,
              "#0d0887"
             ],
             [
              0.1111111111111111,
              "#46039f"
             ],
             [
              0.2222222222222222,
              "#7201a8"
             ],
             [
              0.3333333333333333,
              "#9c179e"
             ],
             [
              0.4444444444444444,
              "#bd3786"
             ],
             [
              0.5555555555555556,
              "#d8576b"
             ],
             [
              0.6666666666666666,
              "#ed7953"
             ],
             [
              0.7777777777777778,
              "#fb9f3a"
             ],
             [
              0.8888888888888888,
              "#fdca26"
             ],
             [
              1,
              "#f0f921"
             ]
            ],
            "type": "histogram2d"
           }
          ],
          "histogram2dcontour": [
           {
            "colorbar": {
             "outlinewidth": 0,
             "ticks": ""
            },
            "colorscale": [
             [
              0,
              "#0d0887"
             ],
             [
              0.1111111111111111,
              "#46039f"
             ],
             [
              0.2222222222222222,
              "#7201a8"
             ],
             [
              0.3333333333333333,
              "#9c179e"
             ],
             [
              0.4444444444444444,
              "#bd3786"
             ],
             [
              0.5555555555555556,
              "#d8576b"
             ],
             [
              0.6666666666666666,
              "#ed7953"
             ],
             [
              0.7777777777777778,
              "#fb9f3a"
             ],
             [
              0.8888888888888888,
              "#fdca26"
             ],
             [
              1,
              "#f0f921"
             ]
            ],
            "type": "histogram2dcontour"
           }
          ],
          "mesh3d": [
           {
            "colorbar": {
             "outlinewidth": 0,
             "ticks": ""
            },
            "type": "mesh3d"
           }
          ],
          "parcoords": [
           {
            "line": {
             "colorbar": {
              "outlinewidth": 0,
              "ticks": ""
             }
            },
            "type": "parcoords"
           }
          ],
          "pie": [
           {
            "automargin": true,
            "type": "pie"
           }
          ],
          "scatter": [
           {
            "fillpattern": {
             "fillmode": "overlay",
             "size": 10,
             "solidity": 0.2
            },
            "type": "scatter"
           }
          ],
          "scatter3d": [
           {
            "line": {
             "colorbar": {
              "outlinewidth": 0,
              "ticks": ""
             }
            },
            "marker": {
             "colorbar": {
              "outlinewidth": 0,
              "ticks": ""
             }
            },
            "type": "scatter3d"
           }
          ],
          "scattercarpet": [
           {
            "marker": {
             "colorbar": {
              "outlinewidth": 0,
              "ticks": ""
             }
            },
            "type": "scattercarpet"
           }
          ],
          "scattergeo": [
           {
            "marker": {
             "colorbar": {
              "outlinewidth": 0,
              "ticks": ""
             }
            },
            "type": "scattergeo"
           }
          ],
          "scattergl": [
           {
            "marker": {
             "colorbar": {
              "outlinewidth": 0,
              "ticks": ""
             }
            },
            "type": "scattergl"
           }
          ],
          "scattermapbox": [
           {
            "marker": {
             "colorbar": {
              "outlinewidth": 0,
              "ticks": ""
             }
            },
            "type": "scattermapbox"
           }
          ],
          "scatterpolar": [
           {
            "marker": {
             "colorbar": {
              "outlinewidth": 0,
              "ticks": ""
             }
            },
            "type": "scatterpolar"
           }
          ],
          "scatterpolargl": [
           {
            "marker": {
             "colorbar": {
              "outlinewidth": 0,
              "ticks": ""
             }
            },
            "type": "scatterpolargl"
           }
          ],
          "scatterternary": [
           {
            "marker": {
             "colorbar": {
              "outlinewidth": 0,
              "ticks": ""
             }
            },
            "type": "scatterternary"
           }
          ],
          "surface": [
           {
            "colorbar": {
             "outlinewidth": 0,
             "ticks": ""
            },
            "colorscale": [
             [
              0,
              "#0d0887"
             ],
             [
              0.1111111111111111,
              "#46039f"
             ],
             [
              0.2222222222222222,
              "#7201a8"
             ],
             [
              0.3333333333333333,
              "#9c179e"
             ],
             [
              0.4444444444444444,
              "#bd3786"
             ],
             [
              0.5555555555555556,
              "#d8576b"
             ],
             [
              0.6666666666666666,
              "#ed7953"
             ],
             [
              0.7777777777777778,
              "#fb9f3a"
             ],
             [
              0.8888888888888888,
              "#fdca26"
             ],
             [
              1,
              "#f0f921"
             ]
            ],
            "type": "surface"
           }
          ],
          "table": [
           {
            "cells": {
             "fill": {
              "color": "#EBF0F8"
             },
             "line": {
              "color": "white"
             }
            },
            "header": {
             "fill": {
              "color": "#C8D4E3"
             },
             "line": {
              "color": "white"
             }
            },
            "type": "table"
           }
          ]
         },
         "layout": {
          "annotationdefaults": {
           "arrowcolor": "#2a3f5f",
           "arrowhead": 0,
           "arrowwidth": 1
          },
          "autotypenumbers": "strict",
          "coloraxis": {
           "colorbar": {
            "outlinewidth": 0,
            "ticks": ""
           }
          },
          "colorscale": {
           "diverging": [
            [
             0,
             "#8e0152"
            ],
            [
             0.1,
             "#c51b7d"
            ],
            [
             0.2,
             "#de77ae"
            ],
            [
             0.3,
             "#f1b6da"
            ],
            [
             0.4,
             "#fde0ef"
            ],
            [
             0.5,
             "#f7f7f7"
            ],
            [
             0.6,
             "#e6f5d0"
            ],
            [
             0.7,
             "#b8e186"
            ],
            [
             0.8,
             "#7fbc41"
            ],
            [
             0.9,
             "#4d9221"
            ],
            [
             1,
             "#276419"
            ]
           ],
           "sequential": [
            [
             0,
             "#0d0887"
            ],
            [
             0.1111111111111111,
             "#46039f"
            ],
            [
             0.2222222222222222,
             "#7201a8"
            ],
            [
             0.3333333333333333,
             "#9c179e"
            ],
            [
             0.4444444444444444,
             "#bd3786"
            ],
            [
             0.5555555555555556,
             "#d8576b"
            ],
            [
             0.6666666666666666,
             "#ed7953"
            ],
            [
             0.7777777777777778,
             "#fb9f3a"
            ],
            [
             0.8888888888888888,
             "#fdca26"
            ],
            [
             1,
             "#f0f921"
            ]
           ],
           "sequentialminus": [
            [
             0,
             "#0d0887"
            ],
            [
             0.1111111111111111,
             "#46039f"
            ],
            [
             0.2222222222222222,
             "#7201a8"
            ],
            [
             0.3333333333333333,
             "#9c179e"
            ],
            [
             0.4444444444444444,
             "#bd3786"
            ],
            [
             0.5555555555555556,
             "#d8576b"
            ],
            [
             0.6666666666666666,
             "#ed7953"
            ],
            [
             0.7777777777777778,
             "#fb9f3a"
            ],
            [
             0.8888888888888888,
             "#fdca26"
            ],
            [
             1,
             "#f0f921"
            ]
           ]
          },
          "colorway": [
           "#636efa",
           "#EF553B",
           "#00cc96",
           "#ab63fa",
           "#FFA15A",
           "#19d3f3",
           "#FF6692",
           "#B6E880",
           "#FF97FF",
           "#FECB52"
          ],
          "font": {
           "color": "#2a3f5f"
          },
          "geo": {
           "bgcolor": "white",
           "lakecolor": "white",
           "landcolor": "white",
           "showlakes": true,
           "showland": true,
           "subunitcolor": "#C8D4E3"
          },
          "hoverlabel": {
           "align": "left"
          },
          "hovermode": "closest",
          "mapbox": {
           "style": "light"
          },
          "paper_bgcolor": "white",
          "plot_bgcolor": "white",
          "polar": {
           "angularaxis": {
            "gridcolor": "#EBF0F8",
            "linecolor": "#EBF0F8",
            "ticks": ""
           },
           "bgcolor": "white",
           "radialaxis": {
            "gridcolor": "#EBF0F8",
            "linecolor": "#EBF0F8",
            "ticks": ""
           }
          },
          "scene": {
           "xaxis": {
            "backgroundcolor": "white",
            "gridcolor": "#DFE8F3",
            "gridwidth": 2,
            "linecolor": "#EBF0F8",
            "showbackground": true,
            "ticks": "",
            "zerolinecolor": "#EBF0F8"
           },
           "yaxis": {
            "backgroundcolor": "white",
            "gridcolor": "#DFE8F3",
            "gridwidth": 2,
            "linecolor": "#EBF0F8",
            "showbackground": true,
            "ticks": "",
            "zerolinecolor": "#EBF0F8"
           },
           "zaxis": {
            "backgroundcolor": "white",
            "gridcolor": "#DFE8F3",
            "gridwidth": 2,
            "linecolor": "#EBF0F8",
            "showbackground": true,
            "ticks": "",
            "zerolinecolor": "#EBF0F8"
           }
          },
          "shapedefaults": {
           "line": {
            "color": "#2a3f5f"
           }
          },
          "ternary": {
           "aaxis": {
            "gridcolor": "#DFE8F3",
            "linecolor": "#A2B1C6",
            "ticks": ""
           },
           "baxis": {
            "gridcolor": "#DFE8F3",
            "linecolor": "#A2B1C6",
            "ticks": ""
           },
           "bgcolor": "white",
           "caxis": {
            "gridcolor": "#DFE8F3",
            "linecolor": "#A2B1C6",
            "ticks": ""
           }
          },
          "title": {
           "x": 0.05
          },
          "xaxis": {
           "automargin": true,
           "gridcolor": "#EBF0F8",
           "linecolor": "#EBF0F8",
           "ticks": "",
           "title": {
            "standoff": 15
           },
           "zerolinecolor": "#EBF0F8",
           "zerolinewidth": 2
          },
          "yaxis": {
           "automargin": true,
           "gridcolor": "#EBF0F8",
           "linecolor": "#EBF0F8",
           "ticks": "",
           "title": {
            "standoff": 15
           },
           "zerolinecolor": "#EBF0F8",
           "zerolinewidth": 2
          }
         }
        },
        "title": {
         "text": "월별 매출 변화 추세 (2017~2018 3Q)"
        },
        "xaxis": {
         "title": {
          "text": "year_month"
         }
        },
        "yaxis": {
         "title": {
          "text": "결제금액 (USD)"
         }
        }
       }
      }
     },
     "metadata": {},
     "output_type": "display_data"
    }
   ],
   "source": [
    "# 분기별 매출은 점차 증가 추세 \n",
    "\n",
    "import pandas as pd\n",
    "import plotly.graph_objects as go\n",
    "import numpy as np\n",
    "import plotly.express as px\n",
    "\n",
    "\n",
    "D = pd.DataFrame(df.groupby(['year_month'])['결제금액_usd'].sum()).reset_index() \n",
    "\n",
    "# 숫자형 분기 생성\n",
    "D['year_month_num'] = range(1, len(D) + 1)\n",
    "\n",
    "# 추세선 계산\n",
    "z = np.polyfit(D['year_month_num'], D['결제금액_usd'], 1)  # 1차 추세선\n",
    "p = np.poly1d(z)\n",
    "\n",
    "# 추세선 추가\n",
    "D['trend'] = p(D['year_month_num'])\n",
    "\n",
    "# 그래프 생성\n",
    "fig = go.Figure()\n",
    "\n",
    "fig.add_trace(go.Scatter(x=D['year_month'], y=D['결제금액_usd'], mode='lines+markers', name='결제금액_usd'))\n",
    "\n",
    "# 추세선\n",
    "fig.add_trace(go.Scatter(x=D['year_month'], y=D['trend'], mode='lines', name='추세선', line=dict(dash='dot', color='red')))\n",
    "\n",
    "# 그래프 레이아웃 설정\n",
    "fig.update_layout(\n",
    "    title='월별 매출 변화 추세 (2017~2018 3Q)',\n",
    "    xaxis_title='year_month',\n",
    "    yaxis_title='결제금액 (USD)',\n",
    "    template='plotly_white'\n",
    ")\n",
    "\n",
    "# 그래프 표시\n",
    "fig.show()"
   ]
  },
  {
   "cell_type": "code",
   "execution_count": 8,
   "metadata": {},
   "outputs": [],
   "source": [
    "D = df[['고객_유니크id', 'year_month', '구매count']].drop_duplicates()\n",
    "D =D[['고객_유니크id','year_month', '구매count']]\n",
    " "
   ]
  },
  {
   "cell_type": "markdown",
   "metadata": {},
   "source": [
    "-  재구매 고객, 이탈 고객 정의"
   ]
  },
  {
   "cell_type": "code",
   "execution_count": 32,
   "metadata": {},
   "outputs": [
    {
     "data": {
      "text/plain": [
       "('2017-01', '2018-08')"
      ]
     },
     "execution_count": 32,
     "metadata": {},
     "output_type": "execute_result"
    }
   ],
   "source": [
    "df['year_month'].min(), df['year_month'].max()"
   ]
  },
  {
   "cell_type": "code",
   "execution_count": null,
   "metadata": {},
   "outputs": [],
   "source": [
    "### 재구매 고객, 이탈 고객 정의\n",
    "'''\n",
    "[재구매 고객]\n",
    "재구매 고객은 2017년 1월부터 2018년 8월 사이에 처음 구매한 이후, 해당 기간 내에 최소 한 번 이상 재구매한 고객입니다.\n",
    "\n",
    "- 정의:\n",
    "    - 초기 구매: 고객이 2017-01부터 2018-08 사이에 첫 구매를 한 경우.\n",
    "    - 재구매: 해당 기간 내(예: 2017-01부터 2018-08) 두 번째 이상의 구매를 한 경우.\n",
    "- 예시:\n",
    "    - 고객 A가 2017-03에 첫 구매를 한 뒤, 2018-05에 두 번째 구매를 한 경우.\n",
    "    - 고객 B가 2017-06에 첫 구매를 하고, 2018-07에 세 번째 구매를 한 경우.\n",
    "\n",
    "\n",
    "[이탈 고객]\n",
    "이탈 고객은 2017-01부터 2018-02 사이에 첫 구매를 했지만, 이후 일정 기간 (6개월) 동안 재구매가 없는 고객을 의미합니다. \n",
    "즉, 이 고객은 한 번의 구매 후 더 이상 재구매하지 않은 고객입니다.\n",
    "\n",
    "정의:\n",
    "고객이 2017-01부터 2018-02 사이에 첫 구매를 하고, 이후 2018-08까지 재구매가 없는 경우.\n",
    "예시:\n",
    "고객 C가 2017-03에 첫 구매를 했지만, 2018-08까지 두 번째 구매를 하지 않은 경우.\n",
    "고객 D가 2017-07에 구매를 했지만, 2018-08까지 구매를 하지 않은 경우.\n",
    "중요한 점:\n",
    "고객이 2017-01부터 2018-02 사이에 구매 기록이 있어야 하며, 그 이후에는 재구매가 없는 고객을 이탈 고객으로 정의합니다.\n",
    "\n",
    "\n",
    "'''"
   ]
  },
  {
   "cell_type": "code",
   "execution_count": 15,
   "metadata": {},
   "outputs": [
    {
     "name": "stderr",
     "output_type": "stream",
     "text": [
      "/var/folders/32/kf__h26s36l08d_ty7fh2xjr0000gn/T/ipykernel_2580/2258040863.py:2: SettingWithCopyWarning: \n",
      "A value is trying to be set on a copy of a slice from a DataFrame\n",
      "\n",
      "See the caveats in the documentation: https://pandas.pydata.org/pandas-docs/stable/user_guide/indexing.html#returning-a-view-versus-a-copy\n",
      "  Churned_Customer_df.drop(['구매count'],axis=1,inplace=True)\n",
      "/var/folders/32/kf__h26s36l08d_ty7fh2xjr0000gn/T/ipykernel_2580/2258040863.py:4: SettingWithCopyWarning: \n",
      "A value is trying to be set on a copy of a slice from a DataFrame\n",
      "\n",
      "See the caveats in the documentation: https://pandas.pydata.org/pandas-docs/stable/user_guide/indexing.html#returning-a-view-versus-a-copy\n",
      "  Repeat_Customer_df.drop(['구매count'],axis=1,inplace=True)\n",
      "/var/folders/32/kf__h26s36l08d_ty7fh2xjr0000gn/T/ipykernel_2580/2258040863.py:6: SettingWithCopyWarning: \n",
      "A value is trying to be set on a copy of a slice from a DataFrame.\n",
      "Try using .loc[row_indexer,col_indexer] = value instead\n",
      "\n",
      "See the caveats in the documentation: https://pandas.pydata.org/pandas-docs/stable/user_guide/indexing.html#returning-a-view-versus-a-copy\n",
      "  Repeat_Customer_df['구매시간'] = pd.to_datetime(Repeat_Customer_df['구매시간'])\n",
      "100%|██████████| 1977/1977 [00:06<00:00, 286.52it/s]\n",
      "100%|██████████| 816/816 [00:02<00:00, 324.78it/s]\n"
     ]
    }
   ],
   "source": [
    "Churned_Customer_df = df[(df['구매count'] ==1 ) & (df['year_month'] <'2018-03')]\n",
    "Churned_Customer_df.drop(['구매count'],axis=1,inplace=True)\n",
    "Repeat_Customer_df = df[(df['구매count'] >1 )]\n",
    "Repeat_Customer_df.drop(['구매count'],axis=1,inplace=True)\n",
    " \n",
    "Repeat_Customer_df['구매시간'] = pd.to_datetime(Repeat_Customer_df['구매시간'])\n",
    "\n",
    " \n",
    "\n",
    "customer_summary = (\n",
    "    Repeat_Customer_df.groupby('고객_유니크id')\n",
    "    .agg({\n",
    "        '결제금액_usd': 'sum',  # 총 구매 금액\n",
    "        '주문id': 'nunique'      # 총 구매 횟수\n",
    "    })\n",
    "    .rename(columns={\n",
    "        '결제금액_usd': 'total_purchase_amount',\n",
    "        '주문id': 'total_order_count'\n",
    "    })\n",
    ")\n",
    "\n",
    " \n",
    "customer_summary['avg_purchase_value'] = (\n",
    "    customer_summary['total_purchase_amount'] / customer_summary['total_order_count']\n",
    ")\n",
    "\n",
    " \n",
    "\n",
    "# 고객별 구매 기간 계산 (첫 구매 ~ 마지막 구매)\n",
    "customer_summary['purchase_period_days'] = (\n",
    "    Repeat_Customer_df.groupby('고객_유니크id')['구매시간'].max() -\n",
    "    Repeat_Customer_df.groupby('고객_유니크id')['구매시간'].min()\n",
    ").dt.days\n",
    "\n",
    "# 구매 빈도 계산\n",
    "customer_summary['purchase_frequency'] = (\n",
    "    customer_summary['total_order_count'] /\n",
    "    customer_summary['purchase_period_days']\n",
    ")\n",
    "\n",
    " \n",
    " \n",
    "customer_summary['purchase_frequency'].replace([np.inf, -np.inf], np.nan, inplace=True)\n",
    "\n",
    "# NaN 값 제거\n",
    "customer_summary.dropna(inplace=True)\n",
    "# 재구매 고객 리스트 \n",
    "repeat_lst = list(customer_summary.reset_index()['고객_유니크id'])\n",
    "add_churn_lst = list(set(Repeat_Customer_df['고객_유니크id'].unique()) - set(repeat_lst))\n",
    "\n",
    "from tqdm import tqdm\n",
    "\n",
    "add_churn = pd.DataFrame()\n",
    "re_Df2 = pd.DataFrame()\n",
    "\n",
    "for id in tqdm(repeat_lst):\n",
    "    re_Df2 = pd.concat([Repeat_Customer_df[Repeat_Customer_df['고객_유니크id'] == id], re_Df2 ])\n",
    "\n",
    "for id in tqdm(add_churn_lst):\n",
    "    add_churn = pd.concat([Repeat_Customer_df[Repeat_Customer_df['고객_유니크id'] == id], add_churn ])\n",
    "\n",
    "Churned_Customer_df = pd.concat([add_churn, Churned_Customer_df])\n",
    "Repeat_Customer_df =  re_Df2.copy()\n",
    "Churned_Customer_df = Churned_Customer_df[Churned_Customer_df['year_month'] <'2018-03'] "
   ]
  },
  {
   "cell_type": "code",
   "execution_count": 40,
   "metadata": {},
   "outputs": [
    {
     "name": "stdout",
     "output_type": "stream",
     "text": [
      "이탈 고객수: 53436 / 재구매 고객수: 1977\n",
      "이탈률 :  96 %\n"
     ]
    }
   ],
   "source": [
    "print('이탈 고객수:',  Churned_Customer_df['고객_유니크id'].nunique(), '/ 재구매 고객수:',  Repeat_Customer_df['고객_유니크id'].nunique() )\n",
    "print('이탈률 :  96 %')"
   ]
  },
  {
   "cell_type": "code",
   "execution_count": 35,
   "metadata": {},
   "outputs": [
    {
     "name": "stdout",
     "output_type": "stream",
     "text": [
      "이탈 고객 ARPPU: 48\n",
      "재구매 고객 ARPPU: 93\n"
     ]
    }
   ],
   "source": [
    "# ARPPU 계산\n",
    "total_revenue = Churned_Customer_df['결제금액_usd'].sum()  # 결제금액 총합\n",
    "unique_customers = Churned_Customer_df['고객_유니크id'].nunique()  # 결제한 고객 수\n",
    "\n",
    "arppu = total_revenue / unique_customers\n",
    "print(\"이탈 고객 ARPPU:\",round(arppu))\n",
    "\n",
    " \n",
    "# ARPPU 계산\n",
    "total_revenue = Repeat_Customer_df['결제금액_usd'].sum()  # 결제금액 총합\n",
    "unique_customers = Repeat_Customer_df['고객_유니크id'].nunique()  # 결제한 고객 수\n",
    "\n",
    "arppu = total_revenue / unique_customers\n",
    "print(\"재구매 고객 ARPPU:\",round(arppu))\n"
   ]
  },
  {
   "cell_type": "code",
   "execution_count": 41,
   "metadata": {},
   "outputs": [
    {
     "name": "stdout",
     "output_type": "stream",
     "text": [
      "이탈률 :  0.96\n"
     ]
    }
   ],
   "source": [
    "Churned_Customer_df  \n",
    "Repeat_Customer_df.columns \n",
    "\n",
    "'''\n",
    "LTV(Lifetime Value)는 고객이 서비스에 지불하는 총 금액을 예측하는 중요한 지표로,\n",
    " 특히 앱, 구독 서비스, 전자 상거래와 같은 비즈니스 모델에서 핵심적인 역할을 합니다. \n",
    " 주어진 데이터를 바탕으로 LTV를 계산하는 방법을 설명하겠습니다.\n",
    "\n",
    "Life Time Value : 고객 생애 가치\n",
    "\n",
    ": 사용자 1명이 서비스에서 이탈하기 전까지 지불하는 금액\n",
    ": 앱을 사용하는 동안에 발생 가능한 사용자 당 기대 수익\n",
    "\n",
    "계산법 : LTV = ARPU X (1 ÷ Churn rate) \n",
    "\n",
    " \n",
    "\n",
    "Churn rate : 이탈률\n",
    "\n",
    "계산법 : 이탈률 = 1 - Retention Rate(리텐션율)\n",
    "'''\n",
    "# 이탈률 =  이탈 고객 수 / 전체 고객 수 \n",
    "chrun_rate = Churned_Customer_df['고객_유니크id'].nunique()/ (Churned_Customer_df['고객_유니크id'].nunique() + Repeat_Customer_df['고객_유니크id'].nunique())\n",
    "print('이탈률 : ', round(chrun_rate,2) )"
   ]
  },
  {
   "cell_type": "code",
   "execution_count": 90,
   "metadata": {},
   "outputs": [
    {
     "name": "stdout",
     "output_type": "stream",
     "text": [
      "이탈 고객 ARPPU: $ 48\n",
      "재구매 고객 ARPPU: $ 93\n",
      "전체  ARPPU: $ 50\n",
      "\n",
      "LTV : $ 51.85 \n",
      "재구매 고객 LTV $: 2609.79\n"
     ]
    }
   ],
   "source": [
    "# ARPPU 계산\n",
    "total_revenue1 = Churned_Customer_df['결제금액_usd'].sum()  # 결제금액 총합\n",
    "unique_customers1 = Churned_Customer_df['고객_유니크id'].nunique()  # 결제한 고객 수\n",
    "\n",
    "arppu = total_revenue1 / unique_customers1\n",
    "print(\"이탈 고객 ARPPU: $\",round(arppu))\n",
    "\n",
    " \n",
    "# ARPPU 계산\n",
    "total_revenue2 = Repeat_Customer_df['결제금액_usd'].sum()  # 결제금액 총합\n",
    "unique_customers2 = Repeat_Customer_df['고객_유니크id'].nunique()  # 결제한 고객 수\n",
    "\n",
    "arppu = total_revenue2 / unique_customers2\n",
    "print(\"재구매 고객 ARPPU: $\",round(arppu))\n",
    "\n",
    "# 전체 arppu\n",
    "\n",
    "arppu0 = ( total_revenue1 + total_revenue2 )/ (unique_customers1 + unique_customers2)\n",
    "print(\"전체  ARPPU: $\",round(arppu0))\n",
    "print('')\n",
    "print('LTV : $ 51.85 ')\n",
    "# 평균 ltv인거지?\n",
    "# 네, 맞습니다. 주어진 ARPU와 Churn rate를 바탕으로 계산한 LTV는 전체 고객에 대한 **평균 Life Time Value (LTV)**입니다.\n",
    "\n",
    "# 재구매 고객 LTV\n",
    "\n",
    "chrun_rate2 = Repeat_Customer_df['고객_유니크id'].nunique()/ (Churned_Customer_df['고객_유니크id'].nunique() + Repeat_Customer_df['고객_유니크id'].nunique())\n",
    "print('재구매 고객 LTV $: 2609.79')"
   ]
  },
  {
   "cell_type": "code",
   "execution_count": 42,
   "metadata": {},
   "outputs": [
    {
     "data": {
      "application/vnd.plotly.v1+json": {
       "config": {
        "plotlyServerURL": "https://plot.ly"
       },
       "data": [
        {
         "alignmentgroup": "True",
         "hovertemplate": "분류=%{x}<br>ARPPU=%{text}<extra></extra>",
         "legendgroup": "",
         "marker": {
          "color": "#636efa",
          "pattern": {
           "shape": ""
          }
         },
         "name": "",
         "offsetgroup": "",
         "orientation": "v",
         "showlegend": false,
         "text": [
          48,
          93
         ],
         "textposition": "auto",
         "type": "bar",
         "x": [
          "이탈 고객",
          "재구매 고객"
         ],
         "xaxis": "x",
         "y": [
          48,
          93
         ],
         "yaxis": "y"
        }
       ],
       "layout": {
        "barmode": "relative",
        "legend": {
         "tracegroupgap": 0
        },
        "template": {
         "data": {
          "bar": [
           {
            "error_x": {
             "color": "#2a3f5f"
            },
            "error_y": {
             "color": "#2a3f5f"
            },
            "marker": {
             "line": {
              "color": "#E5ECF6",
              "width": 0.5
             },
             "pattern": {
              "fillmode": "overlay",
              "size": 10,
              "solidity": 0.2
             }
            },
            "type": "bar"
           }
          ],
          "barpolar": [
           {
            "marker": {
             "line": {
              "color": "#E5ECF6",
              "width": 0.5
             },
             "pattern": {
              "fillmode": "overlay",
              "size": 10,
              "solidity": 0.2
             }
            },
            "type": "barpolar"
           }
          ],
          "carpet": [
           {
            "aaxis": {
             "endlinecolor": "#2a3f5f",
             "gridcolor": "white",
             "linecolor": "white",
             "minorgridcolor": "white",
             "startlinecolor": "#2a3f5f"
            },
            "baxis": {
             "endlinecolor": "#2a3f5f",
             "gridcolor": "white",
             "linecolor": "white",
             "minorgridcolor": "white",
             "startlinecolor": "#2a3f5f"
            },
            "type": "carpet"
           }
          ],
          "choropleth": [
           {
            "colorbar": {
             "outlinewidth": 0,
             "ticks": ""
            },
            "type": "choropleth"
           }
          ],
          "contour": [
           {
            "colorbar": {
             "outlinewidth": 0,
             "ticks": ""
            },
            "colorscale": [
             [
              0,
              "#0d0887"
             ],
             [
              0.1111111111111111,
              "#46039f"
             ],
             [
              0.2222222222222222,
              "#7201a8"
             ],
             [
              0.3333333333333333,
              "#9c179e"
             ],
             [
              0.4444444444444444,
              "#bd3786"
             ],
             [
              0.5555555555555556,
              "#d8576b"
             ],
             [
              0.6666666666666666,
              "#ed7953"
             ],
             [
              0.7777777777777778,
              "#fb9f3a"
             ],
             [
              0.8888888888888888,
              "#fdca26"
             ],
             [
              1,
              "#f0f921"
             ]
            ],
            "type": "contour"
           }
          ],
          "contourcarpet": [
           {
            "colorbar": {
             "outlinewidth": 0,
             "ticks": ""
            },
            "type": "contourcarpet"
           }
          ],
          "heatmap": [
           {
            "colorbar": {
             "outlinewidth": 0,
             "ticks": ""
            },
            "colorscale": [
             [
              0,
              "#0d0887"
             ],
             [
              0.1111111111111111,
              "#46039f"
             ],
             [
              0.2222222222222222,
              "#7201a8"
             ],
             [
              0.3333333333333333,
              "#9c179e"
             ],
             [
              0.4444444444444444,
              "#bd3786"
             ],
             [
              0.5555555555555556,
              "#d8576b"
             ],
             [
              0.6666666666666666,
              "#ed7953"
             ],
             [
              0.7777777777777778,
              "#fb9f3a"
             ],
             [
              0.8888888888888888,
              "#fdca26"
             ],
             [
              1,
              "#f0f921"
             ]
            ],
            "type": "heatmap"
           }
          ],
          "heatmapgl": [
           {
            "colorbar": {
             "outlinewidth": 0,
             "ticks": ""
            },
            "colorscale": [
             [
              0,
              "#0d0887"
             ],
             [
              0.1111111111111111,
              "#46039f"
             ],
             [
              0.2222222222222222,
              "#7201a8"
             ],
             [
              0.3333333333333333,
              "#9c179e"
             ],
             [
              0.4444444444444444,
              "#bd3786"
             ],
             [
              0.5555555555555556,
              "#d8576b"
             ],
             [
              0.6666666666666666,
              "#ed7953"
             ],
             [
              0.7777777777777778,
              "#fb9f3a"
             ],
             [
              0.8888888888888888,
              "#fdca26"
             ],
             [
              1,
              "#f0f921"
             ]
            ],
            "type": "heatmapgl"
           }
          ],
          "histogram": [
           {
            "marker": {
             "pattern": {
              "fillmode": "overlay",
              "size": 10,
              "solidity": 0.2
             }
            },
            "type": "histogram"
           }
          ],
          "histogram2d": [
           {
            "colorbar": {
             "outlinewidth": 0,
             "ticks": ""
            },
            "colorscale": [
             [
              0,
              "#0d0887"
             ],
             [
              0.1111111111111111,
              "#46039f"
             ],
             [
              0.2222222222222222,
              "#7201a8"
             ],
             [
              0.3333333333333333,
              "#9c179e"
             ],
             [
              0.4444444444444444,
              "#bd3786"
             ],
             [
              0.5555555555555556,
              "#d8576b"
             ],
             [
              0.6666666666666666,
              "#ed7953"
             ],
             [
              0.7777777777777778,
              "#fb9f3a"
             ],
             [
              0.8888888888888888,
              "#fdca26"
             ],
             [
              1,
              "#f0f921"
             ]
            ],
            "type": "histogram2d"
           }
          ],
          "histogram2dcontour": [
           {
            "colorbar": {
             "outlinewidth": 0,
             "ticks": ""
            },
            "colorscale": [
             [
              0,
              "#0d0887"
             ],
             [
              0.1111111111111111,
              "#46039f"
             ],
             [
              0.2222222222222222,
              "#7201a8"
             ],
             [
              0.3333333333333333,
              "#9c179e"
             ],
             [
              0.4444444444444444,
              "#bd3786"
             ],
             [
              0.5555555555555556,
              "#d8576b"
             ],
             [
              0.6666666666666666,
              "#ed7953"
             ],
             [
              0.7777777777777778,
              "#fb9f3a"
             ],
             [
              0.8888888888888888,
              "#fdca26"
             ],
             [
              1,
              "#f0f921"
             ]
            ],
            "type": "histogram2dcontour"
           }
          ],
          "mesh3d": [
           {
            "colorbar": {
             "outlinewidth": 0,
             "ticks": ""
            },
            "type": "mesh3d"
           }
          ],
          "parcoords": [
           {
            "line": {
             "colorbar": {
              "outlinewidth": 0,
              "ticks": ""
             }
            },
            "type": "parcoords"
           }
          ],
          "pie": [
           {
            "automargin": true,
            "type": "pie"
           }
          ],
          "scatter": [
           {
            "fillpattern": {
             "fillmode": "overlay",
             "size": 10,
             "solidity": 0.2
            },
            "type": "scatter"
           }
          ],
          "scatter3d": [
           {
            "line": {
             "colorbar": {
              "outlinewidth": 0,
              "ticks": ""
             }
            },
            "marker": {
             "colorbar": {
              "outlinewidth": 0,
              "ticks": ""
             }
            },
            "type": "scatter3d"
           }
          ],
          "scattercarpet": [
           {
            "marker": {
             "colorbar": {
              "outlinewidth": 0,
              "ticks": ""
             }
            },
            "type": "scattercarpet"
           }
          ],
          "scattergeo": [
           {
            "marker": {
             "colorbar": {
              "outlinewidth": 0,
              "ticks": ""
             }
            },
            "type": "scattergeo"
           }
          ],
          "scattergl": [
           {
            "marker": {
             "colorbar": {
              "outlinewidth": 0,
              "ticks": ""
             }
            },
            "type": "scattergl"
           }
          ],
          "scattermapbox": [
           {
            "marker": {
             "colorbar": {
              "outlinewidth": 0,
              "ticks": ""
             }
            },
            "type": "scattermapbox"
           }
          ],
          "scatterpolar": [
           {
            "marker": {
             "colorbar": {
              "outlinewidth": 0,
              "ticks": ""
             }
            },
            "type": "scatterpolar"
           }
          ],
          "scatterpolargl": [
           {
            "marker": {
             "colorbar": {
              "outlinewidth": 0,
              "ticks": ""
             }
            },
            "type": "scatterpolargl"
           }
          ],
          "scatterternary": [
           {
            "marker": {
             "colorbar": {
              "outlinewidth": 0,
              "ticks": ""
             }
            },
            "type": "scatterternary"
           }
          ],
          "surface": [
           {
            "colorbar": {
             "outlinewidth": 0,
             "ticks": ""
            },
            "colorscale": [
             [
              0,
              "#0d0887"
             ],
             [
              0.1111111111111111,
              "#46039f"
             ],
             [
              0.2222222222222222,
              "#7201a8"
             ],
             [
              0.3333333333333333,
              "#9c179e"
             ],
             [
              0.4444444444444444,
              "#bd3786"
             ],
             [
              0.5555555555555556,
              "#d8576b"
             ],
             [
              0.6666666666666666,
              "#ed7953"
             ],
             [
              0.7777777777777778,
              "#fb9f3a"
             ],
             [
              0.8888888888888888,
              "#fdca26"
             ],
             [
              1,
              "#f0f921"
             ]
            ],
            "type": "surface"
           }
          ],
          "table": [
           {
            "cells": {
             "fill": {
              "color": "#EBF0F8"
             },
             "line": {
              "color": "white"
             }
            },
            "header": {
             "fill": {
              "color": "#C8D4E3"
             },
             "line": {
              "color": "white"
             }
            },
            "type": "table"
           }
          ]
         },
         "layout": {
          "annotationdefaults": {
           "arrowcolor": "#2a3f5f",
           "arrowhead": 0,
           "arrowwidth": 1
          },
          "autotypenumbers": "strict",
          "coloraxis": {
           "colorbar": {
            "outlinewidth": 0,
            "ticks": ""
           }
          },
          "colorscale": {
           "diverging": [
            [
             0,
             "#8e0152"
            ],
            [
             0.1,
             "#c51b7d"
            ],
            [
             0.2,
             "#de77ae"
            ],
            [
             0.3,
             "#f1b6da"
            ],
            [
             0.4,
             "#fde0ef"
            ],
            [
             0.5,
             "#f7f7f7"
            ],
            [
             0.6,
             "#e6f5d0"
            ],
            [
             0.7,
             "#b8e186"
            ],
            [
             0.8,
             "#7fbc41"
            ],
            [
             0.9,
             "#4d9221"
            ],
            [
             1,
             "#276419"
            ]
           ],
           "sequential": [
            [
             0,
             "#0d0887"
            ],
            [
             0.1111111111111111,
             "#46039f"
            ],
            [
             0.2222222222222222,
             "#7201a8"
            ],
            [
             0.3333333333333333,
             "#9c179e"
            ],
            [
             0.4444444444444444,
             "#bd3786"
            ],
            [
             0.5555555555555556,
             "#d8576b"
            ],
            [
             0.6666666666666666,
             "#ed7953"
            ],
            [
             0.7777777777777778,
             "#fb9f3a"
            ],
            [
             0.8888888888888888,
             "#fdca26"
            ],
            [
             1,
             "#f0f921"
            ]
           ],
           "sequentialminus": [
            [
             0,
             "#0d0887"
            ],
            [
             0.1111111111111111,
             "#46039f"
            ],
            [
             0.2222222222222222,
             "#7201a8"
            ],
            [
             0.3333333333333333,
             "#9c179e"
            ],
            [
             0.4444444444444444,
             "#bd3786"
            ],
            [
             0.5555555555555556,
             "#d8576b"
            ],
            [
             0.6666666666666666,
             "#ed7953"
            ],
            [
             0.7777777777777778,
             "#fb9f3a"
            ],
            [
             0.8888888888888888,
             "#fdca26"
            ],
            [
             1,
             "#f0f921"
            ]
           ]
          },
          "colorway": [
           "#636efa",
           "#EF553B",
           "#00cc96",
           "#ab63fa",
           "#FFA15A",
           "#19d3f3",
           "#FF6692",
           "#B6E880",
           "#FF97FF",
           "#FECB52"
          ],
          "font": {
           "color": "#2a3f5f"
          },
          "geo": {
           "bgcolor": "white",
           "lakecolor": "white",
           "landcolor": "#E5ECF6",
           "showlakes": true,
           "showland": true,
           "subunitcolor": "white"
          },
          "hoverlabel": {
           "align": "left"
          },
          "hovermode": "closest",
          "mapbox": {
           "style": "light"
          },
          "paper_bgcolor": "white",
          "plot_bgcolor": "#E5ECF6",
          "polar": {
           "angularaxis": {
            "gridcolor": "white",
            "linecolor": "white",
            "ticks": ""
           },
           "bgcolor": "#E5ECF6",
           "radialaxis": {
            "gridcolor": "white",
            "linecolor": "white",
            "ticks": ""
           }
          },
          "scene": {
           "xaxis": {
            "backgroundcolor": "#E5ECF6",
            "gridcolor": "white",
            "gridwidth": 2,
            "linecolor": "white",
            "showbackground": true,
            "ticks": "",
            "zerolinecolor": "white"
           },
           "yaxis": {
            "backgroundcolor": "#E5ECF6",
            "gridcolor": "white",
            "gridwidth": 2,
            "linecolor": "white",
            "showbackground": true,
            "ticks": "",
            "zerolinecolor": "white"
           },
           "zaxis": {
            "backgroundcolor": "#E5ECF6",
            "gridcolor": "white",
            "gridwidth": 2,
            "linecolor": "white",
            "showbackground": true,
            "ticks": "",
            "zerolinecolor": "white"
           }
          },
          "shapedefaults": {
           "line": {
            "color": "#2a3f5f"
           }
          },
          "ternary": {
           "aaxis": {
            "gridcolor": "white",
            "linecolor": "white",
            "ticks": ""
           },
           "baxis": {
            "gridcolor": "white",
            "linecolor": "white",
            "ticks": ""
           },
           "bgcolor": "#E5ECF6",
           "caxis": {
            "gridcolor": "white",
            "linecolor": "white",
            "ticks": ""
           }
          },
          "title": {
           "x": 0.05
          },
          "xaxis": {
           "automargin": true,
           "gridcolor": "white",
           "linecolor": "white",
           "ticks": "",
           "title": {
            "standoff": 15
           },
           "zerolinecolor": "white",
           "zerolinewidth": 2
          },
          "yaxis": {
           "automargin": true,
           "gridcolor": "white",
           "linecolor": "white",
           "ticks": "",
           "title": {
            "standoff": 15
           },
           "zerolinecolor": "white",
           "zerolinewidth": 2
          }
         }
        },
        "title": {
         "text": "이탈 vs 재구매 고객 ARRPU"
        },
        "xaxis": {
         "anchor": "y",
         "domain": [
          0,
          1
         ],
         "tickangle": -45,
         "title": {
          "text": "분류"
         }
        },
        "yaxis": {
         "anchor": "x",
         "domain": [
          0,
          1
         ],
         "title": {
          "text": "ARPPU"
         }
        }
       }
      }
     },
     "metadata": {},
     "output_type": "display_data"
    }
   ],
   "source": [
    "DOD = pd.DataFrame([48, 93],  ['이탈 고객', '재구매 고객'] ).reset_index()\n",
    "DOD.columns =['분류', 'ARPPU']\n",
    "# 막대 그래프 생성\n",
    "fig = px.bar(DOD, x=\"분류\", y=\"ARPPU\", title=\"이탈 vs 재구매 고객 ARRPU\", \n",
    "labels={'분류': \"분류\", \"ARPPU\": \"ARPPU\"}, text='ARPPU' )\n",
    "\n",
    "fig.update_layout(xaxis_tickangle=-45)  # x축 레이블 각도 조절\n",
    "\n",
    "fig.show()"
   ]
  },
  {
   "cell_type": "markdown",
   "metadata": {},
   "source": [
    " \n",
    "- 매출은 증가중이지만, \n",
    "- arppu 재구매 > 이탈 고객 // 재구매 고객은 늘지 않고 있다."
   ]
  },
  {
   "cell_type": "code",
   "execution_count": 16,
   "metadata": {},
   "outputs": [
    {
     "ename": "NameError",
     "evalue": "name 'px' is not defined",
     "output_type": "error",
     "traceback": [
      "\u001b[0;31m---------------------------------------------------------------------------\u001b[0m",
      "\u001b[0;31mNameError\u001b[0m                                 Traceback (most recent call last)",
      "Cell \u001b[0;32mIn [16], line 25\u001b[0m\n\u001b[1;32m     22\u001b[0m ddd2[\u001b[38;5;124m'\u001b[39m\u001b[38;5;124myear_month\u001b[39m\u001b[38;5;124m'\u001b[39m] \u001b[38;5;241m=\u001b[39m pd\u001b[38;5;241m.\u001b[39mto_datetime(ddd2[\u001b[38;5;124m'\u001b[39m\u001b[38;5;124myear_month\u001b[39m\u001b[38;5;124m'\u001b[39m], \u001b[38;5;28mformat\u001b[39m\u001b[38;5;241m=\u001b[39m\u001b[38;5;124m'\u001b[39m\u001b[38;5;124m%\u001b[39m\u001b[38;5;124mY-\u001b[39m\u001b[38;5;124m%\u001b[39m\u001b[38;5;124mm\u001b[39m\u001b[38;5;124m'\u001b[39m)\n\u001b[1;32m     24\u001b[0m \u001b[38;5;66;03m# px.bar\u001b[39;00m\n\u001b[0;32m---> 25\u001b[0m fig \u001b[38;5;241m=\u001b[39m px\u001b[38;5;241m.\u001b[39mline(ddd2,  \n\u001b[1;32m     26\u001b[0m              x\u001b[38;5;241m=\u001b[39m\u001b[38;5;124m'\u001b[39m\u001b[38;5;124myear_month\u001b[39m\u001b[38;5;124m'\u001b[39m, \n\u001b[1;32m     27\u001b[0m              y\u001b[38;5;241m=\u001b[39m\u001b[38;5;124m'\u001b[39m\u001b[38;5;124m고객수\u001b[39m\u001b[38;5;124m'\u001b[39m, \n\u001b[1;32m     28\u001b[0m              color\u001b[38;5;241m=\u001b[39m\u001b[38;5;124m'\u001b[39m\u001b[38;5;124m분류\u001b[39m\u001b[38;5;124m'\u001b[39m, \n\u001b[1;32m     29\u001b[0m          \u001b[38;5;66;03m#   barmode='group',\u001b[39;00m\n\u001b[1;32m     30\u001b[0m              title\u001b[38;5;241m=\u001b[39m\u001b[38;5;124m'\u001b[39m\u001b[38;5;124m전체 대비 이탈 및 재구매 고객수 추이\u001b[39m\u001b[38;5;124m'\u001b[39m,\n\u001b[1;32m     31\u001b[0m              labels\u001b[38;5;241m=\u001b[39m{\u001b[38;5;124m'\u001b[39m\u001b[38;5;124m고객수\u001b[39m\u001b[38;5;124m'\u001b[39m: \u001b[38;5;124m'\u001b[39m\u001b[38;5;124m고객수\u001b[39m\u001b[38;5;124m'\u001b[39m, \u001b[38;5;124m'\u001b[39m\u001b[38;5;124myear\u001b[39m\u001b[38;5;124m'\u001b[39m: \u001b[38;5;124m'\u001b[39m\u001b[38;5;124mYear\u001b[39m\u001b[38;5;124m'\u001b[39m})\n\u001b[1;32m     33\u001b[0m \u001b[38;5;66;03m# 2018년 2월 시점에 세로선 추가\u001b[39;00m\n\u001b[1;32m     34\u001b[0m fig\u001b[38;5;241m.\u001b[39madd_vline(x\u001b[38;5;241m=\u001b[39m\u001b[38;5;124m'\u001b[39m\u001b[38;5;124m2018-02\u001b[39m\u001b[38;5;124m'\u001b[39m, line\u001b[38;5;241m=\u001b[39m\u001b[38;5;28mdict\u001b[39m(color\u001b[38;5;241m=\u001b[39m\u001b[38;5;124m'\u001b[39m\u001b[38;5;124mgrey\u001b[39m\u001b[38;5;124m'\u001b[39m, dash\u001b[38;5;241m=\u001b[39m\u001b[38;5;124m'\u001b[39m\u001b[38;5;124mdash\u001b[39m\u001b[38;5;124m'\u001b[39m, width\u001b[38;5;241m=\u001b[39m\u001b[38;5;241m2\u001b[39m))\n",
      "\u001b[0;31mNameError\u001b[0m: name 'px' is not defined"
     ]
    }
   ],
   "source": [
    " \n",
    "repeat_df = pd.DataFrame(Repeat_Customer_df[['고객_유니크id', 'year_month']])\n",
    "churned_df = pd.DataFrame(Churned_Customer_df[['고객_유니크id', 'year_month']]) \n",
    " \n",
    "repeat_df['고객_유니크id'] = 1\n",
    "churned_df['고객_유니크id'] = 1\n",
    "\n",
    "churned_df['분류'] ='이탈 고객'\n",
    "repeat_df['분류'] ='재구매 고객'\n",
    "\n",
    "haha= pd.DataFrame(df[['고객_유니크id', 'year_month']].groupby(['고객_유니크id'])['year_month'].min()).reset_index() \n",
    "haha['고객_유니크id'] = 1\n",
    "haha['분류'] ='전체'\n",
    "\n",
    "\n",
    "D3 = pd.concat([repeat_df, churned_df, haha])\n",
    " \n",
    "ddd2 = pd.DataFrame(D3.groupby(['분류','year_month'])['고객_유니크id'].sum()).reset_index()\n",
    " \n",
    "ddd2.columns =['분류', 'year_month', '고객수']\n",
    "\n",
    "# year_month를 datetime 형식으로 변환\n",
    "ddd2['year_month'] = pd.to_datetime(ddd2['year_month'], format='%Y-%m')\n",
    "\n",
    "# px.bar\n",
    "fig = px.line(ddd2,  \n",
    "             x='year_month', \n",
    "             y='고객수', \n",
    "             color='분류', \n",
    "         #   barmode='group',\n",
    "             title='전체 대비 이탈 및 재구매 고객수 추이',\n",
    "             labels={'고객수': '고객수', 'year': 'Year'})\n",
    "\n",
    "# 2018년 2월 시점에 세로선 추가\n",
    "fig.add_vline(x='2018-02', line=dict(color='grey', dash='dash', width=2))\n",
    "\n",
    "fig.show() "
   ]
  },
  {
   "cell_type": "code",
   "execution_count": null,
   "metadata": {},
   "outputs": [],
   "source": []
  },
  {
   "cell_type": "markdown",
   "metadata": {},
   "source": [
    "-  문제 발견  : 낮은 재구매율\n",
    "- (코호트) 전체 기준 코호트 분석 \n",
    "    - 전반적으로 재구매율이 낮구나..\n",
    "\n",
    "    - 업계 벤치마크: 재구매율 1%는 대부분의 업계에서 매우 낮은 수치로 간주됩니다. \n",
    "        - 예를 들어, 전자상거래에서는 재구매율이 보통 20% 이상일 때 성공적인 비즈니스로 평가됩니다. 따라서 재구매율을 높이기 위한 지속적인 전략 개선이 필요합니다.\n",
    "    - 결론적으로, 재구매율이 1%인 코호트 분석 결과는 개선의 여지가 크다는 신호입니다. \n",
    "        - 고객 유지와 재구매를 유도하기 위해 위에서 언급한 다양한 전략을 적용하고, 고객의 경험을 개선하며, 제품이나 서비스 품질에 대해 깊이 분석하고 개선해 나가는 것이 중요합니다.\n",
    "\n",
    " "
   ]
  },
  {
   "cell_type": "code",
   "execution_count": 442,
   "metadata": {},
   "outputs": [
    {
     "name": "stderr",
     "output_type": "stream",
     "text": [
      "100%|██████████| 206/206 [00:00<00:00, 2353.91it/s]\n"
     ]
    },
    {
     "data": {
      "image/png": "[encoded data removed]",
      "text/plain": [
       "<Figure size 1500x1200 with 2 Axes>"
      ]
     },
     "metadata": {},
     "output_type": "display_data"
    }
   ],
   "source": [
    "# 전체 기준 코호트 분석\n",
    "### - 전반적으로 재구매율이 낮구나\n",
    "\n",
    "co = df[['주문id', 'date', '고객_유니크id', '결제금액_usd']] \n",
    "make_cohort_chart(co)"
   ]
  },
  {
   "cell_type": "code",
   "execution_count": null,
   "metadata": {},
   "outputs": [],
   "source": []
  },
  {
   "cell_type": "markdown",
   "metadata": {},
   "source": [
    "# 2) 가설 및 검증 결과 (T-TEST 분석) "
   ]
  },
  {
   "cell_type": "markdown",
   "metadata": {},
   "source": [
    "\n",
    "- #### 가설 : 서비스, 배송 관련 초기 구매 경험이 고객 이탈에 유의미한 영향을 미친다.\n",
    "- 검증 방식 : T-TEST\n",
    "    - 두 그룹(이탈/재구매) 간 차이가 유의미한지 보기 위해.\n",
    "\n",
    "    \n",
    " \n"
   ]
  },
  {
   "cell_type": "markdown",
   "metadata": {},
   "source": [
    "\n",
    "- 세부 가설 및 검증 결과 :\n",
    "\n",
    "    - [YES] 이탈고객의 리뷰답변 처리속도가 재구매 고객보다 더 느렸을 것이다. (온라인 만족도)\n",
    "    - [YES] 이탈고객의 배송소요시간, 물류처리시간, 고객_판매자 간 거리km 등이 재구매 고객보다 더 길었을 것이다. (오프라인 만족도)\n",
    "    - [YES] 이탈고객의 운임비용이 재구매 고객보다 더 높았을 것이다. (오프라인 만족도)"
   ]
  },
  {
   "cell_type": "markdown",
   "metadata": {},
   "source": [
    "- 고객 이탈에 유의미한 영향 미치지 않은 것 : 주문처리시간 (p-value 0.7)\n",
    "- 고객 이탈에 유의미한 영향 미친 것 (유의미한 변수, p-value < 0.05) : 리뷰답변 처리속도 ,   고객_판매자_거리_km  , 배송소요시간, 배송지연시간, 전체물류처리시간, 운임가격"
   ]
  },
  {
   "cell_type": "markdown",
   "metadata": {},
   "source": [
    "- #### '고객_판매자_거리_km ' : 특히 배송 문제의 근본 원인이 되는 변수\n",
    "- 이커머스에서 배송은 고객 만족도와 기업 수익성을 크게 좌우하는 주요 요소임 \n",
    "- #### ∴ 지역별 물류 센터 설치하자! 즉, 고객과 판매자의 거리_km를 줄여 배송 시간 단축하자!"
   ]
  },
  {
   "cell_type": "code",
   "execution_count": 18,
   "metadata": {},
   "outputs": [
    {
     "name": "stderr",
     "output_type": "stream",
     "text": [
      "/var/folders/32/kf__h26s36l08d_ty7fh2xjr0000gn/T/ipykernel_2580/2612872354.py:2: DtypeWarning: Columns (19) have mixed types. Specify dtype option on import or set low_memory=False.\n",
      "  one_review = pd.read_csv('/Users/johaneul/Desktop/coding_test/data_analysis/리뷰번역_olist_ecommerce_1번구매고객_2017.csv', index_col=0)\n"
     ]
    }
   ],
   "source": [
    "## 이탈 고객 중, 리뷰 작성한 사람 (첫 리뷰!! 첫 구매경험)\n",
    "one_review = pd.read_csv('/Users/johaneul/Desktop/coding_test/data_analysis/리뷰번역_olist_ecommerce_1번구매고객_2017.csv', index_col=0)\n",
    "## 재구매 고객 중, 리뷰 작성한 사람 (첫 리뷰!! 첫 구매경험)\n",
    "\n",
    "purchase_repeat_review = pd.read_csv('/Users/johaneul/Desktop/coding_test/data_analysis/리뷰번역_olist_ecommerce_재구매고객_2017.csv', index_col=0)"
   ]
  },
  {
   "cell_type": "code",
   "execution_count": 19,
   "metadata": {},
   "outputs": [
    {
     "name": "stdout",
     "output_type": "stream",
     "text": [
      "5865\n",
      "887\n"
     ]
    }
   ],
   "source": [
    "churn_mg =  pd.merge(Churned_Customer_df, one_review[[ '고객_유니크id','리뷰내용_한국어번역']], left_on = ['고객_유니크id'], right_on = ['고객_유니크id'], how='left')\n",
    "repeat_mg = pd.merge(Repeat_Customer_df, purchase_repeat_review[[ '고객_유니크id','주문id','리뷰내용_한국어번역']], left_on = ['고객_유니크id','주문id'], right_on = ['고객_유니크id','주문id'], how='left')\n",
    " # 추가 번역.. 일단 보류\n",
    " \n",
    "print(len(churn_mg[(churn_mg[ '리뷰내용'].notnull()) & (churn_mg[ '리뷰내용_한국어번역'].isnull()) ] ))\n",
    "print(len(repeat_mg[(repeat_mg[ '리뷰내용'].notnull()) & (repeat_mg[ '리뷰내용_한국어번역'].isnull()) ]))"
   ]
  },
  {
   "cell_type": "code",
   "execution_count": 20,
   "metadata": {},
   "outputs": [
    {
     "name": "stdout",
     "output_type": "stream",
     "text": [
      "53436 1977\n"
     ]
    }
   ],
   "source": [
    "print(churn_mg['고객_유니크id'].nunique(), repeat_mg['고객_유니크id'].nunique())"
   ]
  },
  {
   "cell_type": "markdown",
   "metadata": {},
   "source": [
    "- 이탈고객 vs 재구매 고객 :: 첫 경험 비교 ::: 리뷰 분석도 비교"
   ]
  },
  {
   "cell_type": "markdown",
   "metadata": {},
   "source": [
    " \n",
    "\n",
    "- 가설 1: 첫 구매 경험이 재구매 여부에 영향을 미친다\n",
    "\n",
    "-   세부 가설:\n",
    "    - 재구매 고객은 이탈 고객에 비해 초기 구매 시 배송 시간이 짧았을 것이다.\n"
   ]
  },
  {
   "cell_type": "code",
   "execution_count": 21,
   "metadata": {},
   "outputs": [
    {
     "data": {
      "text/html": [
       "<div>\n",
       "<style scoped>\n",
       "    .dataframe tbody tr th:only-of-type {\n",
       "        vertical-align: middle;\n",
       "    }\n",
       "\n",
       "    .dataframe tbody tr th {\n",
       "        vertical-align: top;\n",
       "    }\n",
       "\n",
       "    .dataframe thead th {\n",
       "        text-align: right;\n",
       "    }\n",
       "</style>\n",
       "<table border=\"1\" class=\"dataframe\">\n",
       "  <thead>\n",
       "    <tr style=\"text-align: right;\">\n",
       "      <th></th>\n",
       "      <th>리뷰답변_처리속도</th>\n",
       "      <th>주문처리시간</th>\n",
       "      <th>배송소요시간</th>\n",
       "      <th>배송지연시간</th>\n",
       "      <th>전체물류처리시간</th>\n",
       "      <th>운임가격_usd</th>\n",
       "      <th>고객_판매자_거리_km</th>\n",
       "    </tr>\n",
       "  </thead>\n",
       "  <tbody>\n",
       "    <tr>\n",
       "      <th>mean</th>\n",
       "      <td>2.812012</td>\n",
       "      <td>0.266893</td>\n",
       "      <td>9.649104</td>\n",
       "      <td>-11.981965</td>\n",
       "      <td>12.691098</td>\n",
       "      <td>5.939951</td>\n",
       "      <td>623.947203</td>\n",
       "    </tr>\n",
       "    <tr>\n",
       "      <th>std</th>\n",
       "      <td>12.061253</td>\n",
       "      <td>0.801438</td>\n",
       "      <td>9.237575</td>\n",
       "      <td>10.144383</td>\n",
       "      <td>9.998586</td>\n",
       "      <td>4.387658</td>\n",
       "      <td>598.907542</td>\n",
       "    </tr>\n",
       "    <tr>\n",
       "      <th>min</th>\n",
       "      <td>0.000000</td>\n",
       "      <td>0.000000</td>\n",
       "      <td>-17.000000</td>\n",
       "      <td>-140.000000</td>\n",
       "      <td>-7.000000</td>\n",
       "      <td>0.000000</td>\n",
       "      <td>0.000000</td>\n",
       "    </tr>\n",
       "    <tr>\n",
       "      <th>max</th>\n",
       "      <td>518.000000</td>\n",
       "      <td>60.000000</td>\n",
       "      <td>205.000000</td>\n",
       "      <td>188.000000</td>\n",
       "      <td>208.000000</td>\n",
       "      <td>98.557994</td>\n",
       "      <td>5338.619521</td>\n",
       "    </tr>\n",
       "  </tbody>\n",
       "</table>\n",
       "</div>"
      ],
      "text/plain": [
       "       리뷰답변_처리속도     주문처리시간      배송소요시간      배송지연시간    전체물류처리시간   운임가격_usd   \n",
       "mean    2.812012   0.266893    9.649104  -11.981965   12.691098   5.939951  \\\n",
       "std    12.061253   0.801438    9.237575   10.144383    9.998586   4.387658   \n",
       "min     0.000000   0.000000  -17.000000 -140.000000   -7.000000   0.000000   \n",
       "max   518.000000  60.000000  205.000000  188.000000  208.000000  98.557994   \n",
       "\n",
       "      고객_판매자_거리_km  \n",
       "mean    623.947203  \n",
       "std     598.907542  \n",
       "min       0.000000  \n",
       "max    5338.619521  "
      ]
     },
     "execution_count": 21,
     "metadata": {},
     "output_type": "execute_result"
    }
   ],
   "source": [
    "### 이탈고객 (첫 경험)\n",
    "'''\n",
    "최종 순서:\n",
    "주문처리시간\n",
    "배송소요시간\n",
    "배송지연시간\n",
    "전체물류처리시간\n",
    "이 순서에 따라 각 단계가 진행되며, 물류 프로세스의 효율성 및 지연 여부를 평가할 수 있습니다\n",
    "'''\n",
    "\n",
    "churn_mg[[  '리뷰답변_처리속도', '주문처리시간',  '배송소요시간', '배송지연시간',  '전체물류처리시간', \n",
    " '운임가격_usd' ,'고객_판매자_거리_km']].describe().T[['mean',\t'std'\t,'min','max']].T\n",
    "# , '제품_설명길이', '제품_사진수'"
   ]
  },
  {
   "cell_type": "code",
   "execution_count": 22,
   "metadata": {},
   "outputs": [
    {
     "data": {
      "text/html": [
       "<div>\n",
       "<style scoped>\n",
       "    .dataframe tbody tr th:only-of-type {\n",
       "        vertical-align: middle;\n",
       "    }\n",
       "\n",
       "    .dataframe tbody tr th {\n",
       "        vertical-align: top;\n",
       "    }\n",
       "\n",
       "    .dataframe thead th {\n",
       "        text-align: right;\n",
       "    }\n",
       "</style>\n",
       "<table border=\"1\" class=\"dataframe\">\n",
       "  <thead>\n",
       "    <tr style=\"text-align: right;\">\n",
       "      <th></th>\n",
       "      <th>리뷰답변_처리속도</th>\n",
       "      <th>주문처리시간</th>\n",
       "      <th>배송소요시간</th>\n",
       "      <th>배송지연시간</th>\n",
       "      <th>전체물류처리시간</th>\n",
       "      <th>운임가격_usd</th>\n",
       "      <th>고객_판매자_거리_km</th>\n",
       "    </tr>\n",
       "  </thead>\n",
       "  <tbody>\n",
       "    <tr>\n",
       "      <th>mean</th>\n",
       "      <td>2.307577</td>\n",
       "      <td>0.272955</td>\n",
       "      <td>8.257833</td>\n",
       "      <td>-12.668207</td>\n",
       "      <td>11.031330</td>\n",
       "      <td>5.674114</td>\n",
       "      <td>549.160194</td>\n",
       "    </tr>\n",
       "    <tr>\n",
       "      <th>std</th>\n",
       "      <td>7.869239</td>\n",
       "      <td>0.793900</td>\n",
       "      <td>7.323552</td>\n",
       "      <td>8.881360</td>\n",
       "      <td>8.171941</td>\n",
       "      <td>3.857166</td>\n",
       "      <td>540.369587</td>\n",
       "    </tr>\n",
       "    <tr>\n",
       "      <th>min</th>\n",
       "      <td>0.000000</td>\n",
       "      <td>0.000000</td>\n",
       "      <td>0.000000</td>\n",
       "      <td>-71.000000</td>\n",
       "      <td>-3.000000</td>\n",
       "      <td>0.000000</td>\n",
       "      <td>0.121756</td>\n",
       "    </tr>\n",
       "    <tr>\n",
       "      <th>max</th>\n",
       "      <td>204.000000</td>\n",
       "      <td>12.000000</td>\n",
       "      <td>65.000000</td>\n",
       "      <td>47.000000</td>\n",
       "      <td>88.000000</td>\n",
       "      <td>45.764890</td>\n",
       "      <td>3291.983690</td>\n",
       "    </tr>\n",
       "  </tbody>\n",
       "</table>\n",
       "</div>"
      ],
      "text/plain": [
       "       리뷰답변_처리속도     주문처리시간     배송소요시간     배송지연시간   전체물류처리시간   운임가격_usd   \n",
       "mean    2.307577   0.272955   8.257833 -12.668207  11.031330   5.674114  \\\n",
       "std     7.869239   0.793900   7.323552   8.881360   8.171941   3.857166   \n",
       "min     0.000000   0.000000   0.000000 -71.000000  -3.000000   0.000000   \n",
       "max   204.000000  12.000000  65.000000  47.000000  88.000000  45.764890   \n",
       "\n",
       "      고객_판매자_거리_km  \n",
       "mean    549.160194  \n",
       "std     540.369587  \n",
       "min       0.121756  \n",
       "max    3291.983690  "
      ]
     },
     "execution_count": 22,
     "metadata": {},
     "output_type": "execute_result"
    }
   ],
   "source": [
    "repeat_mg_first = pd.DataFrame(repeat_mg.groupby([ '고객_유니크id'])['구매시간'].min()).reset_index()\n",
    "repeat_mg_first = pd.merge(repeat_mg_first, repeat_mg, left_on = ['고객_유니크id', '구매시간'], right_on =  ['고객_유니크id', '구매시간'], how='left').drop_duplicates()\n",
    "\n",
    "## 재구매 고객 (첫 경험)\n",
    "repeat_mg_first[['리뷰답변_처리속도', '주문처리시간',  '배송소요시간', '배송지연시간',  '전체물류처리시간',  \n",
    " '운임가격_usd' ,'고객_판매자_거리_km']].describe().T[['mean',\t'std'\t,'min','max']].T"
   ]
  },
  {
   "cell_type": "code",
   "execution_count": 23,
   "metadata": {},
   "outputs": [
    {
     "name": "stdout",
     "output_type": "stream",
     "text": [
      "리뷰답변_처리속도 , T-Statistic: -2.7455440602750083, P-Value: 0.0060870494410759785\n",
      "주문처리시간 , T-Statistic: 0.3346813287846356, P-Value: 0.7378982243763642\n",
      "배송소요시간 , T-Statistic: -8.147322502478936, P-Value: 6.196586498107428e-16\n",
      "배송지연시간 , T-Statistic: -3.3303988633747843, P-Value: 0.0008819645228035389\n",
      "전체물류처리시간 , T-Statistic: -8.724849449679379, P-Value: 5.212307138050957e-18\n",
      "운임가격_usd , T-Statistic: -3.006095690500559, P-Value: 0.002676377648677815\n",
      "고객_판매자_거리_km , T-Statistic: -6.01960590388467, P-Value: 2.0490572350753944e-09\n"
     ]
    }
   ],
   "source": [
    "from scipy import stats\n",
    "\n",
    "# 재구매 고객과 이탈 고객의 배송소요시간을 분리 \n",
    "for t in ['리뷰답변_처리속도', '주문처리시간',  '배송소요시간', '배송지연시간',  '전체물류처리시간', \n",
    " '운임가격_usd' ,'고객_판매자_거리_km']:\n",
    "    # 독립 표본 t-검정\n",
    "    t_stat, p_value = stats.ttest_ind(repeat_mg_first[repeat_mg_first[t].notnull()][t], churn_mg[churn_mg[t].notnull()][t], equal_var=False )\n",
    "\n",
    "    print(f\"{t} , T-Statistic: {t_stat}, P-Value: {p_value}\")\n",
    " "
   ]
  },
  {
   "cell_type": "code",
   "execution_count": 153,
   "metadata": {},
   "outputs": [
    {
     "data": {
      "text/html": [
       "<div>\n",
       "<style scoped>\n",
       "    .dataframe tbody tr th:only-of-type {\n",
       "        vertical-align: middle;\n",
       "    }\n",
       "\n",
       "    .dataframe tbody tr th {\n",
       "        vertical-align: top;\n",
       "    }\n",
       "\n",
       "    .dataframe thead th {\n",
       "        text-align: right;\n",
       "    }\n",
       "</style>\n",
       "<table border=\"1\" class=\"dataframe\">\n",
       "  <thead>\n",
       "    <tr style=\"text-align: right;\">\n",
       "      <th></th>\n",
       "      <th>리뷰답변_처리속도</th>\n",
       "      <th>평점</th>\n",
       "      <th>제품가격_usd</th>\n",
       "      <th>결제금액_usd</th>\n",
       "      <th>제품_설명길이</th>\n",
       "      <th>제품_사진수</th>\n",
       "    </tr>\n",
       "  </thead>\n",
       "  <tbody>\n",
       "    <tr>\n",
       "      <th>mean</th>\n",
       "      <td>2.812012</td>\n",
       "      <td>4.071854</td>\n",
       "      <td>38.031135</td>\n",
       "      <td>47.381098</td>\n",
       "      <td>773.089020</td>\n",
       "      <td>2.247144</td>\n",
       "    </tr>\n",
       "    <tr>\n",
       "      <th>std</th>\n",
       "      <td>12.061253</td>\n",
       "      <td>1.344972</td>\n",
       "      <td>57.625006</td>\n",
       "      <td>66.202476</td>\n",
       "      <td>653.314421</td>\n",
       "      <td>1.741354</td>\n",
       "    </tr>\n",
       "    <tr>\n",
       "      <th>min</th>\n",
       "      <td>0.000000</td>\n",
       "      <td>1.000000</td>\n",
       "      <td>0.376176</td>\n",
       "      <td>0.003135</td>\n",
       "      <td>4.000000</td>\n",
       "      <td>1.000000</td>\n",
       "    </tr>\n",
       "    <tr>\n",
       "      <th>max</th>\n",
       "      <td>518.000000</td>\n",
       "      <td>5.000000</td>\n",
       "      <td>2111.285266</td>\n",
       "      <td>4283.410658</td>\n",
       "      <td>3992.000000</td>\n",
       "      <td>20.000000</td>\n",
       "    </tr>\n",
       "  </tbody>\n",
       "</table>\n",
       "</div>"
      ],
      "text/plain": [
       "       리뷰답변_처리속도        평점     제품가격_usd     결제금액_usd      제품_설명길이     제품_사진수\n",
       "mean    2.812012  4.071854    38.031135    47.381098   773.089020   2.247144\n",
       "std    12.061253  1.344972    57.625006    66.202476   653.314421   1.741354\n",
       "min     0.000000  1.000000     0.376176     0.003135     4.000000   1.000000\n",
       "max   518.000000  5.000000  2111.285266  4283.410658  3992.000000  20.000000"
      ]
     },
     "execution_count": 153,
     "metadata": {},
     "output_type": "execute_result"
    }
   ],
   "source": [
    "churn_mg[[ '평점', '제품가격_usd','결제금액_usd', '제품_설명길이', '제품_사진수']].describe().T[['mean',\t'std'\t,'min','max']].T"
   ]
  },
  {
   "cell_type": "code",
   "execution_count": 24,
   "metadata": {},
   "outputs": [
    {
     "data": {
      "text/html": [
       "<div>\n",
       "<style scoped>\n",
       "    .dataframe tbody tr th:only-of-type {\n",
       "        vertical-align: middle;\n",
       "    }\n",
       "\n",
       "    .dataframe tbody tr th {\n",
       "        vertical-align: top;\n",
       "    }\n",
       "\n",
       "    .dataframe thead th {\n",
       "        text-align: right;\n",
       "    }\n",
       "</style>\n",
       "<table border=\"1\" class=\"dataframe\">\n",
       "  <thead>\n",
       "    <tr style=\"text-align: right;\">\n",
       "      <th></th>\n",
       "      <th>리뷰답변_처리속도</th>\n",
       "      <th>평점</th>\n",
       "      <th>제품가격_usd</th>\n",
       "      <th>결제금액_usd</th>\n",
       "      <th>제품_설명길이</th>\n",
       "      <th>제품_사진수</th>\n",
       "    </tr>\n",
       "  </thead>\n",
       "  <tbody>\n",
       "    <tr>\n",
       "      <th>mean</th>\n",
       "      <td>2.307577</td>\n",
       "      <td>4.241846</td>\n",
       "      <td>33.189988</td>\n",
       "      <td>44.491914</td>\n",
       "      <td>764.949824</td>\n",
       "      <td>2.11139</td>\n",
       "    </tr>\n",
       "    <tr>\n",
       "      <th>std</th>\n",
       "      <td>7.869239</td>\n",
       "      <td>1.242130</td>\n",
       "      <td>41.734421</td>\n",
       "      <td>52.036397</td>\n",
       "      <td>650.040291</td>\n",
       "      <td>1.63042</td>\n",
       "    </tr>\n",
       "    <tr>\n",
       "      <th>min</th>\n",
       "      <td>0.000000</td>\n",
       "      <td>1.000000</td>\n",
       "      <td>1.536050</td>\n",
       "      <td>0.024658</td>\n",
       "      <td>31.000000</td>\n",
       "      <td>1.00000</td>\n",
       "    </tr>\n",
       "    <tr>\n",
       "      <th>max</th>\n",
       "      <td>204.000000</td>\n",
       "      <td>5.000000</td>\n",
       "      <td>815.047022</td>\n",
       "      <td>823.219436</td>\n",
       "      <td>3939.000000</td>\n",
       "      <td>15.00000</td>\n",
       "    </tr>\n",
       "  </tbody>\n",
       "</table>\n",
       "</div>"
      ],
      "text/plain": [
       "       리뷰답변_처리속도        평점    제품가격_usd    결제금액_usd      제품_설명길이    제품_사진수\n",
       "mean    2.307577  4.241846   33.189988   44.491914   764.949824   2.11139\n",
       "std     7.869239  1.242130   41.734421   52.036397   650.040291   1.63042\n",
       "min     0.000000  1.000000    1.536050    0.024658    31.000000   1.00000\n",
       "max   204.000000  5.000000  815.047022  823.219436  3939.000000  15.00000"
      ]
     },
     "execution_count": 24,
     "metadata": {},
     "output_type": "execute_result"
    }
   ],
   "source": [
    "\n",
    "## 재구매 고객 (초기 경험)\n",
    "repeat_mg_first[[ '리뷰답변_처리속도','평점', '제품가격_usd','결제금액_usd', '제품_설명길이', '제품_사진수']].describe().T[['mean',\t'std'\t,'min','max']].T"
   ]
  },
  {
   "cell_type": "code",
   "execution_count": 157,
   "metadata": {},
   "outputs": [
    {
     "name": "stdout",
     "output_type": "stream",
     "text": [
      "리뷰답변_처리속도 , T-Statistic: -2.7455440602750083, P-Value: 0.0060870494410759785\n",
      "평점 , T-Statistic: 5.981998192059213, P-Value: 2.571631630818435e-09\n",
      "제품가격_usd , T-Statistic: -5.005979499935355, P-Value: 5.983051212743944e-07\n",
      "결제금액_usd , T-Statistic: -2.4080358593904108, P-Value: 0.01611909090671165\n",
      "제품_설명길이 , T-Statistic: -0.5488739265761163, P-Value: 0.5831491612529967\n",
      "제품_사진수 , T-Statistic: -3.6415019617925126, P-Value: 0.00027742263764770784\n"
     ]
    }
   ],
   "source": [
    "from scipy import stats\n",
    "\n",
    "# 재구매 고객과 이탈 고객의 배송소요시간을 분리 \n",
    "for t in [ '리뷰답변_처리속도','평점', '제품가격_usd','결제금액_usd',  '제품_설명길이', '제품_사진수']:\n",
    "    # 독립 표본 t-검정\n",
    "    t_stat, p_value = stats.ttest_ind(repeat_mg_first[repeat_mg_first[t].notnull()][t], churn_mg[churn_mg[t].notnull()][t] , equal_var=False)\n",
    "\n",
    "    print(f\"{t} , T-Statistic: {t_stat}, P-Value: {p_value}\")\n",
    " "
   ]
  },
  {
   "cell_type": "code",
   "execution_count": null,
   "metadata": {},
   "outputs": [],
   "source": []
  },
  {
   "cell_type": "markdown",
   "metadata": {},
   "source": [
    "# 3) 가설 및 검증 결과 (고객 리뷰 긍부정 분석) "
   ]
  },
  {
   "cell_type": "markdown",
   "metadata": {},
   "source": [
    "\n",
    "- #### 가설 : 제품, 배송, 사이트 관련 부정적 초기 경험이 고객 이탈에 영향을 미친다.\n",
    "- 검증 방식 : 리뷰 긍부정 비교 분석 \n",
    "- 형태소 분석을 기반으로 명사, 형용사 추출 -> '제품', '배송'등 주요 키워드별 n-gram 분석 -> 긍·부정 태깅   -> 부정적 단어 빈도(%) 비교: 이탈 고객 vs 재구매 고객\n",
    "    - (리뷰 분석 이유) 고객의 온오프라인 경험, 특히 ‘제품’에 대한 고객 경험도 더 깊게 파악하기 위해. \n",
    "\n",
    "\n",
    "\n",
    "- 세부 가설 및 검증 결과 :\n",
    "\n",
    "    - [YES] 이탈고객은 재구매 고객보다 제품'품질'에 관한 부정적 단어 언급 빈도율(%) 이 더 높았을 것이다. (오프라인 만족도)\n",
    "    - [YES] 이탈고객은 재구매 고객보다 제품'마감'에 관한 부정적 단어 언급 빈도율(%) 이 더 높았을 것이다. (오프라인 만족도)\n",
    "    - [YES] 이탈고객은 재구매 고객보다 '배송'에 관한 부정적 단어 언급 빈도율(%) 이 더 높았을 것이다. (오프라인 만족도)\n",
    "    - [YES] 이탈고객은 재구매 고객보다 '사이트'에 관한 부정적 단어 언급 빈도율(%) 이 더 높았을 것이다. (오프라인 만족도)\n",
    "    - [YES] 이탈고객은 재구매 고객보다 사이트'구매'에 관한 부정적 단어 언급 빈도율(%) 이 더 높았을 것이다. (오프라인 만족도)\n",
    "\n"
   ]
  },
  {
   "cell_type": "code",
   "execution_count": 25,
   "metadata": {},
   "outputs": [],
   "source": []
  },
  {
   "cell_type": "markdown",
   "metadata": {},
   "source": [
    "# 위 부분은 다음 notebook에 정리됨. "
   ]
  },
  {
   "cell_type": "markdown",
   "metadata": {},
   "source": [
    "-to be continued- "
   ]
  },
  {
   "cell_type": "code",
   "execution_count": null,
   "metadata": {},
   "outputs": [],
   "source": []
  },
  {
   "cell_type": "code",
   "execution_count": null,
   "metadata": {},
   "outputs": [],
   "source": []
  }
 ],
 "metadata": {
  "kernelspec": {
   "display_name": "Python 3.8.9 64-bit",
   "language": "python",
   "name": "python3"
  },
  "language_info": {
   "codemirror_mode": {
    "name": "ipython",
    "version": 3
   },
   "file_extension": ".py",
   "mimetype": "text/x-python",
   "name": "python",
   "nbconvert_exporter": "python",
   "pygments_lexer": "ipython3",
   "version": "3.8.9"
  },
  "orig_nbformat": 4,
  "vscode": {
   "interpreter": {
    "hash": "31f2aee4e71d21fbe5cf8b01ff0e069b9275f58929596ceb00d14d90e3e16cd6"
   }
  }
 },
 "nbformat": 4,
 "nbformat_minor": 2
}

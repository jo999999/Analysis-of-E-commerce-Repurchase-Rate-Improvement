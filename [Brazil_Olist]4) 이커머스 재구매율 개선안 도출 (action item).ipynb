{
 "cells": [
  {
   "cell_type": "markdown",
   "metadata": {},
   "source": [
    "# 4) 이커머스 재구매율 개선안 도출 (action item)"
   ]
  },
  {
   "cell_type": "markdown",
   "metadata": {},
   "source": [
    "\n",
    "### 분석 결과, 고객 이탈의 주요 원인은 제품 품질 문제, 배송 지연, 사이트 불만족이었습니다.\n",
    "\n",
    "- ### ∴ 이커머스 재구매율 개선 방안은 다음과 같습니다. \n",
    " "
   ]
  },
  {
   "cell_type": "markdown",
   "metadata": {},
   "source": [
    "## <1> 문제 제품군 식별 후 품질 개선\n",
    "\n",
    "    - 결론 : 아래 제품군들의 품질을 개선합니다. (종합 점수 기준)\n",
    "    \n",
    "        - 가전/전자제품, 가구/인테리어  (카테고리 대분류)\n",
    "        - 가구 및 장식, 건강 및 미용 등 (카테고리 소분류) \n",
    "\n",
    "\n",
    "        \n",
    "        - \n",
    "\n",
    "\n",
    "\n",
    "\n"
   ]
  },
  {
   "cell_type": "markdown",
   "metadata": {},
   "source": [
    "\n",
    "- 참고 )  '종합 점수' 계산\n",
    "    - 종합 점수 높음 == 부정 리뷰 받은 제품'수' 많고 & 부정 '비율' 높음  \n",
    "    - 종합점수 = 부정적인 리뷰 제품수 * (부정비율 / 100) "
   ]
  },
  {
   "cell_type": "markdown",
   "metadata": {},
   "source": [
    "    - \n",
    "\n",
    " \n",
    "    - "
   ]
  },
  {
   "cell_type": "markdown",
   "metadata": {},
   "source": [
    "## <2> 지역 물류 센터를 설치해 배송 시간 단축\n",
    "\n",
    "    - 결론 : 3개 도시들에 지역 물류 센터를 설치합니다. (파레토 법칙 + 가중치 점수 기준) \n",
    "    \n",
    "        - 상파울루 (SP), 벨루오리존치 (MG), 리오데자네이로 (RJ)   \n",
    "           (각각 경제 중심지, 산업 중심지, 항만과 공항 인프라 발달)\n",
    "        \n",
    "        - 선택과 집중 전략으로 주요 경제 지역에 물류 센터를 설치해야 함. \n",
    "             (브라질은 지리적 한계 존재 - 교통 인프라 미비, 아마존 밀림 지역 등 모든 지역을 포괄할 수 없기 때문)\n",
    "\n",
    "\n",
    "        \n",
    "        - \n",
    "\n",
    "\n",
    "\n",
    "\n",
    "\n",
    "- 참고 ) '파레토 법칙 + 가중치 점수' 계산 \n",
    "    - 파레토 법칙을 기반으로 상위 20% 판매자가 밀집된 주(state)에 가중치(1.5)를 부여하고, 점수는 고객 수, 판매자 수, 평균 거리 등을 반영해 계산합니다. \n",
    "    - 점수= α* 고객 수 + β *판매자수 * 파레토 가중치−γ⋅(평균 거리)"
   ]
  },
  {
   "cell_type": "code",
   "execution_count": null,
   "metadata": {},
   "outputs": [],
   "source": []
  },
  {
   "cell_type": "markdown",
   "metadata": {},
   "source": [
    "----"
   ]
  },
  {
   "cell_type": "markdown",
   "metadata": {},
   "source": [
    "# <1> 문제 제품군 식별 후 품질 개선"
   ]
  },
  {
   "cell_type": "markdown",
   "metadata": {},
   "source": [
    "- 문제가 되는 제품 카테고리. 개선이 필요한 제품군 추리기.\n",
    "- 가설 검증 바탕으로"
   ]
  },
  {
   "cell_type": "code",
   "execution_count": null,
   "metadata": {},
   "outputs": [],
   "source": [
    "## 이탈고객\n",
    "## 제품 중 부정적인거. \n",
    "d_0 = df_rev[df_rev['리뷰내용_한국어번역'].str.contains('제품') &\n",
    "             df_rev['리뷰내용_한국어번역'].str.contains('미흡|불완전|하자|꺼져|약하|떨어|손상|불량|안|부족|불가능|없|스트레스|실망|오류|환불|누락|불만|어려|한탄|어려움|취소|반품|문제|최악|터무니없|황당|짧|적|작|나쁘|슬프|낮|다르|손상|후회|비관|열등|결함|취소', regex=True)]\n",
    " \n",
    "d_00 = df_rev[df_rev['리뷰내용_한국어번역'].str.contains('제품')]\n",
    "\n",
    "## 이탈고객\n",
    "## 품질 중 부정적인거.\n",
    " \n",
    "d_1 = df_rev[df_rev['리뷰내용_한국어번역'].str.contains('마감') &\n",
    "             df_rev['리뷰내용_한국어번역'].str.contains('싫|불명|너|않|불|미흡|불완전|부서|하자|꺼져|약하|떨어|손상|불량|안|힘들|부족|불가능|없|스트레스|실망|오류|환불|누락|불만|어려|한탄|어려움|취소|지체|반품|문제|미만|이하|최악|터무니없|황당|짧|작|적|나쁘|슬프|어렵|낮|다르|손상|후회|비관|열등|비싸|결함|취소', regex=True)]\n",
    " \n",
    "d_11 = df_rev[df_rev['리뷰내용_한국어번역'].str.contains('마감') ]\n",
    "\n",
    "## 이탈고객\n",
    "## 마감 중 부정적인거.\n",
    " \n",
    "d_2 = df_rev[df_rev['리뷰내용_한국어번역'].str.contains('품질') &\n",
    "             df_rev['리뷰내용_한국어번역'].str.contains('부서|싫|불|미흡|불완전|부서|하자|꺼져|약하|떨어|손상|불량|안|힘들|부족|불가능|없|스트레스|실망|오류|환불|누락|불만|어려|한탄|어려움|취소|지체|반품|문제|미만|이하|최악|터무니없|황당|짧|나쁘|슬프|어렵|낮|다르|손상|후회|비관|열등|비싸|결함|취소', regex=True)]\n",
    "\n",
    "d_22 = df_rev[df_rev['리뷰내용_한국어번역'].str.contains('품질')]\n",
    "\n",
    "dddd = pd.DataFrame(pd.concat([d_0, d_1, d_2])['category_대분류'].value_counts()).reset_index()\n",
    "dddd2 = pd.DataFrame(pd.concat([d_00, d_11, d_22])['category_대분류'].value_counts()).reset_index()\n",
    "\n",
    "haha = pd.merge(dddd, dddd2, left_on = 'category_대분류',right_on = 'category_대분류')\n",
    "haha.columns =['category_대분류', '부정', '전체(제품 품질 및 마감 관련)']\n",
    "haha['부정비율(%)'] = (haha['부정']/haha['전체(제품 품질 및 마감 관련)'])*100\n",
    "\n",
    "dddd = pd.DataFrame(pd.concat([d_0, d_1, d_2])['category_korean'].value_counts()).reset_index()\n",
    "dddd2 = pd.DataFrame(pd.concat([d_00, d_11, d_22])['category_korean'].value_counts()).reset_index()\n",
    "\n",
    "haha2 = pd.merge(dddd, dddd2, left_on = 'category_korean',right_on = 'category_korean')\n",
    "haha2.columns =['category_korean', '부정', '전체(제품 품질 및 마감 관련)']\n",
    "haha2['부정비율(%)'] = (haha2['부정']/haha2['전체(제품 품질 및 마감 관련)'])*100"
   ]
  },
  {
   "cell_type": "markdown",
   "metadata": {},
   "source": [
    "## 주요 문제 제품군(카테고리별) 식별"
   ]
  },
  {
   "cell_type": "code",
   "execution_count": null,
   "metadata": {},
   "outputs": [
    {
     "data": {
      "application/vnd.plotly.v1+json": {
       "config": {
        "plotlyServerURL": "https://plot.ly"
       },
       "data": [
        {
         "type": "bar",
         "x": [
          "가구/인테리어",
          "가전/전자제품",
          "취미/레저/스포츠",
          "가정용품/생활용품",
          "애완/유아",
          "패션/액세서리",
          "건강/미용",
          "서적/미술/교육",
          "비즈니스/산업",
          "식품/음료"
         ],
         "y": [
          529,
          432,
          309,
          263,
          236,
          227,
          224,
          57,
          15,
          6
         ]
        }
       ],
       "layout": {
        "template": {
         "data": {
          "bar": [
           {
            "error_x": {
             "color": "#2a3f5f"
            },
            "error_y": {
             "color": "#2a3f5f"
            },
            "marker": {
             "line": {
              "color": "#E5ECF6",
              "width": 0.5
             },
             "pattern": {
              "fillmode": "overlay",
              "size": 10,
              "solidity": 0.2
             }
            },
            "type": "bar"
           }
          ],
          "barpolar": [
           {
            "marker": {
             "line": {
              "color": "#E5ECF6",
              "width": 0.5
             },
             "pattern": {
              "fillmode": "overlay",
              "size": 10,
              "solidity": 0.2
             }
            },
            "type": "barpolar"
           }
          ],
          "carpet": [
           {
            "aaxis": {
             "endlinecolor": "#2a3f5f",
             "gridcolor": "white",
             "linecolor": "white",
             "minorgridcolor": "white",
             "startlinecolor": "#2a3f5f"
            },
            "baxis": {
             "endlinecolor": "#2a3f5f",
             "gridcolor": "white",
             "linecolor": "white",
             "minorgridcolor": "white",
             "startlinecolor": "#2a3f5f"
            },
            "type": "carpet"
           }
          ],
          "choropleth": [
           {
            "colorbar": {
             "outlinewidth": 0,
             "ticks": ""
            },
            "type": "choropleth"
           }
          ],
          "contour": [
           {
            "colorbar": {
             "outlinewidth": 0,
             "ticks": ""
            },
            "colorscale": [
             [
              0,
              "#0d0887"
             ],
             [
              0.1111111111111111,
              "#46039f"
             ],
             [
              0.2222222222222222,
              "#7201a8"
             ],
             [
              0.3333333333333333,
              "#9c179e"
             ],
             [
              0.4444444444444444,
              "#bd3786"
             ],
             [
              0.5555555555555556,
              "#d8576b"
             ],
             [
              0.6666666666666666,
              "#ed7953"
             ],
             [
              0.7777777777777778,
              "#fb9f3a"
             ],
             [
              0.8888888888888888,
              "#fdca26"
             ],
             [
              1,
              "#f0f921"
             ]
            ],
            "type": "contour"
           }
          ],
          "contourcarpet": [
           {
            "colorbar": {
             "outlinewidth": 0,
             "ticks": ""
            },
            "type": "contourcarpet"
           }
          ],
          "heatmap": [
           {
            "colorbar": {
             "outlinewidth": 0,
             "ticks": ""
            },
            "colorscale": [
             [
              0,
              "#0d0887"
             ],
             [
              0.1111111111111111,
              "#46039f"
             ],
             [
              0.2222222222222222,
              "#7201a8"
             ],
             [
              0.3333333333333333,
              "#9c179e"
             ],
             [
              0.4444444444444444,
              "#bd3786"
             ],
             [
              0.5555555555555556,
              "#d8576b"
             ],
             [
              0.6666666666666666,
              "#ed7953"
             ],
             [
              0.7777777777777778,
              "#fb9f3a"
             ],
             [
              0.8888888888888888,
              "#fdca26"
             ],
             [
              1,
              "#f0f921"
             ]
            ],
            "type": "heatmap"
           }
          ],
          "heatmapgl": [
           {
            "colorbar": {
             "outlinewidth": 0,
             "ticks": ""
            },
            "colorscale": [
             [
              0,
              "#0d0887"
             ],
             [
              0.1111111111111111,
              "#46039f"
             ],
             [
              0.2222222222222222,
              "#7201a8"
             ],
             [
              0.3333333333333333,
              "#9c179e"
             ],
             [
              0.4444444444444444,
              "#bd3786"
             ],
             [
              0.5555555555555556,
              "#d8576b"
             ],
             [
              0.6666666666666666,
              "#ed7953"
             ],
             [
              0.7777777777777778,
              "#fb9f3a"
             ],
             [
              0.8888888888888888,
              "#fdca26"
             ],
             [
              1,
              "#f0f921"
             ]
            ],
            "type": "heatmapgl"
           }
          ],
          "histogram": [
           {
            "marker": {
             "pattern": {
              "fillmode": "overlay",
              "size": 10,
              "solidity": 0.2
             }
            },
            "type": "histogram"
           }
          ],
          "histogram2d": [
           {
            "colorbar": {
             "outlinewidth": 0,
             "ticks": ""
            },
            "colorscale": [
             [
              0,
              "#0d0887"
             ],
             [
              0.1111111111111111,
              "#46039f"
             ],
             [
              0.2222222222222222,
              "#7201a8"
             ],
             [
              0.3333333333333333,
              "#9c179e"
             ],
             [
              0.4444444444444444,
              "#bd3786"
             ],
             [
              0.5555555555555556,
              "#d8576b"
             ],
             [
              0.6666666666666666,
              "#ed7953"
             ],
             [
              0.7777777777777778,
              "#fb9f3a"
             ],
             [
              0.8888888888888888,
              "#fdca26"
             ],
             [
              1,
              "#f0f921"
             ]
            ],
            "type": "histogram2d"
           }
          ],
          "histogram2dcontour": [
           {
            "colorbar": {
             "outlinewidth": 0,
             "ticks": ""
            },
            "colorscale": [
             [
              0,
              "#0d0887"
             ],
             [
              0.1111111111111111,
              "#46039f"
             ],
             [
              0.2222222222222222,
              "#7201a8"
             ],
             [
              0.3333333333333333,
              "#9c179e"
             ],
             [
              0.4444444444444444,
              "#bd3786"
             ],
             [
              0.5555555555555556,
              "#d8576b"
             ],
             [
              0.6666666666666666,
              "#ed7953"
             ],
             [
              0.7777777777777778,
              "#fb9f3a"
             ],
             [
              0.8888888888888888,
              "#fdca26"
             ],
             [
              1,
              "#f0f921"
             ]
            ],
            "type": "histogram2dcontour"
           }
          ],
          "mesh3d": [
           {
            "colorbar": {
             "outlinewidth": 0,
             "ticks": ""
            },
            "type": "mesh3d"
           }
          ],
          "parcoords": [
           {
            "line": {
             "colorbar": {
              "outlinewidth": 0,
              "ticks": ""
             }
            },
            "type": "parcoords"
           }
          ],
          "pie": [
           {
            "automargin": true,
            "type": "pie"
           }
          ],
          "scatter": [
           {
            "fillpattern": {
             "fillmode": "overlay",
             "size": 10,
             "solidity": 0.2
            },
            "type": "scatter"
           }
          ],
          "scatter3d": [
           {
            "line": {
             "colorbar": {
              "outlinewidth": 0,
              "ticks": ""
             }
            },
            "marker": {
             "colorbar": {
              "outlinewidth": 0,
              "ticks": ""
             }
            },
            "type": "scatter3d"
           }
          ],
          "scattercarpet": [
           {
            "marker": {
             "colorbar": {
              "outlinewidth": 0,
              "ticks": ""
             }
            },
            "type": "scattercarpet"
           }
          ],
          "scattergeo": [
           {
            "marker": {
             "colorbar": {
              "outlinewidth": 0,
              "ticks": ""
             }
            },
            "type": "scattergeo"
           }
          ],
          "scattergl": [
           {
            "marker": {
             "colorbar": {
              "outlinewidth": 0,
              "ticks": ""
             }
            },
            "type": "scattergl"
           }
          ],
          "scattermapbox": [
           {
            "marker": {
             "colorbar": {
              "outlinewidth": 0,
              "ticks": ""
             }
            },
            "type": "scattermapbox"
           }
          ],
          "scatterpolar": [
           {
            "marker": {
             "colorbar": {
              "outlinewidth": 0,
              "ticks": ""
             }
            },
            "type": "scatterpolar"
           }
          ],
          "scatterpolargl": [
           {
            "marker": {
             "colorbar": {
              "outlinewidth": 0,
              "ticks": ""
             }
            },
            "type": "scatterpolargl"
           }
          ],
          "scatterternary": [
           {
            "marker": {
             "colorbar": {
              "outlinewidth": 0,
              "ticks": ""
             }
            },
            "type": "scatterternary"
           }
          ],
          "surface": [
           {
            "colorbar": {
             "outlinewidth": 0,
             "ticks": ""
            },
            "colorscale": [
             [
              0,
              "#0d0887"
             ],
             [
              0.1111111111111111,
              "#46039f"
             ],
             [
              0.2222222222222222,
              "#7201a8"
             ],
             [
              0.3333333333333333,
              "#9c179e"
             ],
             [
              0.4444444444444444,
              "#bd3786"
             ],
             [
              0.5555555555555556,
              "#d8576b"
             ],
             [
              0.6666666666666666,
              "#ed7953"
             ],
             [
              0.7777777777777778,
              "#fb9f3a"
             ],
             [
              0.8888888888888888,
              "#fdca26"
             ],
             [
              1,
              "#f0f921"
             ]
            ],
            "type": "surface"
           }
          ],
          "table": [
           {
            "cells": {
             "fill": {
              "color": "#EBF0F8"
             },
             "line": {
              "color": "white"
             }
            },
            "header": {
             "fill": {
              "color": "#C8D4E3"
             },
             "line": {
              "color": "white"
             }
            },
            "type": "table"
           }
          ]
         },
         "layout": {
          "annotationdefaults": {
           "arrowcolor": "#2a3f5f",
           "arrowhead": 0,
           "arrowwidth": 1
          },
          "autotypenumbers": "strict",
          "coloraxis": {
           "colorbar": {
            "outlinewidth": 0,
            "ticks": ""
           }
          },
          "colorscale": {
           "diverging": [
            [
             0,
             "#8e0152"
            ],
            [
             0.1,
             "#c51b7d"
            ],
            [
             0.2,
             "#de77ae"
            ],
            [
             0.3,
             "#f1b6da"
            ],
            [
             0.4,
             "#fde0ef"
            ],
            [
             0.5,
             "#f7f7f7"
            ],
            [
             0.6,
             "#e6f5d0"
            ],
            [
             0.7,
             "#b8e186"
            ],
            [
             0.8,
             "#7fbc41"
            ],
            [
             0.9,
             "#4d9221"
            ],
            [
             1,
             "#276419"
            ]
           ],
           "sequential": [
            [
             0,
             "#0d0887"
            ],
            [
             0.1111111111111111,
             "#46039f"
            ],
            [
             0.2222222222222222,
             "#7201a8"
            ],
            [
             0.3333333333333333,
             "#9c179e"
            ],
            [
             0.4444444444444444,
             "#bd3786"
            ],
            [
             0.5555555555555556,
             "#d8576b"
            ],
            [
             0.6666666666666666,
             "#ed7953"
            ],
            [
             0.7777777777777778,
             "#fb9f3a"
            ],
            [
             0.8888888888888888,
             "#fdca26"
            ],
            [
             1,
             "#f0f921"
            ]
           ],
           "sequentialminus": [
            [
             0,
             "#0d0887"
            ],
            [
             0.1111111111111111,
             "#46039f"
            ],
            [
             0.2222222222222222,
             "#7201a8"
            ],
            [
             0.3333333333333333,
             "#9c179e"
            ],
            [
             0.4444444444444444,
             "#bd3786"
            ],
            [
             0.5555555555555556,
             "#d8576b"
            ],
            [
             0.6666666666666666,
             "#ed7953"
            ],
            [
             0.7777777777777778,
             "#fb9f3a"
            ],
            [
             0.8888888888888888,
             "#fdca26"
            ],
            [
             1,
             "#f0f921"
            ]
           ]
          },
          "colorway": [
           "#636efa",
           "#EF553B",
           "#00cc96",
           "#ab63fa",
           "#FFA15A",
           "#19d3f3",
           "#FF6692",
           "#B6E880",
           "#FF97FF",
           "#FECB52"
          ],
          "font": {
           "color": "#2a3f5f"
          },
          "geo": {
           "bgcolor": "white",
           "lakecolor": "white",
           "landcolor": "#E5ECF6",
           "showlakes": true,
           "showland": true,
           "subunitcolor": "white"
          },
          "hoverlabel": {
           "align": "left"
          },
          "hovermode": "closest",
          "mapbox": {
           "style": "light"
          },
          "paper_bgcolor": "white",
          "plot_bgcolor": "#E5ECF6",
          "polar": {
           "angularaxis": {
            "gridcolor": "white",
            "linecolor": "white",
            "ticks": ""
           },
           "bgcolor": "#E5ECF6",
           "radialaxis": {
            "gridcolor": "white",
            "linecolor": "white",
            "ticks": ""
           }
          },
          "scene": {
           "xaxis": {
            "backgroundcolor": "#E5ECF6",
            "gridcolor": "white",
            "gridwidth": 2,
            "linecolor": "white",
            "showbackground": true,
            "ticks": "",
            "zerolinecolor": "white"
           },
           "yaxis": {
            "backgroundcolor": "#E5ECF6",
            "gridcolor": "white",
            "gridwidth": 2,
            "linecolor": "white",
            "showbackground": true,
            "ticks": "",
            "zerolinecolor": "white"
           },
           "zaxis": {
            "backgroundcolor": "#E5ECF6",
            "gridcolor": "white",
            "gridwidth": 2,
            "linecolor": "white",
            "showbackground": true,
            "ticks": "",
            "zerolinecolor": "white"
           }
          },
          "shapedefaults": {
           "line": {
            "color": "#2a3f5f"
           }
          },
          "ternary": {
           "aaxis": {
            "gridcolor": "white",
            "linecolor": "white",
            "ticks": ""
           },
           "baxis": {
            "gridcolor": "white",
            "linecolor": "white",
            "ticks": ""
           },
           "bgcolor": "#E5ECF6",
           "caxis": {
            "gridcolor": "white",
            "linecolor": "white",
            "ticks": ""
           }
          },
          "title": {
           "x": 0.05
          },
          "xaxis": {
           "automargin": true,
           "gridcolor": "white",
           "linecolor": "white",
           "ticks": "",
           "title": {
            "standoff": 15
           },
           "zerolinecolor": "white",
           "zerolinewidth": 2
          },
          "yaxis": {
           "automargin": true,
           "gridcolor": "white",
           "linecolor": "white",
           "ticks": "",
           "title": {
            "standoff": 15
           },
           "zerolinecolor": "white",
           "zerolinewidth": 2
          }
         }
        },
        "title": {
         "text": "문제 제품군 식별 - 카테고리 대분류 / 제품 품질 및 마감 관련(이탈고객)"
        },
        "xaxis": {
         "title": {
          "text": "카테고리 대분류"
         }
        },
        "yaxis": {
         "title": {
          "text": "제품군 수(부정 리뷰)"
         }
        }
       }
      }
     },
     "metadata": {},
     "output_type": "display_data"
    }
   ],
   "source": [
    "import plotly.graph_objects as go\n",
    "\n",
    "# 데이터\n",
    "categories = ['가구/인테리어', '가전/전자제품', '취미/레저/스포츠', '가정용품/생활용품', '애완/유아',\n",
    "              '패션/액세서리', '건강/미용','서적/미술/교육','비즈니스/산업','식품/음료']\n",
    "values = [529, 432, 309, 263, 236, 227, 224,57,15,6]\n",
    "\n",
    "# 그래프 생성\n",
    "fig = go.Figure(data=[go.Bar(x=categories, y=values)])\n",
    "\n",
    "# 제목 및 레이아웃 설정\n",
    "fig.update_layout(\n",
    "    title='문제 제품군 식별 - 카테고리 대분류 / 제품 품질 및 마감 관련(이탈고객)',\n",
    "    xaxis_title='카테고리 대분류',\n",
    "    yaxis_title='제품군 수(부정 리뷰)'\n",
    ")\n",
    "\n",
    "# 그래프 출력\n",
    "fig.show()"
   ]
  },
  {
   "cell_type": "code",
   "execution_count": null,
   "metadata": {},
   "outputs": [
    {
     "data": {
      "application/vnd.plotly.v1+json": {
       "config": {
        "plotlyServerURL": "https://plot.ly"
       },
       "data": [
        {
         "text": [
          "27.016886",
          "26.315789",
          "25.376344",
          "23.444613",
          "22.849696",
          "22.386588",
          "20.879121",
          "20.639875",
          "19.227468",
          "9.230769"
         ],
         "textposition": "inside",
         "texttemplate": "%{text:.2f}%",
         "type": "bar",
         "x": [
          "가전/전자제품",
          "비즈니스/산업",
          "애완/유아",
          "취미/레저/스포츠",
          "가정용품/생활용품",
          "패션/액세서리",
          "서적/미술/교육",
          "가구/인테리어",
          "건강/미용",
          "식품/음료"
         ],
         "y": [
          27.016886,
          26.315789,
          25.376344,
          23.444613,
          22.849696,
          22.386588,
          20.879121,
          20.639875,
          19.227468,
          9.230769
         ]
        }
       ],
       "layout": {
        "template": {
         "data": {
          "bar": [
           {
            "error_x": {
             "color": "#2a3f5f"
            },
            "error_y": {
             "color": "#2a3f5f"
            },
            "marker": {
             "line": {
              "color": "#E5ECF6",
              "width": 0.5
             },
             "pattern": {
              "fillmode": "overlay",
              "size": 10,
              "solidity": 0.2
             }
            },
            "type": "bar"
           }
          ],
          "barpolar": [
           {
            "marker": {
             "line": {
              "color": "#E5ECF6",
              "width": 0.5
             },
             "pattern": {
              "fillmode": "overlay",
              "size": 10,
              "solidity": 0.2
             }
            },
            "type": "barpolar"
           }
          ],
          "carpet": [
           {
            "aaxis": {
             "endlinecolor": "#2a3f5f",
             "gridcolor": "white",
             "linecolor": "white",
             "minorgridcolor": "white",
             "startlinecolor": "#2a3f5f"
            },
            "baxis": {
             "endlinecolor": "#2a3f5f",
             "gridcolor": "white",
             "linecolor": "white",
             "minorgridcolor": "white",
             "startlinecolor": "#2a3f5f"
            },
            "type": "carpet"
           }
          ],
          "choropleth": [
           {
            "colorbar": {
             "outlinewidth": 0,
             "ticks": ""
            },
            "type": "choropleth"
           }
          ],
          "contour": [
           {
            "colorbar": {
             "outlinewidth": 0,
             "ticks": ""
            },
            "colorscale": [
             [
              0,
              "#0d0887"
             ],
             [
              0.1111111111111111,
              "#46039f"
             ],
             [
              0.2222222222222222,
              "#7201a8"
             ],
             [
              0.3333333333333333,
              "#9c179e"
             ],
             [
              0.4444444444444444,
              "#bd3786"
             ],
             [
              0.5555555555555556,
              "#d8576b"
             ],
             [
              0.6666666666666666,
              "#ed7953"
             ],
             [
              0.7777777777777778,
              "#fb9f3a"
             ],
             [
              0.8888888888888888,
              "#fdca26"
             ],
             [
              1,
              "#f0f921"
             ]
            ],
            "type": "contour"
           }
          ],
          "contourcarpet": [
           {
            "colorbar": {
             "outlinewidth": 0,
             "ticks": ""
            },
            "type": "contourcarpet"
           }
          ],
          "heatmap": [
           {
            "colorbar": {
             "outlinewidth": 0,
             "ticks": ""
            },
            "colorscale": [
             [
              0,
              "#0d0887"
             ],
             [
              0.1111111111111111,
              "#46039f"
             ],
             [
              0.2222222222222222,
              "#7201a8"
             ],
             [
              0.3333333333333333,
              "#9c179e"
             ],
             [
              0.4444444444444444,
              "#bd3786"
             ],
             [
              0.5555555555555556,
              "#d8576b"
             ],
             [
              0.6666666666666666,
              "#ed7953"
             ],
             [
              0.7777777777777778,
              "#fb9f3a"
             ],
             [
              0.8888888888888888,
              "#fdca26"
             ],
             [
              1,
              "#f0f921"
             ]
            ],
            "type": "heatmap"
           }
          ],
          "heatmapgl": [
           {
            "colorbar": {
             "outlinewidth": 0,
             "ticks": ""
            },
            "colorscale": [
             [
              0,
              "#0d0887"
             ],
             [
              0.1111111111111111,
              "#46039f"
             ],
             [
              0.2222222222222222,
              "#7201a8"
             ],
             [
              0.3333333333333333,
              "#9c179e"
             ],
             [
              0.4444444444444444,
              "#bd3786"
             ],
             [
              0.5555555555555556,
              "#d8576b"
             ],
             [
              0.6666666666666666,
              "#ed7953"
             ],
             [
              0.7777777777777778,
              "#fb9f3a"
             ],
             [
              0.8888888888888888,
              "#fdca26"
             ],
             [
              1,
              "#f0f921"
             ]
            ],
            "type": "heatmapgl"
           }
          ],
          "histogram": [
           {
            "marker": {
             "pattern": {
              "fillmode": "overlay",
              "size": 10,
              "solidity": 0.2
             }
            },
            "type": "histogram"
           }
          ],
          "histogram2d": [
           {
            "colorbar": {
             "outlinewidth": 0,
             "ticks": ""
            },
            "colorscale": [
             [
              0,
              "#0d0887"
             ],
             [
              0.1111111111111111,
              "#46039f"
             ],
             [
              0.2222222222222222,
              "#7201a8"
             ],
             [
              0.3333333333333333,
              "#9c179e"
             ],
             [
              0.4444444444444444,
              "#bd3786"
             ],
             [
              0.5555555555555556,
              "#d8576b"
             ],
             [
              0.6666666666666666,
              "#ed7953"
             ],
             [
              0.7777777777777778,
              "#fb9f3a"
             ],
             [
              0.8888888888888888,
              "#fdca26"
             ],
             [
              1,
              "#f0f921"
             ]
            ],
            "type": "histogram2d"
           }
          ],
          "histogram2dcontour": [
           {
            "colorbar": {
             "outlinewidth": 0,
             "ticks": ""
            },
            "colorscale": [
             [
              0,
              "#0d0887"
             ],
             [
              0.1111111111111111,
              "#46039f"
             ],
             [
              0.2222222222222222,
              "#7201a8"
             ],
             [
              0.3333333333333333,
              "#9c179e"
             ],
             [
              0.4444444444444444,
              "#bd3786"
             ],
             [
              0.5555555555555556,
              "#d8576b"
             ],
             [
              0.6666666666666666,
              "#ed7953"
             ],
             [
              0.7777777777777778,
              "#fb9f3a"
             ],
             [
              0.8888888888888888,
              "#fdca26"
             ],
             [
              1,
              "#f0f921"
             ]
            ],
            "type": "histogram2dcontour"
           }
          ],
          "mesh3d": [
           {
            "colorbar": {
             "outlinewidth": 0,
             "ticks": ""
            },
            "type": "mesh3d"
           }
          ],
          "parcoords": [
           {
            "line": {
             "colorbar": {
              "outlinewidth": 0,
              "ticks": ""
             }
            },
            "type": "parcoords"
           }
          ],
          "pie": [
           {
            "automargin": true,
            "type": "pie"
           }
          ],
          "scatter": [
           {
            "fillpattern": {
             "fillmode": "overlay",
             "size": 10,
             "solidity": 0.2
            },
            "type": "scatter"
           }
          ],
          "scatter3d": [
           {
            "line": {
             "colorbar": {
              "outlinewidth": 0,
              "ticks": ""
             }
            },
            "marker": {
             "colorbar": {
              "outlinewidth": 0,
              "ticks": ""
             }
            },
            "type": "scatter3d"
           }
          ],
          "scattercarpet": [
           {
            "marker": {
             "colorbar": {
              "outlinewidth": 0,
              "ticks": ""
             }
            },
            "type": "scattercarpet"
           }
          ],
          "scattergeo": [
           {
            "marker": {
             "colorbar": {
              "outlinewidth": 0,
              "ticks": ""
             }
            },
            "type": "scattergeo"
           }
          ],
          "scattergl": [
           {
            "marker": {
             "colorbar": {
              "outlinewidth": 0,
              "ticks": ""
             }
            },
            "type": "scattergl"
           }
          ],
          "scattermapbox": [
           {
            "marker": {
             "colorbar": {
              "outlinewidth": 0,
              "ticks": ""
             }
            },
            "type": "scattermapbox"
           }
          ],
          "scatterpolar": [
           {
            "marker": {
             "colorbar": {
              "outlinewidth": 0,
              "ticks": ""
             }
            },
            "type": "scatterpolar"
           }
          ],
          "scatterpolargl": [
           {
            "marker": {
             "colorbar": {
              "outlinewidth": 0,
              "ticks": ""
             }
            },
            "type": "scatterpolargl"
           }
          ],
          "scatterternary": [
           {
            "marker": {
             "colorbar": {
              "outlinewidth": 0,
              "ticks": ""
             }
            },
            "type": "scatterternary"
           }
          ],
          "surface": [
           {
            "colorbar": {
             "outlinewidth": 0,
             "ticks": ""
            },
            "colorscale": [
             [
              0,
              "#0d0887"
             ],
             [
              0.1111111111111111,
              "#46039f"
             ],
             [
              0.2222222222222222,
              "#7201a8"
             ],
             [
              0.3333333333333333,
              "#9c179e"
             ],
             [
              0.4444444444444444,
              "#bd3786"
             ],
             [
              0.5555555555555556,
              "#d8576b"
             ],
             [
              0.6666666666666666,
              "#ed7953"
             ],
             [
              0.7777777777777778,
              "#fb9f3a"
             ],
             [
              0.8888888888888888,
              "#fdca26"
             ],
             [
              1,
              "#f0f921"
             ]
            ],
            "type": "surface"
           }
          ],
          "table": [
           {
            "cells": {
             "fill": {
              "color": "#EBF0F8"
             },
             "line": {
              "color": "white"
             }
            },
            "header": {
             "fill": {
              "color": "#C8D4E3"
             },
             "line": {
              "color": "white"
             }
            },
            "type": "table"
           }
          ]
         },
         "layout": {
          "annotationdefaults": {
           "arrowcolor": "#2a3f5f",
           "arrowhead": 0,
           "arrowwidth": 1
          },
          "autotypenumbers": "strict",
          "coloraxis": {
           "colorbar": {
            "outlinewidth": 0,
            "ticks": ""
           }
          },
          "colorscale": {
           "diverging": [
            [
             0,
             "#8e0152"
            ],
            [
             0.1,
             "#c51b7d"
            ],
            [
             0.2,
             "#de77ae"
            ],
            [
             0.3,
             "#f1b6da"
            ],
            [
             0.4,
             "#fde0ef"
            ],
            [
             0.5,
             "#f7f7f7"
            ],
            [
             0.6,
             "#e6f5d0"
            ],
            [
             0.7,
             "#b8e186"
            ],
            [
             0.8,
             "#7fbc41"
            ],
            [
             0.9,
             "#4d9221"
            ],
            [
             1,
             "#276419"
            ]
           ],
           "sequential": [
            [
             0,
             "#0d0887"
            ],
            [
             0.1111111111111111,
             "#46039f"
            ],
            [
             0.2222222222222222,
             "#7201a8"
            ],
            [
             0.3333333333333333,
             "#9c179e"
            ],
            [
             0.4444444444444444,
             "#bd3786"
            ],
            [
             0.5555555555555556,
             "#d8576b"
            ],
            [
             0.6666666666666666,
             "#ed7953"
            ],
            [
             0.7777777777777778,
             "#fb9f3a"
            ],
            [
             0.8888888888888888,
             "#fdca26"
            ],
            [
             1,
             "#f0f921"
            ]
           ],
           "sequentialminus": [
            [
             0,
             "#0d0887"
            ],
            [
             0.1111111111111111,
             "#46039f"
            ],
            [
             0.2222222222222222,
             "#7201a8"
            ],
            [
             0.3333333333333333,
             "#9c179e"
            ],
            [
             0.4444444444444444,
             "#bd3786"
            ],
            [
             0.5555555555555556,
             "#d8576b"
            ],
            [
             0.6666666666666666,
             "#ed7953"
            ],
            [
             0.7777777777777778,
             "#fb9f3a"
            ],
            [
             0.8888888888888888,
             "#fdca26"
            ],
            [
             1,
             "#f0f921"
            ]
           ]
          },
          "colorway": [
           "#636efa",
           "#EF553B",
           "#00cc96",
           "#ab63fa",
           "#FFA15A",
           "#19d3f3",
           "#FF6692",
           "#B6E880",
           "#FF97FF",
           "#FECB52"
          ],
          "font": {
           "color": "#2a3f5f"
          },
          "geo": {
           "bgcolor": "white",
           "lakecolor": "white",
           "landcolor": "#E5ECF6",
           "showlakes": true,
           "showland": true,
           "subunitcolor": "white"
          },
          "hoverlabel": {
           "align": "left"
          },
          "hovermode": "closest",
          "mapbox": {
           "style": "light"
          },
          "paper_bgcolor": "white",
          "plot_bgcolor": "#E5ECF6",
          "polar": {
           "angularaxis": {
            "gridcolor": "white",
            "linecolor": "white",
            "ticks": ""
           },
           "bgcolor": "#E5ECF6",
           "radialaxis": {
            "gridcolor": "white",
            "linecolor": "white",
            "ticks": ""
           }
          },
          "scene": {
           "xaxis": {
            "backgroundcolor": "#E5ECF6",
            "gridcolor": "white",
            "gridwidth": 2,
            "linecolor": "white",
            "showbackground": true,
            "ticks": "",
            "zerolinecolor": "white"
           },
           "yaxis": {
            "backgroundcolor": "#E5ECF6",
            "gridcolor": "white",
            "gridwidth": 2,
            "linecolor": "white",
            "showbackground": true,
            "ticks": "",
            "zerolinecolor": "white"
           },
           "zaxis": {
            "backgroundcolor": "#E5ECF6",
            "gridcolor": "white",
            "gridwidth": 2,
            "linecolor": "white",
            "showbackground": true,
            "ticks": "",
            "zerolinecolor": "white"
           }
          },
          "shapedefaults": {
           "line": {
            "color": "#2a3f5f"
           }
          },
          "ternary": {
           "aaxis": {
            "gridcolor": "white",
            "linecolor": "white",
            "ticks": ""
           },
           "baxis": {
            "gridcolor": "white",
            "linecolor": "white",
            "ticks": ""
           },
           "bgcolor": "#E5ECF6",
           "caxis": {
            "gridcolor": "white",
            "linecolor": "white",
            "ticks": ""
           }
          },
          "title": {
           "x": 0.05
          },
          "xaxis": {
           "automargin": true,
           "gridcolor": "white",
           "linecolor": "white",
           "ticks": "",
           "title": {
            "standoff": 15
           },
           "zerolinecolor": "white",
           "zerolinewidth": 2
          },
          "yaxis": {
           "automargin": true,
           "gridcolor": "white",
           "linecolor": "white",
           "ticks": "",
           "title": {
            "standoff": 15
           },
           "zerolinecolor": "white",
           "zerolinewidth": 2
          }
         }
        },
        "title": {
         "text": "부정비율 (%) - 카테고리 대분류 / 제품 품질 및 마감 관련(이탈고객)"
        },
        "xaxis": {
         "title": {
          "text": "카테고리 대분류"
         }
        },
        "yaxis": {
         "title": {
          "text": "부정비율(%)"
         }
        }
       }
      }
     },
     "metadata": {},
     "output_type": "display_data"
    }
   ],
   "source": [
    "import plotly.graph_objects as go\n",
    "\n",
    "# 데이터 정의\n",
    "categories = ['가구/인테리어', '가전/전자제품', '취미/레저/스포츠', '가정용품/생활용품',\n",
    "              '애완/유아', '패션/액세서리', '건강/미용','서적/미술/교육','비즈니스/산업','식품/음료']\n",
    "values = [20.639875, 27.016886, 23.444613, 22.849696, 25.376344, 22.386588,\n",
    "          19.227468,20.879121,26.315789, 9.230769]\n",
    "\n",
    "# 데이터를 내림차순으로 정렬\n",
    "sorted_data = sorted(zip(categories, values), key=lambda x: x[1], reverse=True)\n",
    "\n",
    "# 정렬된 데이터 추출\n",
    "sorted_categories = [x[0] for x in sorted_data]\n",
    "sorted_values = [x[1] for x in sorted_data]\n",
    "\n",
    "# 그래프 생성\n",
    "fig = go.Figure(data=[go.Bar(x=sorted_categories, y=sorted_values)])\n",
    "\n",
    "# 라벨로 퍼센트 표시\n",
    "fig.update_traces(text=sorted_values, texttemplate='%{text:.2f}%', textposition='inside')\n",
    "\n",
    "# 제목 및 레이아웃 설정\n",
    "fig.update_layout(\n",
    "    title='부정비율 (%) - 카테고리 대분류 / 제품 품질 및 마감 관련(이탈고객)',\n",
    "    xaxis_title='카테고리 대분류',\n",
    "    yaxis_title='부정비율(%)'\n",
    ")\n",
    "\n",
    "# 그래프 출력\n",
    "fig.show()"
   ]
  },
  {
   "cell_type": "code",
   "execution_count": null,
   "metadata": {},
   "outputs": [
    {
     "name": "stdout",
     "output_type": "stream",
     "text": [
      "  category_대분류  부정적인리뷰인제품수    부정비율(%)        종합점수\n",
      "1      가전/전자제품         432  27.016886  116.712948\n",
      "0      가구/인테리어         529  20.639875  109.184939\n",
      "2    취미/레저/스포츠         309  23.444613   72.443854\n",
      "3    가정용품/생활용품         263  22.849696   60.094700\n",
      "4        애완/유아         236  25.376344   59.888172\n",
      "5      패션/액세서리         227  22.386588   50.817555\n",
      "6        건강/미용         224  19.227468   43.069528\n",
      "7     서적/미술/교육          57  20.879121   11.901099\n",
      "8      비즈니스/산업          15  26.315789    3.947368\n",
      "9        식품/음료           6   9.230769    0.553846\n"
     ]
    }
   ],
   "source": [
    "# import pandas as pd\n",
    "\n",
    "# 데이터 생성\n",
    "data = {\n",
    "    'category_대분류': ['가구/인테리어', '가전/전자제품', '취미/레저/스포츠', '가정용품/생활용품', '애완/유아',\n",
    "                      '패션/액세서리', '건강/미용', '서적/미술/교육', '비즈니스/산업', '식품/음료'],\n",
    "    '부정적인리뷰인제품수': [529, 432, 309, 263, 236, 227, 224, 57, 15, 6],\n",
    "    '부정비율(%)': [20.639875, 27.016886, 23.444613, 22.849696, 25.376344, 22.386588, 19.227468,\n",
    "                   20.879121, 26.315789, 9.230769]\n",
    "}\n",
    "\n",
    "# DataFrame 생성\n",
    "ddddd = pd.DataFrame(data)\n",
    "\n",
    "# 부정적인리뷰인제품수와 부정비율을 종합적으로 고려한 점수 계산\n",
    "# 종합 점수 = 부정적인리뷰인제품수 * (부정비율 / 100)로 가중치를 부여\n",
    "ddddd['종합점수'] = ddddd['부정적인리뷰인제품수'] * (ddddd['부정비율(%)'] / 100)\n",
    "\n",
    "# 종합점수 기준 내림차순 정렬\n",
    "ddddd_sorted = ddddd.sort_values(by='종합점수', ascending=False)\n",
    "\n",
    "# 출력\n",
    "print(ddddd_sorted[['category_대분류', '부정적인리뷰인제품수', '부정비율(%)', '종합점수']])\n"
   ]
  },
  {
   "cell_type": "code",
   "execution_count": null,
   "metadata": {},
   "outputs": [
    {
     "data": {
      "application/vnd.plotly.v1+json": {
       "config": {
        "plotlyServerURL": "https://plot.ly"
       },
       "data": [
        {
         "alignmentgroup": "True",
         "hovertemplate": "카테고리 대분류=%{x}<br>종합점수=%{text}<extra></extra>",
         "legendgroup": "",
         "marker": {
          "color": "#636efa",
          "pattern": {
           "shape": ""
          }
         },
         "name": "",
         "offsetgroup": "",
         "orientation": "v",
         "showlegend": false,
         "text": [
          116.712948,
          109.184939,
          72.443854,
          60.0947,
          59.888172,
          50.817555,
          43.069528,
          11.901099,
          3.947368,
          0.553846
         ],
         "textposition": "auto",
         "type": "bar",
         "x": [
          "가전/전자제품",
          "가구/인테리어",
          "취미/레저/스포츠",
          "가정용품/생활용품",
          "애완/유아",
          "패션/액세서리",
          "건강/미용",
          "서적/미술/교육",
          "비즈니스/산업",
          "식품/음료"
         ],
         "xaxis": "x",
         "y": [
          116.712948,
          109.184939,
          72.443854,
          60.0947,
          59.888172,
          50.817555,
          43.069528,
          11.901099,
          3.947368,
          0.553846
         ],
         "yaxis": "y"
        }
       ],
       "layout": {
        "barmode": "relative",
        "legend": {
         "tracegroupgap": 0
        },
        "template": {
         "data": {
          "bar": [
           {
            "error_x": {
             "color": "#2a3f5f"
            },
            "error_y": {
             "color": "#2a3f5f"
            },
            "marker": {
             "line": {
              "color": "#E5ECF6",
              "width": 0.5
             },
             "pattern": {
              "fillmode": "overlay",
              "size": 10,
              "solidity": 0.2
             }
            },
            "type": "bar"
           }
          ],
          "barpolar": [
           {
            "marker": {
             "line": {
              "color": "#E5ECF6",
              "width": 0.5
             },
             "pattern": {
              "fillmode": "overlay",
              "size": 10,
              "solidity": 0.2
             }
            },
            "type": "barpolar"
           }
          ],
          "carpet": [
           {
            "aaxis": {
             "endlinecolor": "#2a3f5f",
             "gridcolor": "white",
             "linecolor": "white",
             "minorgridcolor": "white",
             "startlinecolor": "#2a3f5f"
            },
            "baxis": {
             "endlinecolor": "#2a3f5f",
             "gridcolor": "white",
             "linecolor": "white",
             "minorgridcolor": "white",
             "startlinecolor": "#2a3f5f"
            },
            "type": "carpet"
           }
          ],
          "choropleth": [
           {
            "colorbar": {
             "outlinewidth": 0,
             "ticks": ""
            },
            "type": "choropleth"
           }
          ],
          "contour": [
           {
            "colorbar": {
             "outlinewidth": 0,
             "ticks": ""
            },
            "colorscale": [
             [
              0,
              "#0d0887"
             ],
             [
              0.1111111111111111,
              "#46039f"
             ],
             [
              0.2222222222222222,
              "#7201a8"
             ],
             [
              0.3333333333333333,
              "#9c179e"
             ],
             [
              0.4444444444444444,
              "#bd3786"
             ],
             [
              0.5555555555555556,
              "#d8576b"
             ],
             [
              0.6666666666666666,
              "#ed7953"
             ],
             [
              0.7777777777777778,
              "#fb9f3a"
             ],
             [
              0.8888888888888888,
              "#fdca26"
             ],
             [
              1,
              "#f0f921"
             ]
            ],
            "type": "contour"
           }
          ],
          "contourcarpet": [
           {
            "colorbar": {
             "outlinewidth": 0,
             "ticks": ""
            },
            "type": "contourcarpet"
           }
          ],
          "heatmap": [
           {
            "colorbar": {
             "outlinewidth": 0,
             "ticks": ""
            },
            "colorscale": [
             [
              0,
              "#0d0887"
             ],
             [
              0.1111111111111111,
              "#46039f"
             ],
             [
              0.2222222222222222,
              "#7201a8"
             ],
             [
              0.3333333333333333,
              "#9c179e"
             ],
             [
              0.4444444444444444,
              "#bd3786"
             ],
             [
              0.5555555555555556,
              "#d8576b"
             ],
             [
              0.6666666666666666,
              "#ed7953"
             ],
             [
              0.7777777777777778,
              "#fb9f3a"
             ],
             [
              0.8888888888888888,
              "#fdca26"
             ],
             [
              1,
              "#f0f921"
             ]
            ],
            "type": "heatmap"
           }
          ],
          "heatmapgl": [
           {
            "colorbar": {
             "outlinewidth": 0,
             "ticks": ""
            },
            "colorscale": [
             [
              0,
              "#0d0887"
             ],
             [
              0.1111111111111111,
              "#46039f"
             ],
             [
              0.2222222222222222,
              "#7201a8"
             ],
             [
              0.3333333333333333,
              "#9c179e"
             ],
             [
              0.4444444444444444,
              "#bd3786"
             ],
             [
              0.5555555555555556,
              "#d8576b"
             ],
             [
              0.6666666666666666,
              "#ed7953"
             ],
             [
              0.7777777777777778,
              "#fb9f3a"
             ],
             [
              0.8888888888888888,
              "#fdca26"
             ],
             [
              1,
              "#f0f921"
             ]
            ],
            "type": "heatmapgl"
           }
          ],
          "histogram": [
           {
            "marker": {
             "pattern": {
              "fillmode": "overlay",
              "size": 10,
              "solidity": 0.2
             }
            },
            "type": "histogram"
           }
          ],
          "histogram2d": [
           {
            "colorbar": {
             "outlinewidth": 0,
             "ticks": ""
            },
            "colorscale": [
             [
              0,
              "#0d0887"
             ],
             [
              0.1111111111111111,
              "#46039f"
             ],
             [
              0.2222222222222222,
              "#7201a8"
             ],
             [
              0.3333333333333333,
              "#9c179e"
             ],
             [
              0.4444444444444444,
              "#bd3786"
             ],
             [
              0.5555555555555556,
              "#d8576b"
             ],
             [
              0.6666666666666666,
              "#ed7953"
             ],
             [
              0.7777777777777778,
              "#fb9f3a"
             ],
             [
              0.8888888888888888,
              "#fdca26"
             ],
             [
              1,
              "#f0f921"
             ]
            ],
            "type": "histogram2d"
           }
          ],
          "histogram2dcontour": [
           {
            "colorbar": {
             "outlinewidth": 0,
             "ticks": ""
            },
            "colorscale": [
             [
              0,
              "#0d0887"
             ],
             [
              0.1111111111111111,
              "#46039f"
             ],
             [
              0.2222222222222222,
              "#7201a8"
             ],
             [
              0.3333333333333333,
              "#9c179e"
             ],
             [
              0.4444444444444444,
              "#bd3786"
             ],
             [
              0.5555555555555556,
              "#d8576b"
             ],
             [
              0.6666666666666666,
              "#ed7953"
             ],
             [
              0.7777777777777778,
              "#fb9f3a"
             ],
             [
              0.8888888888888888,
              "#fdca26"
             ],
             [
              1,
              "#f0f921"
             ]
            ],
            "type": "histogram2dcontour"
           }
          ],
          "mesh3d": [
           {
            "colorbar": {
             "outlinewidth": 0,
             "ticks": ""
            },
            "type": "mesh3d"
           }
          ],
          "parcoords": [
           {
            "line": {
             "colorbar": {
              "outlinewidth": 0,
              "ticks": ""
             }
            },
            "type": "parcoords"
           }
          ],
          "pie": [
           {
            "automargin": true,
            "type": "pie"
           }
          ],
          "scatter": [
           {
            "fillpattern": {
             "fillmode": "overlay",
             "size": 10,
             "solidity": 0.2
            },
            "type": "scatter"
           }
          ],
          "scatter3d": [
           {
            "line": {
             "colorbar": {
              "outlinewidth": 0,
              "ticks": ""
             }
            },
            "marker": {
             "colorbar": {
              "outlinewidth": 0,
              "ticks": ""
             }
            },
            "type": "scatter3d"
           }
          ],
          "scattercarpet": [
           {
            "marker": {
             "colorbar": {
              "outlinewidth": 0,
              "ticks": ""
             }
            },
            "type": "scattercarpet"
           }
          ],
          "scattergeo": [
           {
            "marker": {
             "colorbar": {
              "outlinewidth": 0,
              "ticks": ""
             }
            },
            "type": "scattergeo"
           }
          ],
          "scattergl": [
           {
            "marker": {
             "colorbar": {
              "outlinewidth": 0,
              "ticks": ""
             }
            },
            "type": "scattergl"
           }
          ],
          "scattermapbox": [
           {
            "marker": {
             "colorbar": {
              "outlinewidth": 0,
              "ticks": ""
             }
            },
            "type": "scattermapbox"
           }
          ],
          "scatterpolar": [
           {
            "marker": {
             "colorbar": {
              "outlinewidth": 0,
              "ticks": ""
             }
            },
            "type": "scatterpolar"
           }
          ],
          "scatterpolargl": [
           {
            "marker": {
             "colorbar": {
              "outlinewidth": 0,
              "ticks": ""
             }
            },
            "type": "scatterpolargl"
           }
          ],
          "scatterternary": [
           {
            "marker": {
             "colorbar": {
              "outlinewidth": 0,
              "ticks": ""
             }
            },
            "type": "scatterternary"
           }
          ],
          "surface": [
           {
            "colorbar": {
             "outlinewidth": 0,
             "ticks": ""
            },
            "colorscale": [
             [
              0,
              "#0d0887"
             ],
             [
              0.1111111111111111,
              "#46039f"
             ],
             [
              0.2222222222222222,
              "#7201a8"
             ],
             [
              0.3333333333333333,
              "#9c179e"
             ],
             [
              0.4444444444444444,
              "#bd3786"
             ],
             [
              0.5555555555555556,
              "#d8576b"
             ],
             [
              0.6666666666666666,
              "#ed7953"
             ],
             [
              0.7777777777777778,
              "#fb9f3a"
             ],
             [
              0.8888888888888888,
              "#fdca26"
             ],
             [
              1,
              "#f0f921"
             ]
            ],
            "type": "surface"
           }
          ],
          "table": [
           {
            "cells": {
             "fill": {
              "color": "#EBF0F8"
             },
             "line": {
              "color": "white"
             }
            },
            "header": {
             "fill": {
              "color": "#C8D4E3"
             },
             "line": {
              "color": "white"
             }
            },
            "type": "table"
           }
          ]
         },
         "layout": {
          "annotationdefaults": {
           "arrowcolor": "#2a3f5f",
           "arrowhead": 0,
           "arrowwidth": 1
          },
          "autotypenumbers": "strict",
          "coloraxis": {
           "colorbar": {
            "outlinewidth": 0,
            "ticks": ""
           }
          },
          "colorscale": {
           "diverging": [
            [
             0,
             "#8e0152"
            ],
            [
             0.1,
             "#c51b7d"
            ],
            [
             0.2,
             "#de77ae"
            ],
            [
             0.3,
             "#f1b6da"
            ],
            [
             0.4,
             "#fde0ef"
            ],
            [
             0.5,
             "#f7f7f7"
            ],
            [
             0.6,
             "#e6f5d0"
            ],
            [
             0.7,
             "#b8e186"
            ],
            [
             0.8,
             "#7fbc41"
            ],
            [
             0.9,
             "#4d9221"
            ],
            [
             1,
             "#276419"
            ]
           ],
           "sequential": [
            [
             0,
             "#0d0887"
            ],
            [
             0.1111111111111111,
             "#46039f"
            ],
            [
             0.2222222222222222,
             "#7201a8"
            ],
            [
             0.3333333333333333,
             "#9c179e"
            ],
            [
             0.4444444444444444,
             "#bd3786"
            ],
            [
             0.5555555555555556,
             "#d8576b"
            ],
            [
             0.6666666666666666,
             "#ed7953"
            ],
            [
             0.7777777777777778,
             "#fb9f3a"
            ],
            [
             0.8888888888888888,
             "#fdca26"
            ],
            [
             1,
             "#f0f921"
            ]
           ],
           "sequentialminus": [
            [
             0,
             "#0d0887"
            ],
            [
             0.1111111111111111,
             "#46039f"
            ],
            [
             0.2222222222222222,
             "#7201a8"
            ],
            [
             0.3333333333333333,
             "#9c179e"
            ],
            [
             0.4444444444444444,
             "#bd3786"
            ],
            [
             0.5555555555555556,
             "#d8576b"
            ],
            [
             0.6666666666666666,
             "#ed7953"
            ],
            [
             0.7777777777777778,
             "#fb9f3a"
            ],
            [
             0.8888888888888888,
             "#fdca26"
            ],
            [
             1,
             "#f0f921"
            ]
           ]
          },
          "colorway": [
           "#636efa",
           "#EF553B",
           "#00cc96",
           "#ab63fa",
           "#FFA15A",
           "#19d3f3",
           "#FF6692",
           "#B6E880",
           "#FF97FF",
           "#FECB52"
          ],
          "font": {
           "color": "#2a3f5f"
          },
          "geo": {
           "bgcolor": "white",
           "lakecolor": "white",
           "landcolor": "#E5ECF6",
           "showlakes": true,
           "showland": true,
           "subunitcolor": "white"
          },
          "hoverlabel": {
           "align": "left"
          },
          "hovermode": "closest",
          "mapbox": {
           "style": "light"
          },
          "paper_bgcolor": "white",
          "plot_bgcolor": "#E5ECF6",
          "polar": {
           "angularaxis": {
            "gridcolor": "white",
            "linecolor": "white",
            "ticks": ""
           },
           "bgcolor": "#E5ECF6",
           "radialaxis": {
            "gridcolor": "white",
            "linecolor": "white",
            "ticks": ""
           }
          },
          "scene": {
           "xaxis": {
            "backgroundcolor": "#E5ECF6",
            "gridcolor": "white",
            "gridwidth": 2,
            "linecolor": "white",
            "showbackground": true,
            "ticks": "",
            "zerolinecolor": "white"
           },
           "yaxis": {
            "backgroundcolor": "#E5ECF6",
            "gridcolor": "white",
            "gridwidth": 2,
            "linecolor": "white",
            "showbackground": true,
            "ticks": "",
            "zerolinecolor": "white"
           },
           "zaxis": {
            "backgroundcolor": "#E5ECF6",
            "gridcolor": "white",
            "gridwidth": 2,
            "linecolor": "white",
            "showbackground": true,
            "ticks": "",
            "zerolinecolor": "white"
           }
          },
          "shapedefaults": {
           "line": {
            "color": "#2a3f5f"
           }
          },
          "ternary": {
           "aaxis": {
            "gridcolor": "white",
            "linecolor": "white",
            "ticks": ""
           },
           "baxis": {
            "gridcolor": "white",
            "linecolor": "white",
            "ticks": ""
           },
           "bgcolor": "#E5ECF6",
           "caxis": {
            "gridcolor": "white",
            "linecolor": "white",
            "ticks": ""
           }
          },
          "title": {
           "x": 0.05
          },
          "xaxis": {
           "automargin": true,
           "gridcolor": "white",
           "linecolor": "white",
           "ticks": "",
           "title": {
            "standoff": 15
           },
           "zerolinecolor": "white",
           "zerolinewidth": 2
          },
          "yaxis": {
           "automargin": true,
           "gridcolor": "white",
           "linecolor": "white",
           "ticks": "",
           "title": {
            "standoff": 15
           },
           "zerolinecolor": "white",
           "zerolinewidth": 2
          }
         }
        },
        "title": {
         "text": "종합점수 by 문제 제품군(카테고리 대분류)"
        },
        "xaxis": {
         "anchor": "y",
         "domain": [
          0,
          1
         ],
         "tickangle": -45,
         "title": {
          "text": "카테고리 대분류"
         }
        },
        "yaxis": {
         "anchor": "x",
         "domain": [
          0,
          1
         ],
         "title": {
          "text": "종합점수"
         }
        }
       }
      }
     },
     "metadata": {},
     "output_type": "display_data"
    }
   ],
   "source": [
    "import plotly.express as px\n",
    "import pandas as pd\n",
    "\n",
    "# 데이터 생성\n",
    "data = {\n",
    "    'category_대분류': ['가전/전자제품', '가구/인테리어', '취미/레저/스포츠', '가정용품/생활용품', '애완/유아',\n",
    "                      '패션/액세서리', '건강/미용', '서적/미술/교육', '비즈니스/산업', '식품/음료'],\n",
    "    '종합점수': [116.712948, 109.184939, 72.443854, 60.094700, 59.888172, 50.817555,\n",
    "                 43.069528, 11.901099, 3.947368, 0.553846]\n",
    "}\n",
    "\n",
    "dfdfdf = pd.DataFrame(data)\n",
    "\n",
    "# 막대 그래프 생성\n",
    "fig = px.bar(dfdfdf, x='category_대분류', y='종합점수', title=\"종합점수 by 문제 제품군(카테고리 대분류)\",\n",
    "             labels={'category_대분류': '카테고리 대분류', '종합점수': '종합점수'},\n",
    "             text='종합점수')\n",
    "\n",
    "# x축 레이블 각도 조정\n",
    "fig.update_layout(xaxis_tickangle=-45)\n",
    "\n",
    "# 그래프 출력\n",
    "fig.show()"
   ]
  },
  {
   "cell_type": "code",
   "execution_count": null,
   "metadata": {},
   "outputs": [
    {
     "data": {
      "application/vnd.plotly.v1+json": {
       "config": {
        "plotlyServerURL": "https://plot.ly"
       },
       "data": [
        {
         "orientation": "h",
         "type": "bar",
         "x": [
          23,
          37,
          39,
          61,
          63,
          64,
          67,
          68,
          82,
          83,
          119,
          123,
          126,
          136,
          142,
          144,
          155,
          167,
          171,
          197
         ],
         "y": [
          "소형 가전제품",
          "애완동물 상점",
          "콘솔 및 게임",
          "전자제품",
          "유아용품",
          "가방 및 액세서리",
          "사무용 가구",
          "향수",
          "자동차",
          "정원 도구",
          "전화기",
          "신기한 물건",
          "가정용품",
          "장난감",
          "시계 및 선물",
          "가구 및 장식",
          "건강 및 미용",
          "스포츠 및 레저",
          "컴퓨터 및 액세서리",
          "침대, 욕실, 테이블 용품"
         ]
        }
       ],
       "layout": {
        "showlegend": false,
        "template": {
         "data": {
          "bar": [
           {
            "error_x": {
             "color": "#2a3f5f"
            },
            "error_y": {
             "color": "#2a3f5f"
            },
            "marker": {
             "line": {
              "color": "#E5ECF6",
              "width": 0.5
             },
             "pattern": {
              "fillmode": "overlay",
              "size": 10,
              "solidity": 0.2
             }
            },
            "type": "bar"
           }
          ],
          "barpolar": [
           {
            "marker": {
             "line": {
              "color": "#E5ECF6",
              "width": 0.5
             },
             "pattern": {
              "fillmode": "overlay",
              "size": 10,
              "solidity": 0.2
             }
            },
            "type": "barpolar"
           }
          ],
          "carpet": [
           {
            "aaxis": {
             "endlinecolor": "#2a3f5f",
             "gridcolor": "white",
             "linecolor": "white",
             "minorgridcolor": "white",
             "startlinecolor": "#2a3f5f"
            },
            "baxis": {
             "endlinecolor": "#2a3f5f",
             "gridcolor": "white",
             "linecolor": "white",
             "minorgridcolor": "white",
             "startlinecolor": "#2a3f5f"
            },
            "type": "carpet"
           }
          ],
          "choropleth": [
           {
            "colorbar": {
             "outlinewidth": 0,
             "ticks": ""
            },
            "type": "choropleth"
           }
          ],
          "contour": [
           {
            "colorbar": {
             "outlinewidth": 0,
             "ticks": ""
            },
            "colorscale": [
             [
              0,
              "#0d0887"
             ],
             [
              0.1111111111111111,
              "#46039f"
             ],
             [
              0.2222222222222222,
              "#7201a8"
             ],
             [
              0.3333333333333333,
              "#9c179e"
             ],
             [
              0.4444444444444444,
              "#bd3786"
             ],
             [
              0.5555555555555556,
              "#d8576b"
             ],
             [
              0.6666666666666666,
              "#ed7953"
             ],
             [
              0.7777777777777778,
              "#fb9f3a"
             ],
             [
              0.8888888888888888,
              "#fdca26"
             ],
             [
              1,
              "#f0f921"
             ]
            ],
            "type": "contour"
           }
          ],
          "contourcarpet": [
           {
            "colorbar": {
             "outlinewidth": 0,
             "ticks": ""
            },
            "type": "contourcarpet"
           }
          ],
          "heatmap": [
           {
            "colorbar": {
             "outlinewidth": 0,
             "ticks": ""
            },
            "colorscale": [
             [
              0,
              "#0d0887"
             ],
             [
              0.1111111111111111,
              "#46039f"
             ],
             [
              0.2222222222222222,
              "#7201a8"
             ],
             [
              0.3333333333333333,
              "#9c179e"
             ],
             [
              0.4444444444444444,
              "#bd3786"
             ],
             [
              0.5555555555555556,
              "#d8576b"
             ],
             [
              0.6666666666666666,
              "#ed7953"
             ],
             [
              0.7777777777777778,
              "#fb9f3a"
             ],
             [
              0.8888888888888888,
              "#fdca26"
             ],
             [
              1,
              "#f0f921"
             ]
            ],
            "type": "heatmap"
           }
          ],
          "heatmapgl": [
           {
            "colorbar": {
             "outlinewidth": 0,
             "ticks": ""
            },
            "colorscale": [
             [
              0,
              "#0d0887"
             ],
             [
              0.1111111111111111,
              "#46039f"
             ],
             [
              0.2222222222222222,
              "#7201a8"
             ],
             [
              0.3333333333333333,
              "#9c179e"
             ],
             [
              0.4444444444444444,
              "#bd3786"
             ],
             [
              0.5555555555555556,
              "#d8576b"
             ],
             [
              0.6666666666666666,
              "#ed7953"
             ],
             [
              0.7777777777777778,
              "#fb9f3a"
             ],
             [
              0.8888888888888888,
              "#fdca26"
             ],
             [
              1,
              "#f0f921"
             ]
            ],
            "type": "heatmapgl"
           }
          ],
          "histogram": [
           {
            "marker": {
             "pattern": {
              "fillmode": "overlay",
              "size": 10,
              "solidity": 0.2
             }
            },
            "type": "histogram"
           }
          ],
          "histogram2d": [
           {
            "colorbar": {
             "outlinewidth": 0,
             "ticks": ""
            },
            "colorscale": [
             [
              0,
              "#0d0887"
             ],
             [
              0.1111111111111111,
              "#46039f"
             ],
             [
              0.2222222222222222,
              "#7201a8"
             ],
             [
              0.3333333333333333,
              "#9c179e"
             ],
             [
              0.4444444444444444,
              "#bd3786"
             ],
             [
              0.5555555555555556,
              "#d8576b"
             ],
             [
              0.6666666666666666,
              "#ed7953"
             ],
             [
              0.7777777777777778,
              "#fb9f3a"
             ],
             [
              0.8888888888888888,
              "#fdca26"
             ],
             [
              1,
              "#f0f921"
             ]
            ],
            "type": "histogram2d"
           }
          ],
          "histogram2dcontour": [
           {
            "colorbar": {
             "outlinewidth": 0,
             "ticks": ""
            },
            "colorscale": [
             [
              0,
              "#0d0887"
             ],
             [
              0.1111111111111111,
              "#46039f"
             ],
             [
              0.2222222222222222,
              "#7201a8"
             ],
             [
              0.3333333333333333,
              "#9c179e"
             ],
             [
              0.4444444444444444,
              "#bd3786"
             ],
             [
              0.5555555555555556,
              "#d8576b"
             ],
             [
              0.6666666666666666,
              "#ed7953"
             ],
             [
              0.7777777777777778,
              "#fb9f3a"
             ],
             [
              0.8888888888888888,
              "#fdca26"
             ],
             [
              1,
              "#f0f921"
             ]
            ],
            "type": "histogram2dcontour"
           }
          ],
          "mesh3d": [
           {
            "colorbar": {
             "outlinewidth": 0,
             "ticks": ""
            },
            "type": "mesh3d"
           }
          ],
          "parcoords": [
           {
            "line": {
             "colorbar": {
              "outlinewidth": 0,
              "ticks": ""
             }
            },
            "type": "parcoords"
           }
          ],
          "pie": [
           {
            "automargin": true,
            "type": "pie"
           }
          ],
          "scatter": [
           {
            "fillpattern": {
             "fillmode": "overlay",
             "size": 10,
             "solidity": 0.2
            },
            "type": "scatter"
           }
          ],
          "scatter3d": [
           {
            "line": {
             "colorbar": {
              "outlinewidth": 0,
              "ticks": ""
             }
            },
            "marker": {
             "colorbar": {
              "outlinewidth": 0,
              "ticks": ""
             }
            },
            "type": "scatter3d"
           }
          ],
          "scattercarpet": [
           {
            "marker": {
             "colorbar": {
              "outlinewidth": 0,
              "ticks": ""
             }
            },
            "type": "scattercarpet"
           }
          ],
          "scattergeo": [
           {
            "marker": {
             "colorbar": {
              "outlinewidth": 0,
              "ticks": ""
             }
            },
            "type": "scattergeo"
           }
          ],
          "scattergl": [
           {
            "marker": {
             "colorbar": {
              "outlinewidth": 0,
              "ticks": ""
             }
            },
            "type": "scattergl"
           }
          ],
          "scattermapbox": [
           {
            "marker": {
             "colorbar": {
              "outlinewidth": 0,
              "ticks": ""
             }
            },
            "type": "scattermapbox"
           }
          ],
          "scatterpolar": [
           {
            "marker": {
             "colorbar": {
              "outlinewidth": 0,
              "ticks": ""
             }
            },
            "type": "scatterpolar"
           }
          ],
          "scatterpolargl": [
           {
            "marker": {
             "colorbar": {
              "outlinewidth": 0,
              "ticks": ""
             }
            },
            "type": "scatterpolargl"
           }
          ],
          "scatterternary": [
           {
            "marker": {
             "colorbar": {
              "outlinewidth": 0,
              "ticks": ""
             }
            },
            "type": "scatterternary"
           }
          ],
          "surface": [
           {
            "colorbar": {
             "outlinewidth": 0,
             "ticks": ""
            },
            "colorscale": [
             [
              0,
              "#0d0887"
             ],
             [
              0.1111111111111111,
              "#46039f"
             ],
             [
              0.2222222222222222,
              "#7201a8"
             ],
             [
              0.3333333333333333,
              "#9c179e"
             ],
             [
              0.4444444444444444,
              "#bd3786"
             ],
             [
              0.5555555555555556,
              "#d8576b"
             ],
             [
              0.6666666666666666,
              "#ed7953"
             ],
             [
              0.7777777777777778,
              "#fb9f3a"
             ],
             [
              0.8888888888888888,
              "#fdca26"
             ],
             [
              1,
              "#f0f921"
             ]
            ],
            "type": "surface"
           }
          ],
          "table": [
           {
            "cells": {
             "fill": {
              "color": "#EBF0F8"
             },
             "line": {
              "color": "white"
             }
            },
            "header": {
             "fill": {
              "color": "#C8D4E3"
             },
             "line": {
              "color": "white"
             }
            },
            "type": "table"
           }
          ]
         },
         "layout": {
          "annotationdefaults": {
           "arrowcolor": "#2a3f5f",
           "arrowhead": 0,
           "arrowwidth": 1
          },
          "autotypenumbers": "strict",
          "coloraxis": {
           "colorbar": {
            "outlinewidth": 0,
            "ticks": ""
           }
          },
          "colorscale": {
           "diverging": [
            [
             0,
             "#8e0152"
            ],
            [
             0.1,
             "#c51b7d"
            ],
            [
             0.2,
             "#de77ae"
            ],
            [
             0.3,
             "#f1b6da"
            ],
            [
             0.4,
             "#fde0ef"
            ],
            [
             0.5,
             "#f7f7f7"
            ],
            [
             0.6,
             "#e6f5d0"
            ],
            [
             0.7,
             "#b8e186"
            ],
            [
             0.8,
             "#7fbc41"
            ],
            [
             0.9,
             "#4d9221"
            ],
            [
             1,
             "#276419"
            ]
           ],
           "sequential": [
            [
             0,
             "#0d0887"
            ],
            [
             0.1111111111111111,
             "#46039f"
            ],
            [
             0.2222222222222222,
             "#7201a8"
            ],
            [
             0.3333333333333333,
             "#9c179e"
            ],
            [
             0.4444444444444444,
             "#bd3786"
            ],
            [
             0.5555555555555556,
             "#d8576b"
            ],
            [
             0.6666666666666666,
             "#ed7953"
            ],
            [
             0.7777777777777778,
             "#fb9f3a"
            ],
            [
             0.8888888888888888,
             "#fdca26"
            ],
            [
             1,
             "#f0f921"
            ]
           ],
           "sequentialminus": [
            [
             0,
             "#0d0887"
            ],
            [
             0.1111111111111111,
             "#46039f"
            ],
            [
             0.2222222222222222,
             "#7201a8"
            ],
            [
             0.3333333333333333,
             "#9c179e"
            ],
            [
             0.4444444444444444,
             "#bd3786"
            ],
            [
             0.5555555555555556,
             "#d8576b"
            ],
            [
             0.6666666666666666,
             "#ed7953"
            ],
            [
             0.7777777777777778,
             "#fb9f3a"
            ],
            [
             0.8888888888888888,
             "#fdca26"
            ],
            [
             1,
             "#f0f921"
            ]
           ]
          },
          "colorway": [
           "#636efa",
           "#EF553B",
           "#00cc96",
           "#ab63fa",
           "#FFA15A",
           "#19d3f3",
           "#FF6692",
           "#B6E880",
           "#FF97FF",
           "#FECB52"
          ],
          "font": {
           "color": "#2a3f5f"
          },
          "geo": {
           "bgcolor": "white",
           "lakecolor": "white",
           "landcolor": "#E5ECF6",
           "showlakes": true,
           "showland": true,
           "subunitcolor": "white"
          },
          "hoverlabel": {
           "align": "left"
          },
          "hovermode": "closest",
          "mapbox": {
           "style": "light"
          },
          "paper_bgcolor": "white",
          "plot_bgcolor": "#E5ECF6",
          "polar": {
           "angularaxis": {
            "gridcolor": "white",
            "linecolor": "white",
            "ticks": ""
           },
           "bgcolor": "#E5ECF6",
           "radialaxis": {
            "gridcolor": "white",
            "linecolor": "white",
            "ticks": ""
           }
          },
          "scene": {
           "xaxis": {
            "backgroundcolor": "#E5ECF6",
            "gridcolor": "white",
            "gridwidth": 2,
            "linecolor": "white",
            "showbackground": true,
            "ticks": "",
            "zerolinecolor": "white"
           },
           "yaxis": {
            "backgroundcolor": "#E5ECF6",
            "gridcolor": "white",
            "gridwidth": 2,
            "linecolor": "white",
            "showbackground": true,
            "ticks": "",
            "zerolinecolor": "white"
           },
           "zaxis": {
            "backgroundcolor": "#E5ECF6",
            "gridcolor": "white",
            "gridwidth": 2,
            "linecolor": "white",
            "showbackground": true,
            "ticks": "",
            "zerolinecolor": "white"
           }
          },
          "shapedefaults": {
           "line": {
            "color": "#2a3f5f"
           }
          },
          "ternary": {
           "aaxis": {
            "gridcolor": "white",
            "linecolor": "white",
            "ticks": ""
           },
           "baxis": {
            "gridcolor": "white",
            "linecolor": "white",
            "ticks": ""
           },
           "bgcolor": "#E5ECF6",
           "caxis": {
            "gridcolor": "white",
            "linecolor": "white",
            "ticks": ""
           }
          },
          "title": {
           "x": 0.05
          },
          "xaxis": {
           "automargin": true,
           "gridcolor": "white",
           "linecolor": "white",
           "ticks": "",
           "title": {
            "standoff": 15
           },
           "zerolinecolor": "white",
           "zerolinewidth": 2
          },
          "yaxis": {
           "automargin": true,
           "gridcolor": "white",
           "linecolor": "white",
           "ticks": "",
           "title": {
            "standoff": 15
           },
           "zerolinecolor": "white",
           "zerolinewidth": 2
          }
         }
        },
        "title": {
         "text": "문제 제품군 식별 - 카테고리 소분류 / 제품 품질 및 마감 관련 (이탈고객)"
        },
        "xaxis": {
         "tickangle": -45,
         "title": {
          "text": "카테고리 소분류"
         }
        },
        "yaxis": {
         "title": {
          "text": "제품군 수(부정 리뷰)"
         }
        }
       }
      }
     },
     "metadata": {},
     "output_type": "display_data"
    }
   ],
   "source": [
    "\n",
    "# 데이터\n",
    "import plotly.graph_objects as go\n",
    "\n",
    "# 데이터\n",
    "categories_korean = ['침대, 욕실, 테이블 용품', '컴퓨터 및 액세서리', '스포츠 및 레저', '건강 및 미용',\n",
    "                     '가구 및 장식', '시계 및 선물', '장난감', '가정용품', '신기한 물건', '전화기',\n",
    "                     '정원 도구', '자동차', '향수', '사무용 가구', '가방 및 액세서리', '유아용품',\n",
    "                     '전자제품'   , '콘솔 및 게임', '애완동물 상점', '소형 가전제품']\n",
    "                     #, '가전제품', '악기',\n",
    "                     #'오디오', '거실 가구', '건축 도구 및 자재', '가정용 편안함', '패션 신발',\n",
    "                     #'남성 패션 의류', '에어컨', '가정용 건축 자재', '유선 전화', '주방, 다이닝, 세탁, 정원 가구',\n",
    "                     #'컴퓨터', '신호 및 보안', '패션 속옷 및 비치웨어', '침실 가구', '크리스마스 용품',\n",
    "                     #'여성 패션 의류', '영화 및 사진', '음악', '태블릿, 인쇄 및 이미지', '기저귀 및 위생용품']\n",
    "values = [197, 171, 167, 155, 144, 142, 136, 126, 123, 119, 83, 82, 68, 67, 64, 63, 61, 39, 37, 23]\n",
    "        #  21, 18, 17, 12, 12, 11, 9, 8, 7, 7, 7, 5, 5, 3, 3, 2, 1, 1, 1, 1, 1]\n",
    "\n",
    "# 데이터 오름차순 정렬\n",
    "sorted_data = sorted(zip(values, categories_korean))\n",
    "\n",
    "# 정렬된 값과 카테고리 분리\n",
    "sorted_values, sorted_categories = zip(*sorted_data)\n",
    "\n",
    "# 가로 막대 그래프 생성\n",
    "fig = go.Figure(data=[go.Bar(x=sorted_values, y=sorted_categories, orientation='h')])\n",
    "\n",
    "\n",
    "\n",
    "fig.update_layout(\n",
    "    title='문제 제품군 식별 - 카테고리 소분류 / 제품 품질 및 마감 관련 (이탈고객)',\n",
    "    xaxis_title='카테고리 소분류',\n",
    "    yaxis_title='제품군 수(부정 리뷰)',\n",
    "    xaxis_tickangle=-45,  # 카테고리 이름이 겹치지 않도록 회전\n",
    "    showlegend=False\n",
    ")\n",
    "\n",
    "# 그래프 출력\n",
    "fig.show()\n",
    "\n"
   ]
  },
  {
   "cell_type": "code",
   "execution_count": null,
   "metadata": {},
   "outputs": [
    {
     "data": {
      "application/vnd.plotly.v1+json": {
       "config": {
        "plotlyServerURL": "https://plot.ly"
       },
       "data": [
        {
         "orientation": "h",
         "text": [
          "16.338583",
          "16.976127",
          "18.257646",
          "19.041769",
          "19.428571",
          "22.153846",
          "22.54025",
          "22.721088",
          "23.518164",
          "24.040404",
          "24.513619",
          "24.550898",
          "26.199262",
          "27.037773",
          "28.264463",
          "32.795699",
          "40.11976"
         ],
         "textposition": "inside",
         "texttemplate": "%{text:.2f}%",
         "type": "bar",
         "x": [
          16.338583,
          16.976127,
          18.257646,
          19.041769,
          19.428571,
          22.153846,
          22.54025,
          22.721088,
          23.518164,
          24.040404,
          24.513619,
          24.550898,
          26.199262,
          27.037773,
          28.264463,
          32.795699,
          40.11976
         ],
         "y": [
          "정원 도구",
          "가방 및 액세서리",
          "침대, 욕실, 테이블 용품",
          "건강 및 미용",
          "향수",
          "가구 및 장식",
          "가정용품",
          "스포츠 및 레저",
          "신기한 물건",
          "전화기",
          "유아용품",
          "자동차",
          "시계 및 선물",
          "장난감",
          "컴퓨터 및 액세서리",
          "전자제품",
          "사무용 가구"
         ]
        }
       ],
       "layout": {
        "template": {
         "data": {
          "bar": [
           {
            "error_x": {
             "color": "#2a3f5f"
            },
            "error_y": {
             "color": "#2a3f5f"
            },
            "marker": {
             "line": {
              "color": "#E5ECF6",
              "width": 0.5
             },
             "pattern": {
              "fillmode": "overlay",
              "size": 10,
              "solidity": 0.2
             }
            },
            "type": "bar"
           }
          ],
          "barpolar": [
           {
            "marker": {
             "line": {
              "color": "#E5ECF6",
              "width": 0.5
             },
             "pattern": {
              "fillmode": "overlay",
              "size": 10,
              "solidity": 0.2
             }
            },
            "type": "barpolar"
           }
          ],
          "carpet": [
           {
            "aaxis": {
             "endlinecolor": "#2a3f5f",
             "gridcolor": "white",
             "linecolor": "white",
             "minorgridcolor": "white",
             "startlinecolor": "#2a3f5f"
            },
            "baxis": {
             "endlinecolor": "#2a3f5f",
             "gridcolor": "white",
             "linecolor": "white",
             "minorgridcolor": "white",
             "startlinecolor": "#2a3f5f"
            },
            "type": "carpet"
           }
          ],
          "choropleth": [
           {
            "colorbar": {
             "outlinewidth": 0,
             "ticks": ""
            },
            "type": "choropleth"
           }
          ],
          "contour": [
           {
            "colorbar": {
             "outlinewidth": 0,
             "ticks": ""
            },
            "colorscale": [
             [
              0,
              "#0d0887"
             ],
             [
              0.1111111111111111,
              "#46039f"
             ],
             [
              0.2222222222222222,
              "#7201a8"
             ],
             [
              0.3333333333333333,
              "#9c179e"
             ],
             [
              0.4444444444444444,
              "#bd3786"
             ],
             [
              0.5555555555555556,
              "#d8576b"
             ],
             [
              0.6666666666666666,
              "#ed7953"
             ],
             [
              0.7777777777777778,
              "#fb9f3a"
             ],
             [
              0.8888888888888888,
              "#fdca26"
             ],
             [
              1,
              "#f0f921"
             ]
            ],
            "type": "contour"
           }
          ],
          "contourcarpet": [
           {
            "colorbar": {
             "outlinewidth": 0,
             "ticks": ""
            },
            "type": "contourcarpet"
           }
          ],
          "heatmap": [
           {
            "colorbar": {
             "outlinewidth": 0,
             "ticks": ""
            },
            "colorscale": [
             [
              0,
              "#0d0887"
             ],
             [
              0.1111111111111111,
              "#46039f"
             ],
             [
              0.2222222222222222,
              "#7201a8"
             ],
             [
              0.3333333333333333,
              "#9c179e"
             ],
             [
              0.4444444444444444,
              "#bd3786"
             ],
             [
              0.5555555555555556,
              "#d8576b"
             ],
             [
              0.6666666666666666,
              "#ed7953"
             ],
             [
              0.7777777777777778,
              "#fb9f3a"
             ],
             [
              0.8888888888888888,
              "#fdca26"
             ],
             [
              1,
              "#f0f921"
             ]
            ],
            "type": "heatmap"
           }
          ],
          "heatmapgl": [
           {
            "colorbar": {
             "outlinewidth": 0,
             "ticks": ""
            },
            "colorscale": [
             [
              0,
              "#0d0887"
             ],
             [
              0.1111111111111111,
              "#46039f"
             ],
             [
              0.2222222222222222,
              "#7201a8"
             ],
             [
              0.3333333333333333,
              "#9c179e"
             ],
             [
              0.4444444444444444,
              "#bd3786"
             ],
             [
              0.5555555555555556,
              "#d8576b"
             ],
             [
              0.6666666666666666,
              "#ed7953"
             ],
             [
              0.7777777777777778,
              "#fb9f3a"
             ],
             [
              0.8888888888888888,
              "#fdca26"
             ],
             [
              1,
              "#f0f921"
             ]
            ],
            "type": "heatmapgl"
           }
          ],
          "histogram": [
           {
            "marker": {
             "pattern": {
              "fillmode": "overlay",
              "size": 10,
              "solidity": 0.2
             }
            },
            "type": "histogram"
           }
          ],
          "histogram2d": [
           {
            "colorbar": {
             "outlinewidth": 0,
             "ticks": ""
            },
            "colorscale": [
             [
              0,
              "#0d0887"
             ],
             [
              0.1111111111111111,
              "#46039f"
             ],
             [
              0.2222222222222222,
              "#7201a8"
             ],
             [
              0.3333333333333333,
              "#9c179e"
             ],
             [
              0.4444444444444444,
              "#bd3786"
             ],
             [
              0.5555555555555556,
              "#d8576b"
             ],
             [
              0.6666666666666666,
              "#ed7953"
             ],
             [
              0.7777777777777778,
              "#fb9f3a"
             ],
             [
              0.8888888888888888,
              "#fdca26"
             ],
             [
              1,
              "#f0f921"
             ]
            ],
            "type": "histogram2d"
           }
          ],
          "histogram2dcontour": [
           {
            "colorbar": {
             "outlinewidth": 0,
             "ticks": ""
            },
            "colorscale": [
             [
              0,
              "#0d0887"
             ],
             [
              0.1111111111111111,
              "#46039f"
             ],
             [
              0.2222222222222222,
              "#7201a8"
             ],
             [
              0.3333333333333333,
              "#9c179e"
             ],
             [
              0.4444444444444444,
              "#bd3786"
             ],
             [
              0.5555555555555556,
              "#d8576b"
             ],
             [
              0.6666666666666666,
              "#ed7953"
             ],
             [
              0.7777777777777778,
              "#fb9f3a"
             ],
             [
              0.8888888888888888,
              "#fdca26"
             ],
             [
              1,
              "#f0f921"
             ]
            ],
            "type": "histogram2dcontour"
           }
          ],
          "mesh3d": [
           {
            "colorbar": {
             "outlinewidth": 0,
             "ticks": ""
            },
            "type": "mesh3d"
           }
          ],
          "parcoords": [
           {
            "line": {
             "colorbar": {
              "outlinewidth": 0,
              "ticks": ""
             }
            },
            "type": "parcoords"
           }
          ],
          "pie": [
           {
            "automargin": true,
            "type": "pie"
           }
          ],
          "scatter": [
           {
            "fillpattern": {
             "fillmode": "overlay",
             "size": 10,
             "solidity": 0.2
            },
            "type": "scatter"
           }
          ],
          "scatter3d": [
           {
            "line": {
             "colorbar": {
              "outlinewidth": 0,
              "ticks": ""
             }
            },
            "marker": {
             "colorbar": {
              "outlinewidth": 0,
              "ticks": ""
             }
            },
            "type": "scatter3d"
           }
          ],
          "scattercarpet": [
           {
            "marker": {
             "colorbar": {
              "outlinewidth": 0,
              "ticks": ""
             }
            },
            "type": "scattercarpet"
           }
          ],
          "scattergeo": [
           {
            "marker": {
             "colorbar": {
              "outlinewidth": 0,
              "ticks": ""
             }
            },
            "type": "scattergeo"
           }
          ],
          "scattergl": [
           {
            "marker": {
             "colorbar": {
              "outlinewidth": 0,
              "ticks": ""
             }
            },
            "type": "scattergl"
           }
          ],
          "scattermapbox": [
           {
            "marker": {
             "colorbar": {
              "outlinewidth": 0,
              "ticks": ""
             }
            },
            "type": "scattermapbox"
           }
          ],
          "scatterpolar": [
           {
            "marker": {
             "colorbar": {
              "outlinewidth": 0,
              "ticks": ""
             }
            },
            "type": "scatterpolar"
           }
          ],
          "scatterpolargl": [
           {
            "marker": {
             "colorbar": {
              "outlinewidth": 0,
              "ticks": ""
             }
            },
            "type": "scatterpolargl"
           }
          ],
          "scatterternary": [
           {
            "marker": {
             "colorbar": {
              "outlinewidth": 0,
              "ticks": ""
             }
            },
            "type": "scatterternary"
           }
          ],
          "surface": [
           {
            "colorbar": {
             "outlinewidth": 0,
             "ticks": ""
            },
            "colorscale": [
             [
              0,
              "#0d0887"
             ],
             [
              0.1111111111111111,
              "#46039f"
             ],
             [
              0.2222222222222222,
              "#7201a8"
             ],
             [
              0.3333333333333333,
              "#9c179e"
             ],
             [
              0.4444444444444444,
              "#bd3786"
             ],
             [
              0.5555555555555556,
              "#d8576b"
             ],
             [
              0.6666666666666666,
              "#ed7953"
             ],
             [
              0.7777777777777778,
              "#fb9f3a"
             ],
             [
              0.8888888888888888,
              "#fdca26"
             ],
             [
              1,
              "#f0f921"
             ]
            ],
            "type": "surface"
           }
          ],
          "table": [
           {
            "cells": {
             "fill": {
              "color": "#EBF0F8"
             },
             "line": {
              "color": "white"
             }
            },
            "header": {
             "fill": {
              "color": "#C8D4E3"
             },
             "line": {
              "color": "white"
             }
            },
            "type": "table"
           }
          ]
         },
         "layout": {
          "annotationdefaults": {
           "arrowcolor": "#2a3f5f",
           "arrowhead": 0,
           "arrowwidth": 1
          },
          "autotypenumbers": "strict",
          "coloraxis": {
           "colorbar": {
            "outlinewidth": 0,
            "ticks": ""
           }
          },
          "colorscale": {
           "diverging": [
            [
             0,
             "#8e0152"
            ],
            [
             0.1,
             "#c51b7d"
            ],
            [
             0.2,
             "#de77ae"
            ],
            [
             0.3,
             "#f1b6da"
            ],
            [
             0.4,
             "#fde0ef"
            ],
            [
             0.5,
             "#f7f7f7"
            ],
            [
             0.6,
             "#e6f5d0"
            ],
            [
             0.7,
             "#b8e186"
            ],
            [
             0.8,
             "#7fbc41"
            ],
            [
             0.9,
             "#4d9221"
            ],
            [
             1,
             "#276419"
            ]
           ],
           "sequential": [
            [
             0,
             "#0d0887"
            ],
            [
             0.1111111111111111,
             "#46039f"
            ],
            [
             0.2222222222222222,
             "#7201a8"
            ],
            [
             0.3333333333333333,
             "#9c179e"
            ],
            [
             0.4444444444444444,
             "#bd3786"
            ],
            [
             0.5555555555555556,
             "#d8576b"
            ],
            [
             0.6666666666666666,
             "#ed7953"
            ],
            [
             0.7777777777777778,
             "#fb9f3a"
            ],
            [
             0.8888888888888888,
             "#fdca26"
            ],
            [
             1,
             "#f0f921"
            ]
           ],
           "sequentialminus": [
            [
             0,
             "#0d0887"
            ],
            [
             0.1111111111111111,
             "#46039f"
            ],
            [
             0.2222222222222222,
             "#7201a8"
            ],
            [
             0.3333333333333333,
             "#9c179e"
            ],
            [
             0.4444444444444444,
             "#bd3786"
            ],
            [
             0.5555555555555556,
             "#d8576b"
            ],
            [
             0.6666666666666666,
             "#ed7953"
            ],
            [
             0.7777777777777778,
             "#fb9f3a"
            ],
            [
             0.8888888888888888,
             "#fdca26"
            ],
            [
             1,
             "#f0f921"
            ]
           ]
          },
          "colorway": [
           "#636efa",
           "#EF553B",
           "#00cc96",
           "#ab63fa",
           "#FFA15A",
           "#19d3f3",
           "#FF6692",
           "#B6E880",
           "#FF97FF",
           "#FECB52"
          ],
          "font": {
           "color": "#2a3f5f"
          },
          "geo": {
           "bgcolor": "white",
           "lakecolor": "white",
           "landcolor": "#E5ECF6",
           "showlakes": true,
           "showland": true,
           "subunitcolor": "white"
          },
          "hoverlabel": {
           "align": "left"
          },
          "hovermode": "closest",
          "mapbox": {
           "style": "light"
          },
          "paper_bgcolor": "white",
          "plot_bgcolor": "#E5ECF6",
          "polar": {
           "angularaxis": {
            "gridcolor": "white",
            "linecolor": "white",
            "ticks": ""
           },
           "bgcolor": "#E5ECF6",
           "radialaxis": {
            "gridcolor": "white",
            "linecolor": "white",
            "ticks": ""
           }
          },
          "scene": {
           "xaxis": {
            "backgroundcolor": "#E5ECF6",
            "gridcolor": "white",
            "gridwidth": 2,
            "linecolor": "white",
            "showbackground": true,
            "ticks": "",
            "zerolinecolor": "white"
           },
           "yaxis": {
            "backgroundcolor": "#E5ECF6",
            "gridcolor": "white",
            "gridwidth": 2,
            "linecolor": "white",
            "showbackground": true,
            "ticks": "",
            "zerolinecolor": "white"
           },
           "zaxis": {
            "backgroundcolor": "#E5ECF6",
            "gridcolor": "white",
            "gridwidth": 2,
            "linecolor": "white",
            "showbackground": true,
            "ticks": "",
            "zerolinecolor": "white"
           }
          },
          "shapedefaults": {
           "line": {
            "color": "#2a3f5f"
           }
          },
          "ternary": {
           "aaxis": {
            "gridcolor": "white",
            "linecolor": "white",
            "ticks": ""
           },
           "baxis": {
            "gridcolor": "white",
            "linecolor": "white",
            "ticks": ""
           },
           "bgcolor": "#E5ECF6",
           "caxis": {
            "gridcolor": "white",
            "linecolor": "white",
            "ticks": ""
           }
          },
          "title": {
           "x": 0.05
          },
          "xaxis": {
           "automargin": true,
           "gridcolor": "white",
           "linecolor": "white",
           "ticks": "",
           "title": {
            "standoff": 15
           },
           "zerolinecolor": "white",
           "zerolinewidth": 2
          },
          "yaxis": {
           "automargin": true,
           "gridcolor": "white",
           "linecolor": "white",
           "ticks": "",
           "title": {
            "standoff": 15
           },
           "zerolinecolor": "white",
           "zerolinewidth": 2
          }
         }
        },
        "title": {
         "text": "부정비율 (%) - 카테고리 소분류"
        },
        "xaxis": {
         "title": {
          "text": "부정비율(%)"
         }
        },
        "yaxis": {
         "title": {
          "text": "카테고리 소분류"
         }
        }
       }
      }
     },
     "metadata": {},
     "output_type": "display_data"
    }
   ],
   "source": [
    "import plotly.graph_objects as go\n",
    "\n",
    "# 데이터 정의\n",
    "categories = ['침대, 욕실, 테이블 용품', '컴퓨터 및 액세서리', '스포츠 및 레저', '건강 및 미용',\n",
    "              '가구 및 장식', '시계 및 선물', '장난감', '가정용품', '신기한 물건', '전화기',\n",
    "              '정원 도구', '자동차', '향수', '사무용 가구', '가방 및 액세서리', '유아용품', '전자제품']\n",
    "values = [18.257646, 28.264463, 22.721088, 19.041769, 22.153846, 26.199262, 27.037773, 22.540250,\n",
    "          23.518164, 24.040404, 16.338583, 24.550898, 19.428571, 40.119760, 16.976127, 24.513619, 32.795699]\n",
    "\n",
    "# 데이터를 오름차순으로 정렬\n",
    "sorted_data = sorted(zip(categories, values), key=lambda x: x[1])\n",
    "\n",
    "# 정렬된 데이터 추출\n",
    "sorted_categories = [x[0] for x in sorted_data]\n",
    "sorted_values = [x[1] for x in sorted_data]\n",
    "\n",
    "# 그래프 생성\n",
    "fig = go.Figure(data=[go.Bar(\n",
    "    x=sorted_values,\n",
    "    y=sorted_categories,\n",
    "    orientation='h'\n",
    ")])\n",
    "\n",
    "# 라벨로 퍼센트 표시\n",
    "fig.update_traces(text=sorted_values, texttemplate='%{text:.2f}%', textposition='inside')\n",
    "\n",
    "# 제목 및 레이아웃 설정\n",
    "fig.update_layout(\n",
    "    title='부정비율 (%) - 카테고리 소분류',\n",
    "    xaxis_title='부정비율(%)',\n",
    "    yaxis_title='카테고리 소분류'\n",
    ")\n",
    "\n",
    "# 그래프 출력\n",
    "fig.show()"
   ]
  },
  {
   "cell_type": "code",
   "execution_count": null,
   "metadata": {},
   "outputs": [],
   "source": [
    "import plotly.graph_objects as go\n",
    "import pandas as pd\n",
    "\n",
    "# 데이터 입력\n",
    "# haha2[['category_korean', '부정','부정비율(%)']]\n",
    "\n",
    "# 종합점수 계산\n",
    "haha2['종합점수'] = haha2['부정'] * (haha2['부정비율(%)'] / 100)\n",
    "\n",
    "categories = list(haha2['category_korean'])\n",
    "\n",
    "values =  list(haha2['종합점수'])\n",
    "# 데이터를 오름차순으로 정렬\n",
    "sorted_data = sorted(zip(categories, values), key=lambda x: x[1])\n",
    "\n",
    "# 정렬된 데이터 추출\n",
    "sorted_categories = [x[0] for x in sorted_data]\n",
    "sorted_values = [x[1] for x in sorted_data]\n",
    "\n",
    "filtered_categories = [category for category, value in zip(sorted_categories, sorted_values) if value >= 5]\n",
    "filtered_values = [value for value in sorted_values if value >= 10]\n",
    "\n",
    "\n",
    "# 그래프 생성\n",
    "fig = go.Figure(data=[go.Bar(\n",
    "    x=filtered_values,\n",
    "    y=filtered_categories,\n",
    "    orientation='h'\n",
    ")])\n",
    "\n",
    "# 라벨로 퍼센트 표시\n",
    "fig.update_traces(text=filtered_values,   textposition='inside')\n",
    "\n",
    "# 제목 및 레이아웃 설정\n",
    "fig.update_layout(\n",
    "    title='종합점수 by 문제 제품군(카테고리 소분류)',\n",
    "    xaxis_title='종합 점수 (10 이상만 표시)',\n",
    "    yaxis_title='카테고리 소분류'\n",
    ")\n",
    "\n",
    "# 그래프 출력\n",
    "fig.show()"
   ]
  },
  {
   "cell_type": "code",
   "execution_count": null,
   "metadata": {},
   "outputs": [],
   "source": []
  },
  {
   "cell_type": "code",
   "execution_count": null,
   "metadata": {},
   "outputs": [],
   "source": []
  },
  {
   "cell_type": "markdown",
   "metadata": {},
   "source": [
    "#  <2> 지역 물류 센터를 설치해 배송 시간 단축"
   ]
  },
  {
   "cell_type": "code",
   "execution_count": null,
   "metadata": {},
   "outputs": [],
   "source": []
  },
  {
   "cell_type": "markdown",
   "metadata": {},
   "source": [
    "###  판매자와 제품 다양성 분석\n",
    "(1) 판매자 수(2,988)\n",
    "- 판매자 집중도 확인:  ---- 파레토 분석 결과, 파레토 법칙 yes! 따라서 단순히 판매자수를 늘리는건 큰 효과는 없다.\n",
    "\n",
    "    - 상위 판매자들이 매출의 대부분을 차지한다면, 판매자 수를 단순히 늘리는 것이 큰 효과가 없을 수 있습니다.\n",
    "    - 예: 상위 20% 판매자가 매출의 80%를 차지하는지 확인 (파레토 분석).\n",
    "- 지역 다양성: ---하지만 지역기반 판매자 증가는 고려해볼 수 있다.\n",
    "\n",
    "    - 고객-판매자 거리(km)가 중요한 변수라면, 지역 기반의 판매자 증가가 효과적일 수 있습니다.\n",
    "    - 예: 특정 지역에 판매자가 부족하다면, 해당 지역을 타겟으로 판매자를 확보.\n"
   ]
  },
  {
   "cell_type": "code",
   "execution_count": null,
   "metadata": {},
   "outputs": [
    {
     "name": "stdout",
     "output_type": "stream",
     "text": [
      "상위 516개 판매자가 매출의 80%를 차지합니다. (파레토 법칙 yes)\n",
      "                                 판매자id            매출    누적매출비율   누적판매자비율\n",
      "829   4869f7a5dfa277a7dca6462dcf3b52b2  64599.268089  0.018297  0.000335\n",
      "978   53243585a1d6dc2643021fd1853d8905  63221.928175  0.036205  0.000669\n",
      "2920  fa1c13f2614d7b5c4749cbc52fecda94  56450.236338  0.052194  0.001004\n",
      "1506  7e93a43ef30c4f03f38b393420bc753a  53975.228892  0.067482  0.001339\n",
      "853   4a3ca9315b744ce9f8e9374361493884  53469.621892  0.082627  0.001673\n",
      "...                                ...           ...       ...       ...\n",
      "2481  d4a5e99e0dd915df64ba55a7fbd583fd      2.335423  0.999998  0.998661\n",
      "841   4965a7002cca77301c82d3f91b82e1a9      2.326027  0.999999  0.998996\n",
      "1414  77128dec4bec4878c37ab7d6169d6f26      2.037618  0.999999  0.999331\n",
      "1279  6c9875b2f94ba781186f0c1aed8d1687      1.724138  1.000000  0.999665\n",
      "2432  cf6f6bc4df3999b9c6440f124fb2f687      1.097179  1.000000  1.000000\n",
      "\n",
      "[2988 rows x 4 columns]\n"
     ]
    },
    {
     "data": {
      "image/png": "[encoded data removed]",
      "text/plain": [
       "<Figure size 1000x600 with 1 Axes>"
      ]
     },
     "metadata": {},
     "output_type": "display_data"
    }
   ],
   "source": [
    "### 파레토 분석. (다양한 판매자수 확보가 필요할까?)\n",
    "### why / - 판매자 집중도 확인:  ---- 파레토 분석 결과, 파레토 법칙 yes! 따라서 단순히 판매자수를 늘리는건 큰 효과는 없다.\n",
    "pareto_df = pd.DataFrame(df.groupby('판매자id')['제품가격_usd'].sum()).reset_index()\n",
    "pareto_df.columns =['판매자id', '매출']\n",
    "\n",
    "# 매출에 따라 내림차순 정렬\n",
    "pareto_df = pareto_df.sort_values(by='매출', ascending=False)\n",
    " \n",
    "# 누적 매출 비율 계산\n",
    "pareto_df['누적매출비율'] = pareto_df['매출'].cumsum() / pareto_df['매출'].sum()\n",
    "\n",
    "# 누적 판매자 비율 계산\n",
    "pareto_df['누적판매자비율'] = np.arange(1, len(pareto_df) + 1) / len(pareto_df)\n",
    "\n",
    "# 파레토 원칙 확인\n",
    "pareto_80 = pareto_df[pareto_df['누적매출비율'] <= 0.8]\n",
    "print(f\"상위 {len(pareto_80)}개 판매자가 매출의 80%를 차지합니다. (파레토 법칙 yes)\")\n",
    "\n",
    "# 결과 출력\n",
    "print(pareto_df)\n",
    " \n",
    "# 시각화 (선택사항)\n",
    "import matplotlib.pyplot as plt\n",
    "\n",
    "plt.figure(figsize=(10, 6))\n",
    "plt.plot(pareto_df['누적판매자비율'], pareto_df['누적매출비율'], marker='o', label='Cumulative Ratio')\n",
    "plt.axhline(0.8, color='r', linestyle='--', label='80% of Revenue')\n",
    "plt.axvline(0.2, color='g', linestyle='--', label='20% of Sellers')\n",
    "plt.xlabel('Cumulative Seller Ratio')\n",
    "plt.ylabel('Cumulative Revenue Ratio')\n",
    "plt.title('Pareto Analysis')\n",
    "plt.legend()\n",
    "plt.grid()\n",
    "plt.show()"
   ]
  },
  {
   "cell_type": "code",
   "execution_count": null,
   "metadata": {},
   "outputs": [
    {
     "data": {
      "text/plain": [
       "판매자 주(state)\n",
       "SP    1783\n",
       "PR     338\n",
       "MG     233\n",
       "SC     185\n",
       "RJ     167\n",
       "RS     124\n",
       "GO      37\n",
       "DF      30\n",
       "ES      23\n",
       "BA      19\n",
       "CE      12\n",
       "PE       9\n",
       "PB       6\n",
       "RN       5\n",
       "MS       5\n",
       "MT       4\n",
       "RO       2\n",
       "SE       2\n",
       "PA       1\n",
       "AM       1\n",
       "PI       1\n",
       "MA       1\n",
       "Name: count, dtype: int64"
      ]
     },
     "metadata": {},
     "output_type": "display_data"
    }
   ],
   "source": [
    "seller_state = df[['판매자id', '판매자 주(state)']].drop_duplicates().reset_index(drop=True)\n",
    "seller_state['판매자 주(state)'].value_counts()"
   ]
  },
  {
   "cell_type": "code",
   "execution_count": null,
   "metadata": {},
   "outputs": [
    {
     "data": {
      "text/plain": [
       "고객_주(state)\n",
       "SP    39085\n",
       "RJ    11928\n",
       "MG    10909\n",
       "RS     5125\n",
       "PR     4729\n",
       "SC     3422\n",
       "BA     3177\n",
       "DF     2016\n",
       "ES     1912\n",
       "GO     1876\n",
       "PE     1564\n",
       "CE     1273\n",
       "PA      910\n",
       "MT      854\n",
       "MA      703\n",
       "MS      677\n",
       "PB      501\n",
       "PI      469\n",
       "RN      457\n",
       "AL      390\n",
       "SE      332\n",
       "TO      267\n",
       "RO      231\n",
       "AM      140\n",
       "AC       75\n",
       "AP       66\n",
       "RR       41\n",
       "Name: count, dtype: int64"
      ]
     },
     "metadata": {},
     "output_type": "display_data"
    }
   ],
   "source": [
    "customer_state =df[['고객_유니크id', '고객_주(state)']].drop_duplicates().reset_index(drop=True)\n",
    "customer_state['고객_주(state)'].value_counts()"
   ]
  },
  {
   "cell_type": "markdown",
   "metadata": {},
   "source": [
    "## 배송 시간 단축하기 !!   문제 해결해보자\n",
    "- 가장 문제가 되는 변수는 배송소요시간, 전체물류처리시간, 고객_판매자_거리_km입니다. 이 변수들이 매우 유의미하고, 결과에 미치는 영향력이 크며, 개선이 필요해 보입니다. \n",
    "\n",
    "—>>> 이 세 변수중에 가장 기본이 되는 , 가장 문제의 원인이 되는 기본 변수가 뭐야?\n",
    "- 이 세 변수 중에서 가장 기본이 되는, 문제의 원인이 되는 변수는 고객_판매자_거리_km입니다. 이유는 다음과 같습니다:  \n",
    "    - 전체물류처리시간 중에 배송소요시간이 차지하는게 매우 크므로!!!!\n"
   ]
  },
  {
   "cell_type": "markdown",
   "metadata": {},
   "source": []
  },
  {
   "cell_type": "markdown",
   "metadata": {},
   "source": [
    "- 지역 물류 허브 확충: 고객과의 거리를 줄여 배송 시간 단축.\n",
    "    - (#  전체 물류 처리시간: 제품이 고객에게 배송되기까지의 전체적인 물류 과정에서 소요되는 시간)"
   ]
  },
  {
   "cell_type": "markdown",
   "metadata": {},
   "source": [
    "**** 고객과 판매자 간의 거리를 줄이는 것은 이커머스에서 배송 효율성과 고객 만족도를 높이는 중요한 요소입니다. 고객_판매자_거리_km가 긴 경우 배송 소요시간이 길어지고, 배송비가 증가하는 등 여러 문제가 발생할 수 있습니다. 아래는 고객과 판매자 간의 거리를 줄이는 방법을 제시한 몇 가지 전략입니다:"
   ]
  },
  {
   "cell_type": "code",
   "execution_count": null,
   "metadata": {},
   "outputs": [],
   "source": [
    "''' 지역별 물류센터 추가 설치\n",
    "\n",
    "현재 상황: 고객-판매자 간 거리가 500km 이상인 지역에서 평균 배송소요시간이 3일 초과.\n",
    "개선 방안: 해당 지역 근처에 소형 물류센터를 설치하여 배송 시간을 2일로 단축.\n",
    "\n",
    "'''"
   ]
  },
  {
   "cell_type": "code",
   "execution_count": 24,
   "metadata": {},
   "outputs": [
    {
     "name": "stdout",
     "output_type": "stream",
     "text": [
      "853.8055971139789\n",
      "154.031249020056\n"
     ]
    }
   ],
   "source": [
    "c_all = pd.DataFrame(df[[  '고객_주(state)', '판매자 주(state)', '배송소요시간',    '전체물류처리시간',  '고객_판매자_거리_km']].value_counts()).reset_index()\n",
    " \n",
    "## 고객과 판매자 주가 같은 경우 \n",
    "print(c_all[c_all['고객_주(state)']!= c_all['판매자 주(state)']]['고객_판매자_거리_km'].mean())\n",
    "print(c_all[c_all['고객_주(state)']== c_all['판매자 주(state)']]['고객_판매자_거리_km'].mean())"
   ]
  },
  {
   "cell_type": "code",
   "execution_count": 47,
   "metadata": {},
   "outputs": [],
   "source": [
    "## 고객_판매자 거리 km == 154 기점으로 거리부터 배송 소요시간, 전체 물류 처리시간 등이 극단적으로 차이난다!! "
   ]
  },
  {
   "cell_type": "code",
   "execution_count": 45,
   "metadata": {},
   "outputs": [
    {
     "data": {
      "text/html": [
       "<div>\n",
       "<style scoped>\n",
       "    .dataframe tbody tr th:only-of-type {\n",
       "        vertical-align: middle;\n",
       "    }\n",
       "\n",
       "    .dataframe tbody tr th {\n",
       "        vertical-align: top;\n",
       "    }\n",
       "\n",
       "    .dataframe thead th {\n",
       "        text-align: right;\n",
       "    }\n",
       "</style>\n",
       "<table border=\"1\" class=\"dataframe\">\n",
       "  <thead>\n",
       "    <tr style=\"text-align: right;\">\n",
       "      <th></th>\n",
       "      <th>고객_판매자_거리_km</th>\n",
       "      <th>배송소요시간</th>\n",
       "      <th>전체물류처리시간</th>\n",
       "    </tr>\n",
       "  </thead>\n",
       "  <tbody>\n",
       "    <tr>\n",
       "      <th>mean</th>\n",
       "      <td>57.254103</td>\n",
       "      <td>3.251492</td>\n",
       "      <td>5.926935</td>\n",
       "    </tr>\n",
       "  </tbody>\n",
       "</table>\n",
       "</div>"
      ],
      "text/plain": [
       "      고객_판매자_거리_km    배송소요시간  전체물류처리시간\n",
       "mean     57.254103  3.251492  5.926935"
      ]
     },
     "execution_count": 45,
     "metadata": {},
     "output_type": "execute_result"
    }
   ],
   "source": [
    "c_all[c_all['고객_판매자_거리_km']<=154][['고객_판매자_거리_km','배송소요시간'\t,'전체물류처리시간']].describe()[1:2]"
   ]
  },
  {
   "cell_type": "code",
   "execution_count": 97,
   "metadata": {},
   "outputs": [
    {
     "name": "stdout",
     "output_type": "stream",
     "text": [
      "상위 516개 판매자가 매출의 80%를 차지합니다. (파레토 법칙 yes)\n"
     ]
    },
    {
     "data": {
      "text/html": [
       "<div>\n",
       "<style scoped>\n",
       "    .dataframe tbody tr th:only-of-type {\n",
       "        vertical-align: middle;\n",
       "    }\n",
       "\n",
       "    .dataframe tbody tr th {\n",
       "        vertical-align: top;\n",
       "    }\n",
       "\n",
       "    .dataframe thead th {\n",
       "        text-align: right;\n",
       "    }\n",
       "</style>\n",
       "<table border=\"1\" class=\"dataframe\">\n",
       "  <thead>\n",
       "    <tr style=\"text-align: right;\">\n",
       "      <th></th>\n",
       "      <th>판매자id</th>\n",
       "      <th>매출</th>\n",
       "      <th>누적매출비율</th>\n",
       "      <th>누적판매자비율</th>\n",
       "    </tr>\n",
       "  </thead>\n",
       "  <tbody>\n",
       "    <tr>\n",
       "      <th>829</th>\n",
       "      <td>4869f7a5dfa277a7dca6462dcf3b52b2</td>\n",
       "      <td>64599.268089</td>\n",
       "      <td>0.018297</td>\n",
       "      <td>0.000335</td>\n",
       "    </tr>\n",
       "    <tr>\n",
       "      <th>978</th>\n",
       "      <td>53243585a1d6dc2643021fd1853d8905</td>\n",
       "      <td>63221.928175</td>\n",
       "      <td>0.036205</td>\n",
       "      <td>0.000669</td>\n",
       "    </tr>\n",
       "    <tr>\n",
       "      <th>2920</th>\n",
       "      <td>fa1c13f2614d7b5c4749cbc52fecda94</td>\n",
       "      <td>56450.236338</td>\n",
       "      <td>0.052194</td>\n",
       "      <td>0.001004</td>\n",
       "    </tr>\n",
       "    <tr>\n",
       "      <th>1506</th>\n",
       "      <td>7e93a43ef30c4f03f38b393420bc753a</td>\n",
       "      <td>53975.228892</td>\n",
       "      <td>0.067482</td>\n",
       "      <td>0.001339</td>\n",
       "    </tr>\n",
       "    <tr>\n",
       "      <th>853</th>\n",
       "      <td>4a3ca9315b744ce9f8e9374361493884</td>\n",
       "      <td>53469.621892</td>\n",
       "      <td>0.082627</td>\n",
       "      <td>0.001673</td>\n",
       "    </tr>\n",
       "    <tr>\n",
       "      <th>...</th>\n",
       "      <td>...</td>\n",
       "      <td>...</td>\n",
       "      <td>...</td>\n",
       "      <td>...</td>\n",
       "    </tr>\n",
       "    <tr>\n",
       "      <th>1559</th>\n",
       "      <td>835f0f7810c76831d6c7d24c7a646d4d</td>\n",
       "      <td>1467.571606</td>\n",
       "      <td>0.797995</td>\n",
       "      <td>0.171352</td>\n",
       "    </tr>\n",
       "    <tr>\n",
       "      <th>929</th>\n",
       "      <td>503c1de08ae81a2d86f17951b204db55</td>\n",
       "      <td>1467.365783</td>\n",
       "      <td>0.798411</td>\n",
       "      <td>0.171687</td>\n",
       "    </tr>\n",
       "    <tr>\n",
       "      <th>2394</th>\n",
       "      <td>cc3d14116804f7209f3884f6367f1152</td>\n",
       "      <td>1458.709237</td>\n",
       "      <td>0.798824</td>\n",
       "      <td>0.172021</td>\n",
       "    </tr>\n",
       "    <tr>\n",
       "      <th>672</th>\n",
       "      <td>3ade81dab5a172b88e1871c28ae05260</td>\n",
       "      <td>1456.427019</td>\n",
       "      <td>0.799236</td>\n",
       "      <td>0.172356</td>\n",
       "    </tr>\n",
       "    <tr>\n",
       "      <th>2618</th>\n",
       "      <td>e0878efa0e0b7e5313ac0b43bc04c081</td>\n",
       "      <td>1454.140765</td>\n",
       "      <td>0.799648</td>\n",
       "      <td>0.172691</td>\n",
       "    </tr>\n",
       "  </tbody>\n",
       "</table>\n",
       "<p>516 rows × 4 columns</p>\n",
       "</div>"
      ],
      "text/plain": [
       "                                 판매자id            매출    누적매출비율   누적판매자비율\n",
       "829   4869f7a5dfa277a7dca6462dcf3b52b2  64599.268089  0.018297  0.000335\n",
       "978   53243585a1d6dc2643021fd1853d8905  63221.928175  0.036205  0.000669\n",
       "2920  fa1c13f2614d7b5c4749cbc52fecda94  56450.236338  0.052194  0.001004\n",
       "1506  7e93a43ef30c4f03f38b393420bc753a  53975.228892  0.067482  0.001339\n",
       "853   4a3ca9315b744ce9f8e9374361493884  53469.621892  0.082627  0.001673\n",
       "...                                ...           ...       ...       ...\n",
       "1559  835f0f7810c76831d6c7d24c7a646d4d   1467.571606  0.797995  0.171352\n",
       "929   503c1de08ae81a2d86f17951b204db55   1467.365783  0.798411  0.171687\n",
       "2394  cc3d14116804f7209f3884f6367f1152   1458.709237  0.798824  0.172021\n",
       "672   3ade81dab5a172b88e1871c28ae05260   1456.427019  0.799236  0.172356\n",
       "2618  e0878efa0e0b7e5313ac0b43bc04c081   1454.140765  0.799648  0.172691\n",
       "\n",
       "[516 rows x 4 columns]"
      ]
     },
     "execution_count": 97,
     "metadata": {},
     "output_type": "execute_result"
    }
   ],
   "source": [
    "### 파레토 분석. (다양한 판매자수 확보가 필요할까?)\n",
    "### why / - 판매자 집중도 확인:  ---- 파레토 분석 결과, 파레토 법칙 yes! 따라서 단순히 판매자수를 늘리는건 큰 효과는 없다.\n",
    "pareto_df = pd.DataFrame(df.groupby('판매자id')['제품가격_usd'].sum()).reset_index()\n",
    "pareto_df.columns =['판매자id', '매출']\n",
    "\n",
    "# 매출에 따라 내림차순 정렬\n",
    "pareto_df = pareto_df.sort_values(by='매출', ascending=False)\n",
    " \n",
    "# 누적 매출 비율 계산\n",
    "pareto_df['누적매출비율'] = pareto_df['매출'].cumsum() / pareto_df['매출'].sum()\n",
    "\n",
    "# 누적 판매자 비율 계산\n",
    "pareto_df['누적판매자비율'] = np.arange(1, len(pareto_df) + 1) / len(pareto_df)\n",
    "\n",
    "# 파레토 원칙 확인\n",
    "pareto_80 = pareto_df[pareto_df['누적매출비율'] <= 0.8]\n",
    "print(f\"상위 {len(pareto_80)}개 판매자가 매출의 80%를 차지합니다. (파레토 법칙 yes)\")\n",
    "\n",
    "# 결과 출력\n",
    "pareto_80\n",
    "\n",
    "'''\n",
    "매출의 파레토 법칙 적용:\n",
    "\n",
    "상위 516개 판매자가 매출의 80%를 차지합니다. 이는 상위 판매자를 중심으로 물류 센터의 위치를 최적화하는 것이 효과적일 가능성을 시사합니다.\n",
    "'''\n",
    "pareto_80"
   ]
  },
  {
   "cell_type": "code",
   "execution_count": null,
   "metadata": {},
   "outputs": [],
   "source": [
    "'''\n",
    "1. 파레토 법칙과 가중치 점수 계산 혼합 --- 혼합 방식을 활용한 점수 계산 공식\n",
    "- (1) 파레토 법칙 적용\n",
    "    - 상위 20%의 주(state)에서 전체 판매자 수의 80%를 차지하는 주요 주를 선별합니다.\n",
    "    - 이 주들을 우선적으로 분석하고 점수 계산에 더 큰 가중치를 부여합니다.\n",
    "- (2) 가중치 점수 계산\n",
    "    - 점수 계산 시, 파레토 상위 주에 더 높은 α,β,γ 가중치를 적용합니다.\n",
    "    - 하위 주에는 상대적으로 낮은 가중치를 적용하여 최적의 물류 센터를 설계합니다.\n",
    "\n",
    "\n",
    "2. 혼합 방식을 활용한 점수 계산 공식\n",
    "각 주의 점수를 계산할 때 파레토 법칙 기반 가중치를 추가합니다: \n",
    "\n",
    "점수= α* 고객 수 + β *판매자수 * 파레토 가중치−γ⋅(평균 거리)\n",
    "\n",
    "파레토 가중치:\n",
    "- 상위 20% 주(state): 가중치 1.5 적용.\n",
    "- 나머지 주(state): 가중치 1.0 적용.\n",
    "'''\n"
   ]
  },
  {
   "cell_type": "code",
   "execution_count": 254,
   "metadata": {},
   "outputs": [
    {
     "data": {
      "text/html": [
       "<div>\n",
       "<style scoped>\n",
       "    .dataframe tbody tr th:only-of-type {\n",
       "        vertical-align: middle;\n",
       "    }\n",
       "\n",
       "    .dataframe tbody tr th {\n",
       "        vertical-align: top;\n",
       "    }\n",
       "\n",
       "    .dataframe thead th {\n",
       "        text-align: right;\n",
       "    }\n",
       "</style>\n",
       "<table border=\"1\" class=\"dataframe\">\n",
       "  <thead>\n",
       "    <tr style=\"text-align: right;\">\n",
       "      <th></th>\n",
       "      <th>판매자id</th>\n",
       "      <th>매출</th>\n",
       "      <th>누적매출비율</th>\n",
       "      <th>누적판매자비율</th>\n",
       "      <th>파레토법칙결과</th>\n",
       "      <th>고객수</th>\n",
       "      <th>판매자 주(state)</th>\n",
       "      <th>고객_판매자_거리_km(평균)</th>\n",
       "    </tr>\n",
       "  </thead>\n",
       "  <tbody>\n",
       "    <tr>\n",
       "      <th>0</th>\n",
       "      <td>4869f7a5dfa277a7dca6462dcf3b52b2</td>\n",
       "      <td>64599.268089</td>\n",
       "      <td>0.018297</td>\n",
       "      <td>0.000335</td>\n",
       "      <td>상</td>\n",
       "      <td>1118</td>\n",
       "      <td>SP</td>\n",
       "      <td>610.656142</td>\n",
       "    </tr>\n",
       "    <tr>\n",
       "      <th>1</th>\n",
       "      <td>53243585a1d6dc2643021fd1853d8905</td>\n",
       "      <td>63221.928175</td>\n",
       "      <td>0.036205</td>\n",
       "      <td>0.000669</td>\n",
       "      <td>상</td>\n",
       "      <td>356</td>\n",
       "      <td>BA</td>\n",
       "      <td>1137.568648</td>\n",
       "    </tr>\n",
       "    <tr>\n",
       "      <th>2</th>\n",
       "      <td>fa1c13f2614d7b5c4749cbc52fecda94</td>\n",
       "      <td>56450.236338</td>\n",
       "      <td>0.052194</td>\n",
       "      <td>0.001004</td>\n",
       "      <td>상</td>\n",
       "      <td>577</td>\n",
       "      <td>SP</td>\n",
       "      <td>690.021980</td>\n",
       "    </tr>\n",
       "    <tr>\n",
       "      <th>3</th>\n",
       "      <td>7e93a43ef30c4f03f38b393420bc753a</td>\n",
       "      <td>53975.228892</td>\n",
       "      <td>0.067482</td>\n",
       "      <td>0.001339</td>\n",
       "      <td>상</td>\n",
       "      <td>334</td>\n",
       "      <td>SP</td>\n",
       "      <td>661.311718</td>\n",
       "    </tr>\n",
       "    <tr>\n",
       "      <th>4</th>\n",
       "      <td>4a3ca9315b744ce9f8e9374361493884</td>\n",
       "      <td>53469.621892</td>\n",
       "      <td>0.082627</td>\n",
       "      <td>0.001673</td>\n",
       "      <td>상</td>\n",
       "      <td>1766</td>\n",
       "      <td>SP</td>\n",
       "      <td>554.759608</td>\n",
       "    </tr>\n",
       "    <tr>\n",
       "      <th>...</th>\n",
       "      <td>...</td>\n",
       "      <td>...</td>\n",
       "      <td>...</td>\n",
       "      <td>...</td>\n",
       "      <td>...</td>\n",
       "      <td>...</td>\n",
       "      <td>...</td>\n",
       "      <td>...</td>\n",
       "    </tr>\n",
       "    <tr>\n",
       "      <th>2983</th>\n",
       "      <td>26e2e5033827d2ba53929f43e03d8ffe</td>\n",
       "      <td>NaN</td>\n",
       "      <td>NaN</td>\n",
       "      <td>NaN</td>\n",
       "      <td>하</td>\n",
       "      <td>1</td>\n",
       "      <td>SP</td>\n",
       "      <td>118.966577</td>\n",
       "    </tr>\n",
       "    <tr>\n",
       "      <th>2984</th>\n",
       "      <td>d263fa444c1504a75cbca5cc465f592a</td>\n",
       "      <td>NaN</td>\n",
       "      <td>NaN</td>\n",
       "      <td>NaN</td>\n",
       "      <td>하</td>\n",
       "      <td>1</td>\n",
       "      <td>SP</td>\n",
       "      <td>2313.446408</td>\n",
       "    </tr>\n",
       "    <tr>\n",
       "      <th>2985</th>\n",
       "      <td>2c9005d8043aff18b8557ffb7b13cda4</td>\n",
       "      <td>NaN</td>\n",
       "      <td>NaN</td>\n",
       "      <td>NaN</td>\n",
       "      <td>하</td>\n",
       "      <td>1</td>\n",
       "      <td>ES</td>\n",
       "      <td>618.281072</td>\n",
       "    </tr>\n",
       "    <tr>\n",
       "      <th>2986</th>\n",
       "      <td>08d1c9478fb0d7d7fcac9c0da4e82fc7</td>\n",
       "      <td>NaN</td>\n",
       "      <td>NaN</td>\n",
       "      <td>NaN</td>\n",
       "      <td>하</td>\n",
       "      <td>1</td>\n",
       "      <td>MG</td>\n",
       "      <td>599.582393</td>\n",
       "    </tr>\n",
       "    <tr>\n",
       "      <th>2987</th>\n",
       "      <td>1992f8fb6b19fcccd97ca819811e7267</td>\n",
       "      <td>NaN</td>\n",
       "      <td>NaN</td>\n",
       "      <td>NaN</td>\n",
       "      <td>하</td>\n",
       "      <td>1</td>\n",
       "      <td>SP</td>\n",
       "      <td>8.696686</td>\n",
       "    </tr>\n",
       "  </tbody>\n",
       "</table>\n",
       "<p>2988 rows × 8 columns</p>\n",
       "</div>"
      ],
      "text/plain": [
       "                                 판매자id            매출    누적매출비율   누적판매자비율   \n",
       "0     4869f7a5dfa277a7dca6462dcf3b52b2  64599.268089  0.018297  0.000335  \\\n",
       "1     53243585a1d6dc2643021fd1853d8905  63221.928175  0.036205  0.000669   \n",
       "2     fa1c13f2614d7b5c4749cbc52fecda94  56450.236338  0.052194  0.001004   \n",
       "3     7e93a43ef30c4f03f38b393420bc753a  53975.228892  0.067482  0.001339   \n",
       "4     4a3ca9315b744ce9f8e9374361493884  53469.621892  0.082627  0.001673   \n",
       "...                                ...           ...       ...       ...   \n",
       "2983  26e2e5033827d2ba53929f43e03d8ffe           NaN       NaN       NaN   \n",
       "2984  d263fa444c1504a75cbca5cc465f592a           NaN       NaN       NaN   \n",
       "2985  2c9005d8043aff18b8557ffb7b13cda4           NaN       NaN       NaN   \n",
       "2986  08d1c9478fb0d7d7fcac9c0da4e82fc7           NaN       NaN       NaN   \n",
       "2987  1992f8fb6b19fcccd97ca819811e7267           NaN       NaN       NaN   \n",
       "\n",
       "     파레토법칙결과   고객수 판매자 주(state)  고객_판매자_거리_km(평균)  \n",
       "0          상  1118           SP        610.656142  \n",
       "1          상   356           BA       1137.568648  \n",
       "2          상   577           SP        690.021980  \n",
       "3          상   334           SP        661.311718  \n",
       "4          상  1766           SP        554.759608  \n",
       "...      ...   ...          ...               ...  \n",
       "2983       하     1           SP        118.966577  \n",
       "2984       하     1           SP       2313.446408  \n",
       "2985       하     1           ES        618.281072  \n",
       "2986       하     1           MG        599.582393  \n",
       "2987       하     1           SP          8.696686  \n",
       "\n",
       "[2988 rows x 8 columns]"
      ]
     },
     "execution_count": 254,
     "metadata": {},
     "output_type": "execute_result"
    }
   ],
   "source": [
    "\n",
    "seller_gps = df[['판매자id', '판매자 주(state)']].drop_duplicates()\n",
    "pareto = pd.merge(pareto_80, seller_gps, how='inner', left_on='판매자id', right_on='판매자id')\n",
    " \n",
    "pareto['파레토법칙결과'] ='상'\n",
    "\n",
    "adddd = pd.DataFrame(df['판매자id'].value_counts()).reset_index()\n",
    "adddd.columns = ['판매자id','고객수']\n",
    " \n",
    "adddd = pd.merge(adddd, df[['판매자id','판매자 주(state)']].drop_duplicates(), left_on='판매자id', right_on='판매자id')\n",
    "p111= pd.DataFrame(df.groupby(['판매자id'])[ '고객_판매자_거리_km'].mean()).reset_index()\n",
    "adddd = pd.merge(adddd, p111, left_on='판매자id', right_on='판매자id')\n",
    "adddd.columns = ['판매자id',\t'고객수',\t'판매자 주(state)',\t'고객_판매자_거리_km(평균)']\n",
    "\n",
    "pareto.drop(['판매자 주(state)'],axis=1, inplace=True)\n",
    "pareto = pd.merge(pareto ,adddd,  how='outer', left_on='판매자id', right_on='판매자id')\n",
    "#pareto['판매자 주(state)'].value_counts()\n",
    "pareto['파레토법칙결과']= pareto['파레토법칙결과'].fillna('하')\n",
    "pareto = pd.merge(pareto ,df[['판매자id','판매자 도시']].drop_duplicates(),  how='inner', left_on='판매자id', right_on='판매자id')\n",
    "pareto "
   ]
  },
  {
   "cell_type": "code",
   "execution_count": null,
   "metadata": {},
   "outputs": [],
   "source": [
    "점수= α* 고객 수 + β *판매자수 * 파레토 가중치−γ⋅(평균 거리)\n",
    "\n",
    "파레토 가중치:\n",
    "- 상위 20% 주(state): 가중치 1.5 적용.\n",
    "- 나머지 주(state): 가중치 1.0 적용.\n",
    "\n",
    "# 가중치 설정\n",
    "alpha = 0.6  # 고객 수의 중요도\n",
    "beta = 0.1   # 판매자 수의 중요도\n",
    "gamma = 0.3  # 평균 거리의 중요도"
   ]
  },
  {
   "cell_type": "code",
   "execution_count": 222,
   "metadata": {},
   "outputs": [
    {
     "data": {
      "text/html": [
       "<div>\n",
       "<style scoped>\n",
       "    .dataframe tbody tr th:only-of-type {\n",
       "        vertical-align: middle;\n",
       "    }\n",
       "\n",
       "    .dataframe tbody tr th {\n",
       "        vertical-align: top;\n",
       "    }\n",
       "\n",
       "    .dataframe thead th {\n",
       "        text-align: right;\n",
       "    }\n",
       "</style>\n",
       "<table border=\"1\" class=\"dataframe\">\n",
       "  <thead>\n",
       "    <tr style=\"text-align: right;\">\n",
       "      <th></th>\n",
       "      <th>판매자 주(state)</th>\n",
       "      <th>count</th>\n",
       "    </tr>\n",
       "  </thead>\n",
       "  <tbody>\n",
       "    <tr>\n",
       "      <th>0</th>\n",
       "      <td>SP</td>\n",
       "      <td>307</td>\n",
       "    </tr>\n",
       "    <tr>\n",
       "      <th>1</th>\n",
       "      <td>PR</td>\n",
       "      <td>61</td>\n",
       "    </tr>\n",
       "    <tr>\n",
       "      <th>2</th>\n",
       "      <td>MG</td>\n",
       "      <td>51</td>\n",
       "    </tr>\n",
       "    <tr>\n",
       "      <th>3</th>\n",
       "      <td>RJ</td>\n",
       "      <td>27</td>\n",
       "    </tr>\n",
       "    <tr>\n",
       "      <th>4</th>\n",
       "      <td>SC</td>\n",
       "      <td>27</td>\n",
       "    </tr>\n",
       "    <tr>\n",
       "      <th>5</th>\n",
       "      <td>RS</td>\n",
       "      <td>17</td>\n",
       "    </tr>\n",
       "  </tbody>\n",
       "</table>\n",
       "</div>"
      ],
      "text/plain": [
       "  판매자 주(state)  count\n",
       "0           SP    307\n",
       "1           PR     61\n",
       "2           MG     51\n",
       "3           RJ     27\n",
       "4           SC     27\n",
       "5           RS     17"
      ]
     },
     "execution_count": 222,
     "metadata": {},
     "output_type": "execute_result"
    }
   ],
   "source": [
    "pd.DataFrame(pareto[pareto['파레토법칙결과']=='상']['판매자 주(state)'].value_counts()).reset_index().head(6) \n",
    "## 이 주들만 파레토 가중치 "
   ]
  },
  {
   "cell_type": "code",
   "execution_count": 227,
   "metadata": {},
   "outputs": [
    {
     "name": "stderr",
     "output_type": "stream",
     "text": [
      "/var/folders/32/kf__h26s36l08d_ty7fh2xjr0000gn/T/ipykernel_42668/2981240116.py:2: SettingWithCopyWarning: \n",
      "A value is trying to be set on a copy of a slice from a DataFrame\n",
      "\n",
      "See the caveats in the documentation: https://pandas.pydata.org/pandas-docs/stable/user_guide/indexing.html#returning-a-view-versus-a-copy\n",
      "  pareto_state['pareto_weight'][(pareto_state['판매자 주(state)'] =='SP')| (pareto_state['판매자 주(state)'] =='PR')|(pareto_state['판매자 주(state)'] =='MG')| (pareto_state['판매자 주(state)'] =='RJ')| (pareto_state['판매자 주(state)'] =='SC')|(pareto_state['판매자 주(state)'] =='RS')] =1.5\n"
     ]
    }
   ],
   "source": [
    "## 주(state)별 데이터로 만들기 \n",
    "pareto_state= df.groupby('판매자 주(state)').agg(\n",
    "    고객_평균거리=('고객_판매자_거리_km', 'mean'),\n",
    "    고객_수=('고객_유니크id', 'count'),\n",
    "    판매자_수=('판매자id', 'nunique')).reset_index()\n",
    "\n",
    "pareto_state['pareto_weight']= 1\n",
    "pareto_state['pareto_weight'][(pareto_state['판매자 주(state)'] =='SP')| (pareto_state['판매자 주(state)'] =='PR')|(pareto_state['판매자 주(state)'] =='MG')| (pareto_state['판매자 주(state)'] =='RJ')| (pareto_state['판매자 주(state)'] =='SC')|(pareto_state['판매자 주(state)'] =='RS')] =1.5\n"
   ]
  },
  {
   "cell_type": "code",
   "execution_count": 229,
   "metadata": {},
   "outputs": [
    {
     "data": {
      "text/html": [
       "<div>\n",
       "<style scoped>\n",
       "    .dataframe tbody tr th:only-of-type {\n",
       "        vertical-align: middle;\n",
       "    }\n",
       "\n",
       "    .dataframe tbody tr th {\n",
       "        vertical-align: top;\n",
       "    }\n",
       "\n",
       "    .dataframe thead th {\n",
       "        text-align: right;\n",
       "    }\n",
       "</style>\n",
       "<table border=\"1\" class=\"dataframe\">\n",
       "  <thead>\n",
       "    <tr style=\"text-align: right;\">\n",
       "      <th></th>\n",
       "      <th>판매자 주(state)</th>\n",
       "      <th>고객_평균거리</th>\n",
       "      <th>고객_수</th>\n",
       "      <th>판매자_수</th>\n",
       "      <th>pareto_weight</th>\n",
       "    </tr>\n",
       "  </thead>\n",
       "  <tbody>\n",
       "    <tr>\n",
       "      <th>0</th>\n",
       "      <td>AM</td>\n",
       "      <td>2327.352004</td>\n",
       "      <td>3</td>\n",
       "      <td>1</td>\n",
       "      <td>1.0</td>\n",
       "    </tr>\n",
       "    <tr>\n",
       "      <th>1</th>\n",
       "      <td>BA</td>\n",
       "      <td>1120.804431</td>\n",
       "      <td>563</td>\n",
       "      <td>19</td>\n",
       "      <td>1.0</td>\n",
       "    </tr>\n",
       "    <tr>\n",
       "      <th>2</th>\n",
       "      <td>CE</td>\n",
       "      <td>1638.109401</td>\n",
       "      <td>89</td>\n",
       "      <td>12</td>\n",
       "      <td>1.0</td>\n",
       "    </tr>\n",
       "    <tr>\n",
       "      <th>3</th>\n",
       "      <td>DF</td>\n",
       "      <td>852.505113</td>\n",
       "      <td>805</td>\n",
       "      <td>30</td>\n",
       "      <td>1.0</td>\n",
       "    </tr>\n",
       "    <tr>\n",
       "      <th>4</th>\n",
       "      <td>ES</td>\n",
       "      <td>810.717147</td>\n",
       "      <td>303</td>\n",
       "      <td>23</td>\n",
       "      <td>1.0</td>\n",
       "    </tr>\n",
       "    <tr>\n",
       "      <th>5</th>\n",
       "      <td>GO</td>\n",
       "      <td>850.265202</td>\n",
       "      <td>447</td>\n",
       "      <td>37</td>\n",
       "      <td>1.0</td>\n",
       "    </tr>\n",
       "    <tr>\n",
       "      <th>6</th>\n",
       "      <td>MA</td>\n",
       "      <td>1944.432167</td>\n",
       "      <td>387</td>\n",
       "      <td>1</td>\n",
       "      <td>1.0</td>\n",
       "    </tr>\n",
       "    <tr>\n",
       "      <th>7</th>\n",
       "      <td>MG</td>\n",
       "      <td>600.793143</td>\n",
       "      <td>7609</td>\n",
       "      <td>233</td>\n",
       "      <td>1.5</td>\n",
       "    </tr>\n",
       "    <tr>\n",
       "      <th>8</th>\n",
       "      <td>MS</td>\n",
       "      <td>1020.636980</td>\n",
       "      <td>42</td>\n",
       "      <td>5</td>\n",
       "      <td>1.0</td>\n",
       "    </tr>\n",
       "    <tr>\n",
       "      <th>9</th>\n",
       "      <td>MT</td>\n",
       "      <td>1379.320945</td>\n",
       "      <td>134</td>\n",
       "      <td>4</td>\n",
       "      <td>1.0</td>\n",
       "    </tr>\n",
       "    <tr>\n",
       "      <th>10</th>\n",
       "      <td>PA</td>\n",
       "      <td>672.277906</td>\n",
       "      <td>8</td>\n",
       "      <td>1</td>\n",
       "      <td>1.0</td>\n",
       "    </tr>\n",
       "    <tr>\n",
       "      <th>11</th>\n",
       "      <td>PB</td>\n",
       "      <td>1489.147641</td>\n",
       "      <td>29</td>\n",
       "      <td>6</td>\n",
       "      <td>1.0</td>\n",
       "    </tr>\n",
       "    <tr>\n",
       "      <th>12</th>\n",
       "      <td>PE</td>\n",
       "      <td>1577.269366</td>\n",
       "      <td>403</td>\n",
       "      <td>9</td>\n",
       "      <td>1.0</td>\n",
       "    </tr>\n",
       "    <tr>\n",
       "      <th>13</th>\n",
       "      <td>PI</td>\n",
       "      <td>1425.161897</td>\n",
       "      <td>12</td>\n",
       "      <td>1</td>\n",
       "      <td>1.0</td>\n",
       "    </tr>\n",
       "    <tr>\n",
       "      <th>14</th>\n",
       "      <td>PR</td>\n",
       "      <td>723.188205</td>\n",
       "      <td>7431</td>\n",
       "      <td>338</td>\n",
       "      <td>1.5</td>\n",
       "    </tr>\n",
       "    <tr>\n",
       "      <th>15</th>\n",
       "      <td>RJ</td>\n",
       "      <td>585.989289</td>\n",
       "      <td>4156</td>\n",
       "      <td>167</td>\n",
       "      <td>1.5</td>\n",
       "    </tr>\n",
       "    <tr>\n",
       "      <th>16</th>\n",
       "      <td>RN</td>\n",
       "      <td>1017.587695</td>\n",
       "      <td>49</td>\n",
       "      <td>5</td>\n",
       "      <td>1.0</td>\n",
       "    </tr>\n",
       "    <tr>\n",
       "      <th>17</th>\n",
       "      <td>RO</td>\n",
       "      <td>2345.141833</td>\n",
       "      <td>13</td>\n",
       "      <td>2</td>\n",
       "      <td>1.0</td>\n",
       "    </tr>\n",
       "    <tr>\n",
       "      <th>18</th>\n",
       "      <td>RS</td>\n",
       "      <td>989.327922</td>\n",
       "      <td>1906</td>\n",
       "      <td>124</td>\n",
       "      <td>1.5</td>\n",
       "    </tr>\n",
       "    <tr>\n",
       "      <th>19</th>\n",
       "      <td>SC</td>\n",
       "      <td>756.601308</td>\n",
       "      <td>3568</td>\n",
       "      <td>185</td>\n",
       "      <td>1.5</td>\n",
       "    </tr>\n",
       "    <tr>\n",
       "      <th>20</th>\n",
       "      <td>SE</td>\n",
       "      <td>1629.769356</td>\n",
       "      <td>7</td>\n",
       "      <td>2</td>\n",
       "      <td>1.0</td>\n",
       "    </tr>\n",
       "    <tr>\n",
       "      <th>21</th>\n",
       "      <td>SP</td>\n",
       "      <td>543.003331</td>\n",
       "      <td>68234</td>\n",
       "      <td>1783</td>\n",
       "      <td>1.5</td>\n",
       "    </tr>\n",
       "  </tbody>\n",
       "</table>\n",
       "</div>"
      ],
      "text/plain": [
       "   판매자 주(state)      고객_평균거리   고객_수  판매자_수  pareto_weight\n",
       "0            AM  2327.352004      3      1            1.0\n",
       "1            BA  1120.804431    563     19            1.0\n",
       "2            CE  1638.109401     89     12            1.0\n",
       "3            DF   852.505113    805     30            1.0\n",
       "4            ES   810.717147    303     23            1.0\n",
       "5            GO   850.265202    447     37            1.0\n",
       "6            MA  1944.432167    387      1            1.0\n",
       "7            MG   600.793143   7609    233            1.5\n",
       "8            MS  1020.636980     42      5            1.0\n",
       "9            MT  1379.320945    134      4            1.0\n",
       "10           PA   672.277906      8      1            1.0\n",
       "11           PB  1489.147641     29      6            1.0\n",
       "12           PE  1577.269366    403      9            1.0\n",
       "13           PI  1425.161897     12      1            1.0\n",
       "14           PR   723.188205   7431    338            1.5\n",
       "15           RJ   585.989289   4156    167            1.5\n",
       "16           RN  1017.587695     49      5            1.0\n",
       "17           RO  2345.141833     13      2            1.0\n",
       "18           RS   989.327922   1906    124            1.5\n",
       "19           SC   756.601308   3568    185            1.5\n",
       "20           SE  1629.769356      7      2            1.0\n",
       "21           SP   543.003331  68234   1783            1.5"
      ]
     },
     "execution_count": 229,
     "metadata": {},
     "output_type": "execute_result"
    }
   ],
   "source": [
    "pareto_state"
   ]
  },
  {
   "cell_type": "code",
   "execution_count": 238,
   "metadata": {},
   "outputs": [
    {
     "name": "stderr",
     "output_type": "stream",
     "text": [
      "/var/folders/32/kf__h26s36l08d_ty7fh2xjr0000gn/T/ipykernel_42668/2028314847.py:36: SettingWithCopyWarning: \n",
      "A value is trying to be set on a copy of a slice from a DataFrame\n",
      "\n",
      "See the caveats in the documentation: https://pandas.pydata.org/pandas-docs/stable/user_guide/indexing.html#returning-a-view-versus-a-copy\n",
      "  pareto_state_sorted['지역구분_자연'][pareto_state_sorted['판매자 주(state)'] ==s] = 'atlantic_forest'\n",
      "/var/folders/32/kf__h26s36l08d_ty7fh2xjr0000gn/T/ipykernel_42668/2028314847.py:38: SettingWithCopyWarning: \n",
      "A value is trying to be set on a copy of a slice from a DataFrame\n",
      "\n",
      "See the caveats in the documentation: https://pandas.pydata.org/pandas-docs/stable/user_guide/indexing.html#returning-a-view-versus-a-copy\n",
      "  pareto_state_sorted['지역구분_자연'][pareto_state_sorted['판매자 주(state)'] ==s] = 'cerrado'\n",
      "/var/folders/32/kf__h26s36l08d_ty7fh2xjr0000gn/T/ipykernel_42668/2028314847.py:36: SettingWithCopyWarning: \n",
      "A value is trying to be set on a copy of a slice from a DataFrame\n",
      "\n",
      "See the caveats in the documentation: https://pandas.pydata.org/pandas-docs/stable/user_guide/indexing.html#returning-a-view-versus-a-copy\n",
      "  pareto_state_sorted['지역구분_자연'][pareto_state_sorted['판매자 주(state)'] ==s] = 'atlantic_forest'\n",
      "/var/folders/32/kf__h26s36l08d_ty7fh2xjr0000gn/T/ipykernel_42668/2028314847.py:36: SettingWithCopyWarning: \n",
      "A value is trying to be set on a copy of a slice from a DataFrame\n",
      "\n",
      "See the caveats in the documentation: https://pandas.pydata.org/pandas-docs/stable/user_guide/indexing.html#returning-a-view-versus-a-copy\n",
      "  pareto_state_sorted['지역구분_자연'][pareto_state_sorted['판매자 주(state)'] ==s] = 'atlantic_forest'\n",
      "/var/folders/32/kf__h26s36l08d_ty7fh2xjr0000gn/T/ipykernel_42668/2028314847.py:36: SettingWithCopyWarning: \n",
      "A value is trying to be set on a copy of a slice from a DataFrame\n",
      "\n",
      "See the caveats in the documentation: https://pandas.pydata.org/pandas-docs/stable/user_guide/indexing.html#returning-a-view-versus-a-copy\n",
      "  pareto_state_sorted['지역구분_자연'][pareto_state_sorted['판매자 주(state)'] ==s] = 'atlantic_forest'\n",
      "/var/folders/32/kf__h26s36l08d_ty7fh2xjr0000gn/T/ipykernel_42668/2028314847.py:34: SettingWithCopyWarning: \n",
      "A value is trying to be set on a copy of a slice from a DataFrame\n",
      "\n",
      "See the caveats in the documentation: https://pandas.pydata.org/pandas-docs/stable/user_guide/indexing.html#returning-a-view-versus-a-copy\n",
      "  pareto_state_sorted['지역구분_자연'][pareto_state_sorted['판매자 주(state)'] ==s] = 'pampa'\n",
      "/var/folders/32/kf__h26s36l08d_ty7fh2xjr0000gn/T/ipykernel_42668/2028314847.py:36: SettingWithCopyWarning: \n",
      "A value is trying to be set on a copy of a slice from a DataFrame\n",
      "\n",
      "See the caveats in the documentation: https://pandas.pydata.org/pandas-docs/stable/user_guide/indexing.html#returning-a-view-versus-a-copy\n",
      "  pareto_state_sorted['지역구분_자연'][pareto_state_sorted['판매자 주(state)'] ==s] = 'atlantic_forest'\n",
      "/var/folders/32/kf__h26s36l08d_ty7fh2xjr0000gn/T/ipykernel_42668/2028314847.py:40: SettingWithCopyWarning: \n",
      "A value is trying to be set on a copy of a slice from a DataFrame\n",
      "\n",
      "See the caveats in the documentation: https://pandas.pydata.org/pandas-docs/stable/user_guide/indexing.html#returning-a-view-versus-a-copy\n",
      "  pareto_state_sorted['지역구분_자연'][pareto_state_sorted['판매자 주(state)'] ==s] = 'caatinga'\n",
      "/var/folders/32/kf__h26s36l08d_ty7fh2xjr0000gn/T/ipykernel_42668/2028314847.py:38: SettingWithCopyWarning: \n",
      "A value is trying to be set on a copy of a slice from a DataFrame\n",
      "\n",
      "See the caveats in the documentation: https://pandas.pydata.org/pandas-docs/stable/user_guide/indexing.html#returning-a-view-versus-a-copy\n",
      "  pareto_state_sorted['지역구분_자연'][pareto_state_sorted['판매자 주(state)'] ==s] = 'cerrado'\n",
      "/var/folders/32/kf__h26s36l08d_ty7fh2xjr0000gn/T/ipykernel_42668/2028314847.py:36: SettingWithCopyWarning: \n",
      "A value is trying to be set on a copy of a slice from a DataFrame\n",
      "\n",
      "See the caveats in the documentation: https://pandas.pydata.org/pandas-docs/stable/user_guide/indexing.html#returning-a-view-versus-a-copy\n",
      "  pareto_state_sorted['지역구분_자연'][pareto_state_sorted['판매자 주(state)'] ==s] = 'atlantic_forest'\n",
      "/var/folders/32/kf__h26s36l08d_ty7fh2xjr0000gn/T/ipykernel_42668/2028314847.py:40: SettingWithCopyWarning: \n",
      "A value is trying to be set on a copy of a slice from a DataFrame\n",
      "\n",
      "See the caveats in the documentation: https://pandas.pydata.org/pandas-docs/stable/user_guide/indexing.html#returning-a-view-versus-a-copy\n",
      "  pareto_state_sorted['지역구분_자연'][pareto_state_sorted['판매자 주(state)'] ==s] = 'caatinga'\n",
      "/var/folders/32/kf__h26s36l08d_ty7fh2xjr0000gn/T/ipykernel_42668/2028314847.py:38: SettingWithCopyWarning: \n",
      "A value is trying to be set on a copy of a slice from a DataFrame\n",
      "\n",
      "See the caveats in the documentation: https://pandas.pydata.org/pandas-docs/stable/user_guide/indexing.html#returning-a-view-versus-a-copy\n",
      "  pareto_state_sorted['지역구분_자연'][pareto_state_sorted['판매자 주(state)'] ==s] = 'cerrado'\n",
      "/var/folders/32/kf__h26s36l08d_ty7fh2xjr0000gn/T/ipykernel_42668/2028314847.py:32: SettingWithCopyWarning: \n",
      "A value is trying to be set on a copy of a slice from a DataFrame\n",
      "\n",
      "See the caveats in the documentation: https://pandas.pydata.org/pandas-docs/stable/user_guide/indexing.html#returning-a-view-versus-a-copy\n",
      "  pareto_state_sorted['지역구분_자연'][pareto_state_sorted['판매자 주(state)'] ==s] = 'amazon'\n",
      "/var/folders/32/kf__h26s36l08d_ty7fh2xjr0000gn/T/ipykernel_42668/2028314847.py:32: SettingWithCopyWarning: \n",
      "A value is trying to be set on a copy of a slice from a DataFrame\n",
      "\n",
      "See the caveats in the documentation: https://pandas.pydata.org/pandas-docs/stable/user_guide/indexing.html#returning-a-view-versus-a-copy\n",
      "  pareto_state_sorted['지역구분_자연'][pareto_state_sorted['판매자 주(state)'] ==s] = 'amazon'\n",
      "/var/folders/32/kf__h26s36l08d_ty7fh2xjr0000gn/T/ipykernel_42668/2028314847.py:40: SettingWithCopyWarning: \n",
      "A value is trying to be set on a copy of a slice from a DataFrame\n",
      "\n",
      "See the caveats in the documentation: https://pandas.pydata.org/pandas-docs/stable/user_guide/indexing.html#returning-a-view-versus-a-copy\n",
      "  pareto_state_sorted['지역구분_자연'][pareto_state_sorted['판매자 주(state)'] ==s] = 'caatinga'\n",
      "/var/folders/32/kf__h26s36l08d_ty7fh2xjr0000gn/T/ipykernel_42668/2028314847.py:38: SettingWithCopyWarning: \n",
      "A value is trying to be set on a copy of a slice from a DataFrame\n",
      "\n",
      "See the caveats in the documentation: https://pandas.pydata.org/pandas-docs/stable/user_guide/indexing.html#returning-a-view-versus-a-copy\n",
      "  pareto_state_sorted['지역구분_자연'][pareto_state_sorted['판매자 주(state)'] ==s] = 'cerrado'\n",
      "/var/folders/32/kf__h26s36l08d_ty7fh2xjr0000gn/T/ipykernel_42668/2028314847.py:40: SettingWithCopyWarning: \n",
      "A value is trying to be set on a copy of a slice from a DataFrame\n",
      "\n",
      "See the caveats in the documentation: https://pandas.pydata.org/pandas-docs/stable/user_guide/indexing.html#returning-a-view-versus-a-copy\n",
      "  pareto_state_sorted['지역구분_자연'][pareto_state_sorted['판매자 주(state)'] ==s] = 'caatinga'\n",
      "/var/folders/32/kf__h26s36l08d_ty7fh2xjr0000gn/T/ipykernel_42668/2028314847.py:40: SettingWithCopyWarning: \n",
      "A value is trying to be set on a copy of a slice from a DataFrame\n",
      "\n",
      "See the caveats in the documentation: https://pandas.pydata.org/pandas-docs/stable/user_guide/indexing.html#returning-a-view-versus-a-copy\n",
      "  pareto_state_sorted['지역구분_자연'][pareto_state_sorted['판매자 주(state)'] ==s] = 'caatinga'\n",
      "/var/folders/32/kf__h26s36l08d_ty7fh2xjr0000gn/T/ipykernel_42668/2028314847.py:40: SettingWithCopyWarning: \n",
      "A value is trying to be set on a copy of a slice from a DataFrame\n",
      "\n",
      "See the caveats in the documentation: https://pandas.pydata.org/pandas-docs/stable/user_guide/indexing.html#returning-a-view-versus-a-copy\n",
      "  pareto_state_sorted['지역구분_자연'][pareto_state_sorted['판매자 주(state)'] ==s] = 'caatinga'\n",
      "/var/folders/32/kf__h26s36l08d_ty7fh2xjr0000gn/T/ipykernel_42668/2028314847.py:40: SettingWithCopyWarning: \n",
      "A value is trying to be set on a copy of a slice from a DataFrame\n",
      "\n",
      "See the caveats in the documentation: https://pandas.pydata.org/pandas-docs/stable/user_guide/indexing.html#returning-a-view-versus-a-copy\n",
      "  pareto_state_sorted['지역구분_자연'][pareto_state_sorted['판매자 주(state)'] ==s] = 'caatinga'\n",
      "/var/folders/32/kf__h26s36l08d_ty7fh2xjr0000gn/T/ipykernel_42668/2028314847.py:32: SettingWithCopyWarning: \n",
      "A value is trying to be set on a copy of a slice from a DataFrame\n",
      "\n",
      "See the caveats in the documentation: https://pandas.pydata.org/pandas-docs/stable/user_guide/indexing.html#returning-a-view-versus-a-copy\n",
      "  pareto_state_sorted['지역구분_자연'][pareto_state_sorted['판매자 주(state)'] ==s] = 'amazon'\n",
      "/var/folders/32/kf__h26s36l08d_ty7fh2xjr0000gn/T/ipykernel_42668/2028314847.py:32: SettingWithCopyWarning: \n",
      "A value is trying to be set on a copy of a slice from a DataFrame\n",
      "\n",
      "See the caveats in the documentation: https://pandas.pydata.org/pandas-docs/stable/user_guide/indexing.html#returning-a-view-versus-a-copy\n",
      "  pareto_state_sorted['지역구분_자연'][pareto_state_sorted['판매자 주(state)'] ==s] = 'amazon'\n"
     ]
    }
   ],
   "source": [
    "import pandas as pd\n",
    "\n",
    "# 주별 고객 수, 판매자 수, 평균 거리 데이터\n",
    " \n",
    "# 가중치 설정\n",
    "alpha = 0.7  # 고객 수의 중요도\n",
    "beta = 0.3   # 판매자 수의 중요도\n",
    "gamma = 0.1  # 평균 거리의 중요도\n",
    "\n",
    "# 점수 계산\n",
    "pareto_state['score'] = (\n",
    "    (alpha * pareto_state['고객_수']) + \n",
    "    (beta * pareto_state['판매자_수'] * pareto_state['pareto_weight']) - \n",
    "    (gamma * pareto_state['고객_평균거리'])\n",
    ")\n",
    "\n",
    "# 점수 순위 정렬\n",
    "pareto_state_sorted = pareto_state.sort_values(by='score', ascending=False)\n",
    "\n",
    "# 결과 출력\n",
    "pareto_state_sorted['지역구분_자연'] = ''\n",
    "\n",
    "amazon = ['AM','AC','RO','MT','PA','AP','RR']\n",
    "#pantanal = []\n",
    "pampa=['RS']\n",
    "atlantic_forest=['PR','SC','SP','RJ','ES','DF']\n",
    "cerrado = ['MS','GO','MG','TO','MA']\n",
    "caatinga=['PI','CE','BA','PE','RN','PB','SE']\n",
    "\n",
    "for s in pareto_state_sorted['판매자 주(state)'].unique():\n",
    "    if s in amazon :\n",
    "        pareto_state_sorted['지역구분_자연'][pareto_state_sorted['판매자 주(state)'] ==s] = 'amazon'\n",
    "    elif s in pampa:\n",
    "        pareto_state_sorted['지역구분_자연'][pareto_state_sorted['판매자 주(state)'] ==s] = 'pampa'\n",
    "    elif s in atlantic_forest:\n",
    "        pareto_state_sorted['지역구분_자연'][pareto_state_sorted['판매자 주(state)'] ==s] = 'atlantic_forest'\n",
    "    elif s in cerrado :\n",
    "        pareto_state_sorted['지역구분_자연'][pareto_state_sorted['판매자 주(state)'] ==s] = 'cerrado'\n",
    "    elif s in caatinga:\n",
    "        pareto_state_sorted['지역구분_자연'][pareto_state_sorted['판매자 주(state)'] ==s] = 'caatinga'\n"
   ]
  },
  {
   "cell_type": "code",
   "execution_count": 241,
   "metadata": {},
   "outputs": [
    {
     "data": {
      "text/html": [
       "<div>\n",
       "<style scoped>\n",
       "    .dataframe tbody tr th:only-of-type {\n",
       "        vertical-align: middle;\n",
       "    }\n",
       "\n",
       "    .dataframe tbody tr th {\n",
       "        vertical-align: top;\n",
       "    }\n",
       "\n",
       "    .dataframe thead th {\n",
       "        text-align: right;\n",
       "    }\n",
       "</style>\n",
       "<table border=\"1\" class=\"dataframe\">\n",
       "  <thead>\n",
       "    <tr style=\"text-align: right;\">\n",
       "      <th></th>\n",
       "      <th>판매자 주(state)</th>\n",
       "      <th>고객_평균거리</th>\n",
       "      <th>고객_수</th>\n",
       "      <th>판매자_수</th>\n",
       "      <th>pareto_weight</th>\n",
       "      <th>score</th>\n",
       "      <th>지역구분_자연</th>\n",
       "    </tr>\n",
       "  </thead>\n",
       "  <tbody>\n",
       "    <tr>\n",
       "      <th>0</th>\n",
       "      <td>SP</td>\n",
       "      <td>543.003331</td>\n",
       "      <td>68234</td>\n",
       "      <td>1783</td>\n",
       "      <td>1.5</td>\n",
       "      <td>48511.849667</td>\n",
       "      <td>atlantic_forest</td>\n",
       "    </tr>\n",
       "    <tr>\n",
       "      <th>1</th>\n",
       "      <td>MG</td>\n",
       "      <td>600.793143</td>\n",
       "      <td>7609</td>\n",
       "      <td>233</td>\n",
       "      <td>1.5</td>\n",
       "      <td>5371.070686</td>\n",
       "      <td>cerrado</td>\n",
       "    </tr>\n",
       "    <tr>\n",
       "      <th>2</th>\n",
       "      <td>PR</td>\n",
       "      <td>723.188205</td>\n",
       "      <td>7431</td>\n",
       "      <td>338</td>\n",
       "      <td>1.5</td>\n",
       "      <td>5281.481180</td>\n",
       "      <td>atlantic_forest</td>\n",
       "    </tr>\n",
       "    <tr>\n",
       "      <th>3</th>\n",
       "      <td>RJ</td>\n",
       "      <td>585.989289</td>\n",
       "      <td>4156</td>\n",
       "      <td>167</td>\n",
       "      <td>1.5</td>\n",
       "      <td>2925.751071</td>\n",
       "      <td>atlantic_forest</td>\n",
       "    </tr>\n",
       "    <tr>\n",
       "      <th>4</th>\n",
       "      <td>SC</td>\n",
       "      <td>756.601308</td>\n",
       "      <td>3568</td>\n",
       "      <td>185</td>\n",
       "      <td>1.5</td>\n",
       "      <td>2505.189869</td>\n",
       "      <td>atlantic_forest</td>\n",
       "    </tr>\n",
       "    <tr>\n",
       "      <th>5</th>\n",
       "      <td>RS</td>\n",
       "      <td>989.327922</td>\n",
       "      <td>1906</td>\n",
       "      <td>124</td>\n",
       "      <td>1.5</td>\n",
       "      <td>1291.067208</td>\n",
       "      <td>pampa</td>\n",
       "    </tr>\n",
       "    <tr>\n",
       "      <th>6</th>\n",
       "      <td>DF</td>\n",
       "      <td>852.505113</td>\n",
       "      <td>805</td>\n",
       "      <td>30</td>\n",
       "      <td>1.0</td>\n",
       "      <td>487.249489</td>\n",
       "      <td>atlantic_forest</td>\n",
       "    </tr>\n",
       "    <tr>\n",
       "      <th>7</th>\n",
       "      <td>BA</td>\n",
       "      <td>1120.804431</td>\n",
       "      <td>563</td>\n",
       "      <td>19</td>\n",
       "      <td>1.0</td>\n",
       "      <td>287.719557</td>\n",
       "      <td>caatinga</td>\n",
       "    </tr>\n",
       "    <tr>\n",
       "      <th>8</th>\n",
       "      <td>GO</td>\n",
       "      <td>850.265202</td>\n",
       "      <td>447</td>\n",
       "      <td>37</td>\n",
       "      <td>1.0</td>\n",
       "      <td>238.973480</td>\n",
       "      <td>cerrado</td>\n",
       "    </tr>\n",
       "    <tr>\n",
       "      <th>9</th>\n",
       "      <td>ES</td>\n",
       "      <td>810.717147</td>\n",
       "      <td>303</td>\n",
       "      <td>23</td>\n",
       "      <td>1.0</td>\n",
       "      <td>137.928285</td>\n",
       "      <td>atlantic_forest</td>\n",
       "    </tr>\n",
       "    <tr>\n",
       "      <th>10</th>\n",
       "      <td>PE</td>\n",
       "      <td>1577.269366</td>\n",
       "      <td>403</td>\n",
       "      <td>9</td>\n",
       "      <td>1.0</td>\n",
       "      <td>127.073063</td>\n",
       "      <td>caatinga</td>\n",
       "    </tr>\n",
       "    <tr>\n",
       "      <th>11</th>\n",
       "      <td>MA</td>\n",
       "      <td>1944.432167</td>\n",
       "      <td>387</td>\n",
       "      <td>1</td>\n",
       "      <td>1.0</td>\n",
       "      <td>76.756783</td>\n",
       "      <td>cerrado</td>\n",
       "    </tr>\n",
       "    <tr>\n",
       "      <th>12</th>\n",
       "      <td>MT</td>\n",
       "      <td>1379.320945</td>\n",
       "      <td>134</td>\n",
       "      <td>4</td>\n",
       "      <td>1.0</td>\n",
       "      <td>-42.932094</td>\n",
       "      <td>amazon</td>\n",
       "    </tr>\n",
       "    <tr>\n",
       "      <th>13</th>\n",
       "      <td>PA</td>\n",
       "      <td>672.277906</td>\n",
       "      <td>8</td>\n",
       "      <td>1</td>\n",
       "      <td>1.0</td>\n",
       "      <td>-61.327791</td>\n",
       "      <td>amazon</td>\n",
       "    </tr>\n",
       "    <tr>\n",
       "      <th>14</th>\n",
       "      <td>RN</td>\n",
       "      <td>1017.587695</td>\n",
       "      <td>49</td>\n",
       "      <td>5</td>\n",
       "      <td>1.0</td>\n",
       "      <td>-65.958770</td>\n",
       "      <td>caatinga</td>\n",
       "    </tr>\n",
       "    <tr>\n",
       "      <th>15</th>\n",
       "      <td>MS</td>\n",
       "      <td>1020.636980</td>\n",
       "      <td>42</td>\n",
       "      <td>5</td>\n",
       "      <td>1.0</td>\n",
       "      <td>-71.163698</td>\n",
       "      <td>cerrado</td>\n",
       "    </tr>\n",
       "    <tr>\n",
       "      <th>16</th>\n",
       "      <td>CE</td>\n",
       "      <td>1638.109401</td>\n",
       "      <td>89</td>\n",
       "      <td>12</td>\n",
       "      <td>1.0</td>\n",
       "      <td>-97.910940</td>\n",
       "      <td>caatinga</td>\n",
       "    </tr>\n",
       "    <tr>\n",
       "      <th>17</th>\n",
       "      <td>PB</td>\n",
       "      <td>1489.147641</td>\n",
       "      <td>29</td>\n",
       "      <td>6</td>\n",
       "      <td>1.0</td>\n",
       "      <td>-126.814764</td>\n",
       "      <td>caatinga</td>\n",
       "    </tr>\n",
       "    <tr>\n",
       "      <th>18</th>\n",
       "      <td>PI</td>\n",
       "      <td>1425.161897</td>\n",
       "      <td>12</td>\n",
       "      <td>1</td>\n",
       "      <td>1.0</td>\n",
       "      <td>-133.816190</td>\n",
       "      <td>caatinga</td>\n",
       "    </tr>\n",
       "    <tr>\n",
       "      <th>19</th>\n",
       "      <td>SE</td>\n",
       "      <td>1629.769356</td>\n",
       "      <td>7</td>\n",
       "      <td>2</td>\n",
       "      <td>1.0</td>\n",
       "      <td>-157.476936</td>\n",
       "      <td>caatinga</td>\n",
       "    </tr>\n",
       "    <tr>\n",
       "      <th>20</th>\n",
       "      <td>RO</td>\n",
       "      <td>2345.141833</td>\n",
       "      <td>13</td>\n",
       "      <td>2</td>\n",
       "      <td>1.0</td>\n",
       "      <td>-224.814183</td>\n",
       "      <td>amazon</td>\n",
       "    </tr>\n",
       "    <tr>\n",
       "      <th>21</th>\n",
       "      <td>AM</td>\n",
       "      <td>2327.352004</td>\n",
       "      <td>3</td>\n",
       "      <td>1</td>\n",
       "      <td>1.0</td>\n",
       "      <td>-230.335200</td>\n",
       "      <td>amazon</td>\n",
       "    </tr>\n",
       "  </tbody>\n",
       "</table>\n",
       "</div>"
      ],
      "text/plain": [
       "   판매자 주(state)      고객_평균거리   고객_수  판매자_수  pareto_weight         score   \n",
       "0            SP   543.003331  68234   1783            1.5  48511.849667  \\\n",
       "1            MG   600.793143   7609    233            1.5   5371.070686   \n",
       "2            PR   723.188205   7431    338            1.5   5281.481180   \n",
       "3            RJ   585.989289   4156    167            1.5   2925.751071   \n",
       "4            SC   756.601308   3568    185            1.5   2505.189869   \n",
       "5            RS   989.327922   1906    124            1.5   1291.067208   \n",
       "6            DF   852.505113    805     30            1.0    487.249489   \n",
       "7            BA  1120.804431    563     19            1.0    287.719557   \n",
       "8            GO   850.265202    447     37            1.0    238.973480   \n",
       "9            ES   810.717147    303     23            1.0    137.928285   \n",
       "10           PE  1577.269366    403      9            1.0    127.073063   \n",
       "11           MA  1944.432167    387      1            1.0     76.756783   \n",
       "12           MT  1379.320945    134      4            1.0    -42.932094   \n",
       "13           PA   672.277906      8      1            1.0    -61.327791   \n",
       "14           RN  1017.587695     49      5            1.0    -65.958770   \n",
       "15           MS  1020.636980     42      5            1.0    -71.163698   \n",
       "16           CE  1638.109401     89     12            1.0    -97.910940   \n",
       "17           PB  1489.147641     29      6            1.0   -126.814764   \n",
       "18           PI  1425.161897     12      1            1.0   -133.816190   \n",
       "19           SE  1629.769356      7      2            1.0   -157.476936   \n",
       "20           RO  2345.141833     13      2            1.0   -224.814183   \n",
       "21           AM  2327.352004      3      1            1.0   -230.335200   \n",
       "\n",
       "            지역구분_자연  \n",
       "0   atlantic_forest  \n",
       "1           cerrado  \n",
       "2   atlantic_forest  \n",
       "3   atlantic_forest  \n",
       "4   atlantic_forest  \n",
       "5             pampa  \n",
       "6   atlantic_forest  \n",
       "7          caatinga  \n",
       "8           cerrado  \n",
       "9   atlantic_forest  \n",
       "10         caatinga  \n",
       "11          cerrado  \n",
       "12           amazon  \n",
       "13           amazon  \n",
       "14         caatinga  \n",
       "15          cerrado  \n",
       "16         caatinga  \n",
       "17         caatinga  \n",
       "18         caatinga  \n",
       "19         caatinga  \n",
       "20           amazon  \n",
       "21           amazon  "
      ]
     },
     "execution_count": 241,
     "metadata": {},
     "output_type": "execute_result"
    }
   ],
   "source": [
    "\n",
    "##확실히 덜 발달된 지역(아마존 등)에는 사람(판매자, 고객)도 적게 살겠고, 물류 센터를 설치 안하는게 좋다.\n",
    "## 브라질 자체가 지리적으로 모든 지역이 살기 좋진 않구나. (우리나라와 다름)\n",
    "# 브라질은 주로 열대와 아열대 기후에 속합니다. \n",
    "# 브라질의 주요 대도시인 상파울루 (SP), 리오데자네이로 (RJ), 브라질리아 (DF), 포르투알레그레 (RS) 등은 잘 발달된 인프라와 생활 편의 시설을 제공합니다. 이들 도시에서는 고급 주택, 쇼핑몰, 문화적 활동, 교통 등이 잘 갖춰져 있어 거주하기 편리합니다\n",
    "# 아마존은  생활 여건이 열악하고, 치안과 의료 환경이 취약\n",
    "'''\n",
    "1. Atlantic Forest (아틀란틱 숲)\n",
    "주(state): ['PR','SC','SP','RJ','ES','DF']\n",
    " # 브라질의 주요 대도시인 상파울루 (SP), 리오데자네이로 (RJ), 브라질리아 (DF), 포르투알레그레 (RS) 등은 잘 발달된 인프라와 생활 편의 시설을 제공합니다. 이들 도시에서는 고급 주택, 쇼핑몰, 문화적 활동, 교통 등이 잘 갖춰져 있어 거주하기 편리합니다\n",
    "#  주로 PR, SC, SP, RJ, ES 지역에 해당합니다. 이 지역은 사계절이 뚜렷하고, 여름에는 더운 날씨와 함께 비가 많이 오는 특징이 있습니\n",
    "특징: 브라질의 동쪽 해안선을 따라 펼쳐진 열대 및 아열대 우림 지역입니다. 매우 다양한 생물종이 서식하는 지역으로 알려져 있습니다.\n",
    "\n",
    "2. Cerrado (세라도)\n",
    "주(state):  ['MS','GO','MG','TO','MA']\n",
    "\n",
    "특징: 온화한 기후와 상대적으로 편리한 생활 환경\n",
    "\n",
    "\n",
    "3. Pampa (팜파)\n",
    "주(state): ['RS']\n",
    "특징:  , 주로 농업과 목축업이 중심인 지역.상대적으로 편리한 생활 환경\n",
    "\n",
    "\n",
    "\n",
    "4. Caatinga (카팅가)\n",
    "주(state): ['PI','CE','BA','PE','RN','PB','SE']\n",
    " \n",
    " \n",
    "\n",
    "5. Amazon (아마존)\n",
    "주(state): ['AM','AC','RO','MT','PA','AP','RR']\n",
    " \n",
    "'''\n",
    "\n",
    "## 우선 선택과 집중을. 버릴 지역은 버려야 한다. 모든 지역을 첨부터 커버 xx 아마존, 카팅가는 확실히 버린다.\n",
    "\n",
    "pareto_state_sorted.reset_index(drop=True, inplace=True)\n",
    "pareto_state_sorted"
   ]
  },
  {
   "cell_type": "code",
   "execution_count": 246,
   "metadata": {},
   "outputs": [
    {
     "data": {
      "text/html": [
       "<div>\n",
       "<style scoped>\n",
       "    .dataframe tbody tr th:only-of-type {\n",
       "        vertical-align: middle;\n",
       "    }\n",
       "\n",
       "    .dataframe tbody tr th {\n",
       "        vertical-align: top;\n",
       "    }\n",
       "\n",
       "    .dataframe thead th {\n",
       "        text-align: right;\n",
       "    }\n",
       "</style>\n",
       "<table border=\"1\" class=\"dataframe\">\n",
       "  <thead>\n",
       "    <tr style=\"text-align: right;\">\n",
       "      <th></th>\n",
       "      <th>판매자 주(state)</th>\n",
       "      <th>고객_평균거리</th>\n",
       "      <th>고객_수</th>\n",
       "      <th>판매자_수</th>\n",
       "      <th>pareto_weight</th>\n",
       "      <th>score</th>\n",
       "      <th>지역구분_자연</th>\n",
       "    </tr>\n",
       "  </thead>\n",
       "  <tbody>\n",
       "    <tr>\n",
       "      <th>0</th>\n",
       "      <td>SP</td>\n",
       "      <td>543.003331</td>\n",
       "      <td>68234</td>\n",
       "      <td>1783</td>\n",
       "      <td>1.5</td>\n",
       "      <td>48511.849667</td>\n",
       "      <td>atlantic_forest</td>\n",
       "    </tr>\n",
       "    <tr>\n",
       "      <th>1</th>\n",
       "      <td>MG</td>\n",
       "      <td>600.793143</td>\n",
       "      <td>7609</td>\n",
       "      <td>233</td>\n",
       "      <td>1.5</td>\n",
       "      <td>5371.070686</td>\n",
       "      <td>cerrado</td>\n",
       "    </tr>\n",
       "    <tr>\n",
       "      <th>2</th>\n",
       "      <td>PR</td>\n",
       "      <td>723.188205</td>\n",
       "      <td>7431</td>\n",
       "      <td>338</td>\n",
       "      <td>1.5</td>\n",
       "      <td>5281.481180</td>\n",
       "      <td>atlantic_forest</td>\n",
       "    </tr>\n",
       "    <tr>\n",
       "      <th>3</th>\n",
       "      <td>RJ</td>\n",
       "      <td>585.989289</td>\n",
       "      <td>4156</td>\n",
       "      <td>167</td>\n",
       "      <td>1.5</td>\n",
       "      <td>2925.751071</td>\n",
       "      <td>atlantic_forest</td>\n",
       "    </tr>\n",
       "    <tr>\n",
       "      <th>4</th>\n",
       "      <td>SC</td>\n",
       "      <td>756.601308</td>\n",
       "      <td>3568</td>\n",
       "      <td>185</td>\n",
       "      <td>1.5</td>\n",
       "      <td>2505.189869</td>\n",
       "      <td>atlantic_forest</td>\n",
       "    </tr>\n",
       "  </tbody>\n",
       "</table>\n",
       "</div>"
      ],
      "text/plain": [
       "  판매자 주(state)     고객_평균거리   고객_수  판매자_수  pareto_weight         score   \n",
       "0           SP  543.003331  68234   1783            1.5  48511.849667  \\\n",
       "1           MG  600.793143   7609    233            1.5   5371.070686   \n",
       "2           PR  723.188205   7431    338            1.5   5281.481180   \n",
       "3           RJ  585.989289   4156    167            1.5   2925.751071   \n",
       "4           SC  756.601308   3568    185            1.5   2505.189869   \n",
       "\n",
       "           지역구분_자연  \n",
       "0  atlantic_forest  \n",
       "1          cerrado  \n",
       "2  atlantic_forest  \n",
       "3  atlantic_forest  \n",
       "4  atlantic_forest  "
      ]
     },
     "execution_count": 246,
     "metadata": {},
     "output_type": "execute_result"
    }
   ],
   "source": [
    "pareto_state_sorted.head()\n",
    "\n",
    "'''\n",
    "2. 판매자 밀집도\n",
    "주요 판매자 위치: 판매자가 밀집한 지역에 물류 센터를 설치하면, 재고 관리 및 물류 비용을 절감할 수 있습니다. \n",
    "파레토 법칙(상위 20% 판매자가 대부분의 매출을 차지하는 원칙)에 따라 주요 판매자가 집중된 지역에 우선적으로 물류 센터를 설치하는 전략이 유효할 수 있습니다.\n",
    "'''"
   ]
  },
  {
   "cell_type": "code",
   "execution_count": 275,
   "metadata": {},
   "outputs": [
    {
     "name": "stdout",
     "output_type": "stream",
     "text": [
      "state : SP\n",
      "\n",
      "판매자 도시\n",
      "sao paulo         670\n",
      "ribeirao preto     51\n",
      "guarulhos          48\n",
      "Name: count, dtype: int64\n",
      "---------------------------------\n",
      "파레토법칙결과 : 상\n"
     ]
    },
    {
     "data": {
      "text/plain": [
       "판매자 도시\n",
       "sao paulo    107\n",
       "ibitinga      15\n",
       "guarulhos     11\n",
       "Name: count, dtype: int64"
      ]
     },
     "execution_count": 275,
     "metadata": {},
     "output_type": "execute_result"
    }
   ],
   "source": [
    "# 주 안에서 어떤 도시?\n",
    "## SP\n",
    "print('state : SP')\n",
    "print()\n",
    "print(pareto[pareto['판매자 주(state)'] =='SP']['판매자 도시'].value_counts().head(3))\n",
    "print('---------------------------------')\n",
    "print('파레토법칙결과 : 상')\n",
    "pareto[(pareto['판매자 주(state)'] =='SP') & (pareto['파레토법칙결과'] =='상')]['판매자 도시'].value_counts().head(3)"
   ]
  },
  {
   "cell_type": "code",
   "execution_count": 287,
   "metadata": {},
   "outputs": [
    {
     "name": "stdout",
     "output_type": "stream",
     "text": [
      "=================================\n",
      "state : MG\n",
      "\n",
      "판매자 도시\n",
      "belo horizonte    63\n",
      "contagem          12\n",
      "uberlandia        12\n",
      "Name: count, dtype: int64\n",
      "---------------------------------\n",
      "파레토법칙결과 : 상\n"
     ]
    },
    {
     "data": {
      "text/plain": [
       "판매자 도시\n",
       "belo horizonte    12\n",
       "uba                4\n",
       "betim              3\n",
       "Name: count, dtype: int64"
      ]
     },
     "execution_count": 287,
     "metadata": {},
     "output_type": "execute_result"
    }
   ],
   "source": [
    "# 주 안에서 어떤 도시?\n",
    "## MG\n",
    "print('=================================')\n",
    "print('state : MG')\n",
    "print()\n",
    "print(pareto[pareto['판매자 주(state)'] =='MG']['판매자 도시'].value_counts().head(3))\n",
    "print('---------------------------------')\n",
    "print('파레토법칙결과 : 상')\n",
    "pareto[(pareto['판매자 주(state)'] =='MG') & (pareto['파레토법칙결과'] =='상')]['판매자 도시'].value_counts().head(3)\n"
   ]
  },
  {
   "cell_type": "code",
   "execution_count": 286,
   "metadata": {},
   "outputs": [
    {
     "name": "stdout",
     "output_type": "stream",
     "text": [
      "=================================\n",
      "state : PR\n",
      "\n",
      "판매자 도시\n",
      "curitiba    118\n",
      "maringa      40\n",
      "londrina     22\n",
      "Name: count, dtype: int64\n",
      "---------------------------------\n",
      "파레토법칙결과 : 상\n"
     ]
    },
    {
     "data": {
      "text/plain": [
       "판매자 도시\n",
       "curitiba    20\n",
       "maringa     11\n",
       "londrina     4\n",
       "Name: count, dtype: int64"
      ]
     },
     "execution_count": 286,
     "metadata": {},
     "output_type": "execute_result"
    }
   ],
   "source": [
    "## PR\n",
    "print('=================================')\n",
    "print('state : PR')\n",
    "print()\n",
    "print(pareto[pareto['판매자 주(state)'] =='PR']['판매자 도시'].value_counts().head(3))\n",
    "print('---------------------------------')\n",
    "print('파레토법칙결과 : 상')\n",
    "pareto[(pareto['판매자 주(state)'] =='PR') & (pareto['파레토법칙결과'] =='상')]['판매자 도시'].value_counts().head(3)\n",
    " "
   ]
  },
  {
   "cell_type": "code",
   "execution_count": 283,
   "metadata": {},
   "outputs": [
    {
     "name": "stdout",
     "output_type": "stream",
     "text": [
      "=================================\n",
      "state : RJ\n",
      "\n",
      "판매자 도시\n",
      "rio de janeiro    90\n",
      "sao goncalo        7\n",
      "niteroi            7\n",
      "Name: count, dtype: int64\n",
      "---------------------------------\n",
      "파레토법칙결과 : 상\n"
     ]
    },
    {
     "data": {
      "text/plain": [
       "판매자 도시\n",
       "rio de janeiro    12\n",
       "sao goncalo        3\n",
       "teresopolis        2\n",
       "Name: count, dtype: int64"
      ]
     },
     "execution_count": 283,
     "metadata": {},
     "output_type": "execute_result"
    }
   ],
   "source": [
    "\n",
    "## RJ\n",
    "print('=================================')\n",
    "print('state : RJ')\n",
    "print()\n",
    "print(pareto[pareto['판매자 주(state)'] =='RJ']['판매자 도시'].value_counts().head(3))\n",
    "print('---------------------------------')\n",
    "print('파레토법칙결과 : 상')\n",
    "pareto[(pareto['판매자 주(state)'] =='RJ') & (pareto['파레토법칙결과'] =='상')]['판매자 도시'].value_counts().head(3)\n",
    " "
   ]
  },
  {
   "cell_type": "code",
   "execution_count": 284,
   "metadata": {},
   "outputs": [
    {
     "name": "stdout",
     "output_type": "stream",
     "text": [
      "=================================\n",
      "state : PR\n",
      "\n",
      "판매자 도시\n",
      "curitiba    118\n",
      "maringa      40\n",
      "londrina     22\n",
      "Name: count, dtype: int64\n",
      "---------------------------------\n",
      "파레토법칙결과 : 상\n"
     ]
    },
    {
     "data": {
      "text/plain": [
       "판매자 도시\n",
       "curitiba    20\n",
       "maringa     11\n",
       "londrina     4\n",
       "Name: count, dtype: int64"
      ]
     },
     "execution_count": 284,
     "metadata": {},
     "output_type": "execute_result"
    }
   ],
   "source": [
    "\n",
    "## PR\n",
    "print('=================================')\n",
    "print('state : PR')\n",
    "print()\n",
    "print(pareto[pareto['판매자 주(state)'] =='PR']['판매자 도시'].value_counts().head(3))\n",
    "print('---------------------------------')\n",
    "print('파레토법칙결과 : 상')\n",
    "pareto[(pareto['판매자 주(state)'] =='PR') & (pareto['파레토법칙결과'] =='상')]['판매자 도시'].value_counts().head(3)"
   ]
  },
  {
   "cell_type": "markdown",
   "metadata": {},
   "source": [
    "- 따라서 각 도시의 특징을 고려하여 물류 센터 설치 위치를 결정하는 것이 중요합니다."
   ]
  },
  {
   "cell_type": "code",
   "execution_count": null,
   "metadata": {},
   "outputs": [],
   "source": [
    "'''\n",
    "\n",
    "\n",
    "상파울루 (SP): 경제 중심지로 물류 센터 설치 시 효율적인 물류 운송과 높은 고객 수를 대상으로 한 서비스를 제공할 수 있습니다.\n",
    "벨루오리존치 (MG): 산업 중심지로 내륙 지역에 대한 물류 서비스 강화가 가능하고, 교통망이 잘 연결되어 있습니다.\n",
    "리오데자네이로 (RJ): 항만과 공항 인프라가 발달하여 국제 물류와 해상 물류를 처리하기에 적합합니다.\n",
    "\n",
    "'''"
   ]
  },
  {
   "cell_type": "code",
   "execution_count": null,
   "metadata": {},
   "outputs": [],
   "source": [
    "# https://www.scielo.br/j/pab/a/D9zNwnnWLFXbNWLDYQ9v9Pd/"
   ]
  },
  {
   "cell_type": "code",
   "execution_count": null,
   "metadata": {},
   "outputs": [],
   "source": []
  },
  {
   "cell_type": "code",
   "execution_count": null,
   "metadata": {},
   "outputs": [],
   "source": []
  }
 ],
 "metadata": {
  "kernelspec": {
   "display_name": "Python 3.8.9 64-bit",
   "language": "python",
   "name": "python3"
  },
  "language_info": {
   "codemirror_mode": {
    "name": "ipython",
    "version": 3
   },
   "file_extension": ".py",
   "mimetype": "text/x-python",
   "name": "python",
   "nbconvert_exporter": "python",
   "pygments_lexer": "ipython3",
   "version": "3.8.9"
  },
  "orig_nbformat": 4,
  "vscode": {
   "interpreter": {
    "hash": "31f2aee4e71d21fbe5cf8b01ff0e069b9275f58929596ceb00d14d90e3e16cd6"
   }
  }
 },
 "nbformat": 4,
 "nbformat_minor": 2
}
